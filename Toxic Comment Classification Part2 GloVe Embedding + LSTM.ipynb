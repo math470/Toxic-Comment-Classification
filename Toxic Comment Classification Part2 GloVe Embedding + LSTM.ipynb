{
 "cells": [
  {
   "cell_type": "markdown",
   "metadata": {},
   "source": [
    "# Toxic Comment Classification\n",
    "\n",
    "## Part2: GloVe + LSTM in Keras (in progress)\n",
    "__Global Vectors (GloVe)  and Long Short Term Memory (LSTM) in Keras__"
   ]
  },
  {
   "cell_type": "markdown",
   "metadata": {},
   "source": [
    "This notebook is the second part of Toxic comment classification project. The first part, Part1: Tfidf + Logistic Regression, is the other notebook in this repository. To summarize Part1, I used the Tfidf vectorization to make a feature matrix and applied logistic regressions to predict each type of toxicity separately. The AUC score was .9745 and I did some error anlaysis, which showed some possible improvement.\n",
    "\n",
    "In Part2, I focus on neural network techniques. I will find word embeddings using a neural network layer and the found embeddings (vectors) will be fed to other layers including Long short term memory (LSTM) one. LSTM network is a recurrent neural network that captures long-term dependencies. It is known to be useful for natural language precessing (NLP) and successful at detecting patterns in long texts."
   ]
  },
  {
   "cell_type": "code",
   "execution_count": 5,
   "metadata": {
    "scrolled": true
   },
   "outputs": [],
   "source": [
    "# Import necessary packages\n",
    "import pandas as pd\n",
    "import numpy as np\n",
    "#import codecs, sys, os \n",
    "import matplotlib.pyplot as plt\n",
    "\n",
    "from keras.preprocessing.text import Tokenizer\n",
    "from keras.preprocessing.sequence import pad_sequences\n",
    "from keras.layers import Input,Embedding,Bidirectional,LSTM,GlobalMaxPool1D,Dense,Dropout,Activation\n",
    "from keras.models import Model"
   ]
  },
  {
   "cell_type": "markdown",
   "metadata": {},
   "source": [
    "The data sets are same as before (see Part1 for more descriptions and brief EDA)"
   ]
  },
  {
   "cell_type": "code",
   "execution_count": 6,
   "metadata": {},
   "outputs": [],
   "source": [
    "# Load data sets\n",
    "train = pd.read_csv('train.csv') #training set\n",
    "test = pd.read_csv('test.csv') #test set"
   ]
  },
  {
   "cell_type": "code",
   "execution_count": 7,
   "metadata": {},
   "outputs": [],
   "source": [
    "# comments only\n",
    "train_comment_array = train['comment_text'].values\n",
    "test_comment_array = test['comment_text'].values"
   ]
  },
  {
   "cell_type": "markdown",
   "metadata": {},
   "source": [
    "## Word Embedding"
   ]
  },
  {
   "cell_type": "markdown",
   "metadata": {},
   "source": [
    "I will use pre-trained vectors GloVe (Global vectors) downloaded from https://nlp.stanford.edu/projects/glove/ and they will be further trained using my texts in a neural network."
   ]
  },
  {
   "cell_type": "code",
   "execution_count": 8,
   "metadata": {},
   "outputs": [],
   "source": [
    "# Import pre-trained word vectors, GloVe \n",
    "word_vector_file = 'glove.6B.50d.txt'"
   ]
  },
  {
   "cell_type": "markdown",
   "metadata": {},
   "source": [
    "There are several options for GloVe, but I will try to se the smallest file. 6B.50d means there are 6 billion tokens each represented as a word embedding vector of 50 dimensions."
   ]
  },
  {
   "cell_type": "markdown",
   "metadata": {},
   "source": [
    "For word embedding, I need to decide 3 numbers:\n",
    "- Vocabulary size, i.e., number of words in my vocabulary: __max_feaures__\n",
    "- Number of words in each comment: __maxlen__\n",
    "- Dimension of a word embedding vector: __word_vec_dim__\n",
    "\n",
    "They can be tuned to obtain better results. The value of word_vec_dim should be 50 since I use the above file."
   ]
  },
  {
   "cell_type": "code",
   "execution_count": 9,
   "metadata": {},
   "outputs": [],
   "source": [
    "word_vec_dim =50 # dimension of Glove vector"
   ]
  },
  {
   "cell_type": "markdown",
   "metadata": {},
   "source": [
    "Before comments are fed to my neural networks, each comment needs to be tokenized and transformed to a sequence of numbers each representing a word. I decided to make the vocabulary of size 20000 by convention."
   ]
  },
  {
   "cell_type": "code",
   "execution_count": 10,
   "metadata": {},
   "outputs": [],
   "source": [
    "max_features = 20000 # number of words in my vocabulary"
   ]
  },
  {
   "cell_type": "code",
   "execution_count": 11,
   "metadata": {},
   "outputs": [],
   "source": [
    "tokenizer = Tokenizer(num_words = max_features)\n",
    "tokenizer.fit_on_texts(list(train_comment_array)+list(test_comment_array)) #input: list of texts to train on"
   ]
  },
  {
   "cell_type": "code",
   "execution_count": 12,
   "metadata": {},
   "outputs": [
    {
     "data": {
      "text/plain": [
       "312735"
      ]
     },
     "execution_count": 12,
     "metadata": {},
     "output_type": "execute_result"
    }
   ],
   "source": [
    "tokenizer.document_count # number of documents (train + test)"
   ]
  },
  {
   "cell_type": "code",
   "execution_count": 13,
   "metadata": {},
   "outputs": [
    {
     "name": "stdout",
     "output_type": "stream",
     "text": [
      "The most frequent 10 words: [('the', 1), ('to', 2), ('of', 3), ('a', 4), ('and', 5), ('you', 6), ('i', 7), ('is', 8), ('that', 9), ('in', 10)]\n",
      "Number of unique words: 394787\n"
     ]
    }
   ],
   "source": [
    "# Dictionary of word to index (index for this particular data)\n",
    "word_to_index = tokenizer.word_index\n",
    "print(\"The most frequent 10 words:\",list(word_to_index.items())[:10] )\n",
    "print(\"Number of unique words:\",len(word_to_index))"
   ]
  },
  {
   "cell_type": "markdown",
   "metadata": {},
   "source": [
    "word_to_index is the dictionary of word (key): index (value) pairs. There are 394787 unique words in my data set. "
   ]
  },
  {
   "cell_type": "code",
   "execution_count": 14,
   "metadata": {},
   "outputs": [
    {
     "data": {
      "text/plain": [
       "1"
      ]
     },
     "execution_count": 14,
     "metadata": {},
     "output_type": "execute_result"
    }
   ],
   "source": [
    "min(list(word_to_index.values())) # index starts from 1 (not 0)"
   ]
  },
  {
   "cell_type": "markdown",
   "metadata": {},
   "source": [
    "Note that the index for word starts from 1, not 0."
   ]
  },
  {
   "cell_type": "code",
   "execution_count": 15,
   "metadata": {},
   "outputs": [
    {
     "data": {
      "text/plain": [
       "[('walton', 31),\n",
       " ('fragile', 31),\n",
       " (\"'new\", 31),\n",
       " ('spacex', 31),\n",
       " ('skimming', 31),\n",
       " ('riddle', 31),\n",
       " ('pag', 31),\n",
       " ('demonstrators', 31),\n",
       " ('gaa', 31),\n",
       " ('pogroms', 31)]"
      ]
     },
     "execution_count": 15,
     "metadata": {},
     "output_type": "execute_result"
    }
   ],
   "source": [
    "word_to_count = tokenizer.word_counts\n",
    "[(word, word_to_count[word]) for word,__  in list(word_to_index.items())[19990:20000]]"
   ]
  },
  {
   "cell_type": "markdown",
   "metadata": {},
   "source": [
    "These are the least frequent 10 words and their frequencies in my vocabulary of size 20000. The frequencies are pretty negligible comparing to other frequent words, so 20000 seems to be not too small (also not too big to handle). "
   ]
  },
  {
   "cell_type": "code",
   "execution_count": 16,
   "metadata": {},
   "outputs": [],
   "source": [
    "#tokenizer.word_docs # dictionary mapping words to the number of documents that have the words"
   ]
  },
  {
   "cell_type": "markdown",
   "metadata": {},
   "source": [
    "Now let's transform each comment to a sequence of word indices."
   ]
  },
  {
   "cell_type": "code",
   "execution_count": 17,
   "metadata": {},
   "outputs": [],
   "source": [
    "# List of index sequence each representing a comment\n",
    "train_comment_seq = tokenizer.texts_to_sequences(train_comment_array)\n",
    "test_comment_seq = tokenizer.texts_to_sequences(test_comment_array)"
   ]
  },
  {
   "cell_type": "markdown",
   "metadata": {},
   "source": [
    "The number of words in each comment should be fixed as maxlen in order to be fed to a neural network. Comments longer than maxlen will be truncated and comments shorter than maxlen will be padded with zero. To decide maxlen, I will investigate the distribution of word counts in comments."
   ]
  },
  {
   "cell_type": "code",
   "execution_count": 18,
   "metadata": {},
   "outputs": [
    {
     "data": {
      "image/png": "[encoded data removed]",
      "text/plain": [
       "<Figure size 432x288 with 1 Axes>"
      ]
     },
     "metadata": {},
     "output_type": "display_data"
    }
   ],
   "source": [
    "lengths = np.vectorize(len)\n",
    "num_words = lengths(train_comment_seq)\n",
    "plt.hist(num_words, bins=50, edgecolor='b')\n",
    "plt.show()"
   ]
  },
  {
   "cell_type": "code",
   "execution_count": 19,
   "metadata": {},
   "outputs": [
    {
     "data": {
      "image/png": "[encoded data removed]",
      "text/plain": [
       "<Figure size 432x288 with 1 Axes>"
      ]
     },
     "metadata": {},
     "output_type": "display_data"
    }
   ],
   "source": [
    "pd.DataFrame(num_words, columns=[' ']).boxplot()\n",
    "plt.ylabel('Word counts in comments')\n",
    "plt.show()"
   ]
  },
  {
   "cell_type": "markdown",
   "metadata": {},
   "source": [
    "Although the number of words reaches around 1400, the outliers start before 200 words and the box does not reach even 100 words. Thus, I tried both 200 and 100 for maxlen and 200 maxlen did not improve the performance much while 200 takes much longer than 100 maxlen. Therefore, I decided to use 100 for my final report, but again the number can be further tuned for better results."
   ]
  },
  {
   "cell_type": "code",
   "execution_count": 20,
   "metadata": {},
   "outputs": [],
   "source": [
    "maxlen = 100 # fixed number of words in each comment"
   ]
  },
  {
   "cell_type": "code",
   "execution_count": 21,
   "metadata": {},
   "outputs": [],
   "source": [
    "# Truncate and pad (with zeros) to make equal size comments\n",
    "train_comment_seq_pad = pad_sequences(train_comment_seq, maxlen = maxlen, padding='post', truncating='post' )\n",
    "test_comment_seq_pad = pad_sequences(test_comment_seq, maxlen = maxlen, padding='post', truncating='post' )"
   ]
  },
  {
   "cell_type": "markdown",
   "metadata": {},
   "source": [
    "Actually, padding='pre', truncating='pre' are default values. I tried the combination of padding='pre', truncating='post' (with maxlen = 200), but they gave pretty similar results.\n",
    "\n",
    "Now it is time to make the embedding matrix. The GloVe txt file has data like this 'the 0.418 0.24968 -0.41242 0.1217 ...' for the token 'the'. To separate the first item, the word 'the', from the rest, a sequence of numbers representing the word vector for 'the', I need a helper function get_word_vec."
   ]
  },
  {
   "cell_type": "code",
   "execution_count": 22,
   "metadata": {},
   "outputs": [],
   "source": [
    "def get_word_vec(word,*vec): \n",
    "    return word, np.asarray(vec, dtype='float32')"
   ]
  },
  {
   "cell_type": "code",
   "execution_count": 23,
   "metadata": {},
   "outputs": [],
   "source": [
    "# Make a dictionary mapping a word to its GloVe vector (encoding=\"utf8\" removed the error) \n",
    "word_to_vec = dict(get_word_vec(*item.strip().split()) for item in open(word_vector_file, encoding=\"utf8\"))"
   ]
  },
  {
   "cell_type": "markdown",
   "metadata": {},
   "source": [
    "I will initialize an embedding matrix as a numpy array of shape (max_features, word_vec_dim) with random numbers from a normal distribution. The normal distribution has mean and standard deviation of word_to_vec values aggregated across all vectors. By this way of initialization, new words not among the pretrained words can have word vectors similar to those of pretrained words before being trained here. I assumed max_feaures is less than or equal to the number of unique words in texts since max_feaures = 20000 and len(word_to_index) = 394787 in my data set. The words in the embedding matrix will be ordered as in the words in word_to_index."
   ]
  },
  {
   "cell_type": "code",
   "execution_count": 24,
   "metadata": {},
   "outputs": [
    {
     "data": {
      "text/plain": [
       "(0.020940498, 0.6441043)"
      ]
     },
     "execution_count": 24,
     "metadata": {},
     "output_type": "execute_result"
    }
   ],
   "source": [
    "# check mean and std of aggregated values of word_to_vec\n",
    "np.stack(word_to_vec.values()).mean(), np.stack(word_to_vec.values()).std()"
   ]
  },
  {
   "cell_type": "code",
   "execution_count": 25,
   "metadata": {},
   "outputs": [],
   "source": [
    "# Make embedding matrix\n",
    "embed_matrix = np.random.normal(np.stack(word_to_vec.values()).mean(), \n",
    "                                np.stack(word_to_vec.values()).std(),\n",
    "                               (max_features, word_vec_dim))\n",
    "\n",
    "for word, idx in word_to_index.items():\n",
    "    if idx > max_features: # index idx starts from 1 (not 0) in word_to_index\n",
    "        break\n",
    "    vec = word_to_vec.get(word, None) # need get() to get None for the case word is not in keys\n",
    "    if vec is not None:\n",
    "        embed_matrix[idx-1] = vec"
   ]
  },
  {
   "cell_type": "markdown",
   "metadata": {},
   "source": [
    "## LSTM"
   ]
  },
  {
   "cell_type": "code",
   "execution_count": 105,
   "metadata": {},
   "outputs": [],
   "source": [
    "categories =['toxic', 'severe_toxic', 'obscene', 'threat', 'insult', 'identity_hate']"
   ]
  },
  {
   "cell_type": "code",
   "execution_count": 108,
   "metadata": {},
   "outputs": [
    {
     "data": {
      "text/plain": [
       "array([[0, 0, 0, 0, 0, 0],\n",
       "       [0, 0, 0, 0, 0, 0],\n",
       "       [0, 0, 0, 0, 0, 0],\n",
       "       ...,\n",
       "       [0, 0, 0, 0, 0, 0],\n",
       "       [0, 0, 0, 0, 0, 0],\n",
       "       [0, 0, 0, 0, 0, 0]], dtype=int64)"
      ]
     },
     "execution_count": 108,
     "metadata": {},
     "output_type": "execute_result"
    }
   ],
   "source": [
    "# Labels of training set\n",
    "labels = train[categories].values\n",
    "labels"
   ]
  },
  {
   "cell_type": "markdown",
   "metadata": {},
   "source": [
    "### Model1"
   ]
  },
  {
   "cell_type": "markdown",
   "metadata": {},
   "source": [
    "This model is based from a Kaggle kernel https://www.kaggle.com/jhoward/improved-lstm-baseline-glove-dropout."
   ]
  },
  {
   "cell_type": "code",
   "execution_count": 111,
   "metadata": {},
   "outputs": [],
   "source": [
    "# Model with Bidirectional LSTM(50)+dropout(0.1) + GlobalMaxPool1D + Dense(50 & 6)\n",
    "\n",
    "# Define comment_sequences as input of the model\n",
    "comment_sequences = Input(shape=(maxlen,))\n",
    "# Propagate comment_sequences through embedding layer and output the embeddings\n",
    "X = Embedding(max_features, word_vec_dim, weights=[embed_matrix])(comment_sequences)\n",
    "# Propagate the embeddings through Bi-LSTM layer with 50 dimensional hidden state\n",
    "# Add dropouts for both directions (rate can be tuned)\n",
    "X = Bidirectional(LSTM(50, return_sequences= True, dropout= 0.1, recurrent_dropout= 0.1))(X)\n",
    "# Apply Global max pooling for temporal data of 3D tensor and output 2D tensor without temporal dim\n",
    "X = GlobalMaxPool1D()(X)\n",
    "# Propagate X through a Dense layer to output a batch of 50 dim vectors\n",
    "X = Dense(50, activation= \"relu\")(X) \n",
    "# Add dropouts\n",
    "X = Dropout(0.1)(X) \n",
    "# Propagate X through a Dense layer to output a batch of 6 dim vectors ( 1 dim for each category)\n",
    "# Add sigmoid activation to get probability between 0 and 1 for each cateogry\n",
    "X = Dense(6, activation= \"sigmoid\")(X)\n",
    "# Create Model which converts input comment_sequences into output X\n",
    "model = Model(inputs= comment_sequences, outputs= X)\n",
    "# Compile the model with binary crossentropy loss function and adaptive momentum optimizer\n",
    "model.compile(loss= 'binary_crossentropy', optimizer= 'adam', metrics= ['accuracy'])"
   ]
  },
  {
   "cell_type": "markdown",
   "metadata": {},
   "source": [
    "There are many tunable hyperparameters like dropout rates, activation functions, dimensions of LSTM and  dense layer, optimizers. Although we need AUC, we cannot choose AUC for metrics since AUC cannot be accumulated in mini batches. If necessary, AUC has to be computed using all data."
   ]
  },
  {
   "cell_type": "code",
   "execution_count": 113,
   "metadata": {
    "scrolled": true
   },
   "outputs": [
    {
     "name": "stdout",
     "output_type": "stream",
     "text": [
      "Train on 143613 samples, validate on 15958 samples\n",
      "Epoch 1/2\n",
      "143613/143613 [==============================] - 328s 2ms/step - loss: 0.0635 - acc: 0.9783 - val_loss: 0.0502 - val_acc: 0.9820\n",
      "Epoch 2/2\n",
      "143613/143613 [==============================] - 327s 2ms/step - loss: 0.0459 - acc: 0.9830 - val_loss: 0.0502 - val_acc: 0.9817\n",
      "Wall time: 10min 55s\n"
     ]
    },
    {
     "data": {
      "text/plain": [
       "<keras.callbacks.History at 0x136939b2ba8>"
      ]
     },
     "execution_count": 113,
     "metadata": {},
     "output_type": "execute_result"
    }
   ],
   "source": [
    "%%time\n",
    "model.fit(train_comment_seq_pad, labels, batch_size=32, epochs=2, validation_split=0.1)"
   ]
  },
  {
   "cell_type": "code",
   "execution_count": 117,
   "metadata": {},
   "outputs": [
    {
     "name": "stdout",
     "output_type": "stream",
     "text": [
      "153164/153164 [==============================] - 39s 257us/step\n"
     ]
    }
   ],
   "source": [
    "# Make predictions for test set\n",
    "prob_predictions = model.predict([test_comment_seq_pad], batch_size=1024, verbose=1)"
   ]
  },
  {
   "cell_type": "code",
   "execution_count": 136,
   "metadata": {},
   "outputs": [],
   "source": [
    "# submission\n",
    "submission = pd.read_csv('sample_submission.csv')\n",
    "submission[categories]= prob_predictions #can enter multiple columns at once if columns are already there\n",
    "submission.to_csv('submission_LSTM1.csv', index=False)"
   ]
  },
  {
   "cell_type": "markdown",
   "metadata": {},
   "source": [
    "The only way to check performance on the test set is submitting my predictions to the leader board (LB) on Kaggle, so I prepared the submisison file and submitted.\n",
    "\n",
    "LB AUC: 0.9704 \n",
    "\n",
    "This is slighly worse than Tfidf + Logistic regression model (.9745) in Part1."
   ]
  },
  {
   "cell_type": "markdown",
   "metadata": {},
   "source": [
    "### Model2"
   ]
  },
  {
   "cell_type": "markdown",
   "metadata": {},
   "source": [
    "Here I check if not training the pretrained embedding vectors (trainable= False) improves the performance."
   ]
  },
  {
   "cell_type": "code",
   "execution_count": 148,
   "metadata": {},
   "outputs": [
    {
     "name": "stdout",
     "output_type": "stream",
     "text": [
      "Train on 143613 samples, validate on 15958 samples\n",
      "Epoch 1/2\n",
      "143613/143613 [==============================] - 244s 2ms/step - loss: 0.1043 - acc: 0.9692 - val_loss: 0.0895 - val_acc: 0.9727\n",
      "Epoch 2/2\n",
      "143613/143613 [==============================] - 240s 2ms/step - loss: 0.0779 - acc: 0.9755 - val_loss: 0.0732 - val_acc: 0.9763\n",
      "Wall time: 8min 7s\n"
     ]
    }
   ],
   "source": [
    "%%time\n",
    "# same as model1 except for trainable = False\n",
    "comment_sequences = Input(shape=(maxlen,))\n",
    "X = Embedding(max_features, word_vec_dim, weights=[embed_matrix], trainable= False)(comment_sequences)\n",
    "X = Bidirectional(LSTM(50, return_sequences= True, dropout= 0.1, recurrent_dropout= 0.1))(X)\n",
    "X = GlobalMaxPool1D()(X)\n",
    "X = Dense(50, activation= \"relu\")(X)\n",
    "X = Dropout(0.1)(X)\n",
    "X = Dense(6, activation= \"sigmoid\")(X)\n",
    "model = Model(inputs= comment_sequences, outputs= X)\n",
    "model.compile(loss= 'binary_crossentropy', optimizer= 'adam', metrics= ['accuracy'])\n",
    "\n",
    "model.fit(train_comment_seq_pad, labels, batch_size=32, epochs=2, validation_split=0.1)"
   ]
  },
  {
   "cell_type": "code",
   "execution_count": 149,
   "metadata": {},
   "outputs": [
    {
     "name": "stdout",
     "output_type": "stream",
     "text": [
      "153164/153164 [==============================] - 50s 328us/step\n"
     ]
    }
   ],
   "source": [
    "# Make predictions for test set\n",
    "prob_predictions = model.predict([test_comment_seq_pad], batch_size=1024, verbose=1)\n",
    "\n",
    "# submission\n",
    "submission = pd.read_csv('sample_submission.csv')\n",
    "submission[categories]= prob_predictions #can enter multiple columns at once if columns are already there\n",
    "submission.to_csv('submission_LSTM4.csv', index=False)"
   ]
  },
  {
   "cell_type": "markdown",
   "metadata": {},
   "source": [
    "LB AUC: 0.9211 (\n",
    "\n",
    "This is much worse than the trainable embedding layer (Model1)!"
   ]
  },
  {
   "cell_type": "markdown",
   "metadata": {},
   "source": [
    "### Model3 "
   ]
  },
  {
   "cell_type": "markdown",
   "metadata": {},
   "source": [
    "Here I try a different architecture that I used for another NLP project where I predicted emotion from senetences. The key differences in this model: \n",
    "\n",
    "- LSTM instead of Bidirectional LSTM\n",
    "- LSTM has the higher dimension (128) for hidden state \n",
    "- Higher dropout rates (.5)\n",
    "- Repeat the above steps twice\n",
    "- Only one necessary Dense layer with dimension 6"
   ]
  },
  {
   "cell_type": "code",
   "execution_count": 145,
   "metadata": {},
   "outputs": [
    {
     "name": "stdout",
     "output_type": "stream",
     "text": [
      "Train on 143613 samples, validate on 15958 samples\n",
      "Epoch 1/2\n",
      "143613/143613 [==============================] - 521s 4ms/step - loss: 0.1004 - acc: 0.9709 - val_loss: 0.0567 - val_acc: 0.9804\n",
      "Epoch 2/2\n",
      "143613/143613 [==============================] - 526s 4ms/step - loss: 0.0529 - acc: 0.9815 - val_loss: 0.0525 - val_acc: 0.9810\n",
      "Wall time: 17min 29s\n"
     ]
    }
   ],
   "source": [
    "%%time\n",
    "# not bidirectional LSTM(128)+dropout(0.5) twice \n",
    "comment_sequences = Input(shape=(maxlen,))\n",
    "X = Embedding(max_features, word_vec_dim, weights=[embed_matrix])(comment_sequences)\n",
    "X = LSTM(128, return_sequences= True)(X)\n",
    "X = Dropout(rate=.5)(X)\n",
    "X = LSTM(128, return_sequences = False)(X)\n",
    "X = Dropout(rate=.5)(X)\n",
    "X = Dense(6, activation= \"sigmoid\")(X)\n",
    "\n",
    "model = Model(inputs= comment_sequences, outputs= X)\n",
    "model.compile(loss= 'binary_crossentropy', optimizer= 'adam', metrics= ['accuracy'])\n",
    "\n",
    "model.fit(train_comment_seq_pad, labels, batch_size=32, epochs=2, validation_split=0.1)"
   ]
  },
  {
   "cell_type": "code",
   "execution_count": 146,
   "metadata": {},
   "outputs": [
    {
     "name": "stdout",
     "output_type": "stream",
     "text": [
      "153164/153164 [==============================] - 95s 619us/step\n"
     ]
    }
   ],
   "source": [
    "# Make predictions for test set\n",
    "prob_predictions = model.predict([test_comment_seq_pad], batch_size=1024, verbose=1)\n",
    "\n",
    "# submission\n",
    "submission = pd.read_csv('sample_submission.csv')\n",
    "submission[categories]= prob_predictions #can enter multiple columns at once if columns are already there\n",
    "submission.to_csv('submission_LSTM3.csv', index=False)"
   ]
  },
  {
   "cell_type": "markdown",
   "metadata": {},
   "source": [
    "LB AUC: 0.9564 \n",
    "\n",
    "Unfortunately, this model is worse than model1. However, again there are many tunable hyperparameters that can improve this architecture."
   ]
  },
  {
   "cell_type": "markdown",
   "metadata": {},
   "source": [
    "## Simple Ensemble: Logistic Regression with Tfidf & LSTM with GloVe"
   ]
  },
  {
   "cell_type": "markdown",
   "metadata": {},
   "source": [
    "I will try a very simple ensemble model."
   ]
  },
  {
   "cell_type": "code",
   "execution_count": 153,
   "metadata": {},
   "outputs": [],
   "source": [
    "pred_LR = pd.read_csv('submission.csv') #AUC=.9745 (from Part1 notebook)\n",
    "pred_LSTM = pd.read_csv('submission_LSTM1.csv') #AUC=.9704 (model1 in this notebook)"
   ]
  },
  {
   "cell_type": "code",
   "execution_count": 151,
   "metadata": {},
   "outputs": [],
   "source": [
    "pred_Emsemble = (pred_LR[categories].values + pred_LR[categories].values)/2\n",
    "\n",
    "submission = pd.read_csv('sample_submission.csv')\n",
    "submission[categories]= pred_Emsemble #can enter multiple columns at once if columns are already there\n",
    "submission.to_csv('submission_LR_LSTM.csv', index=False)"
   ]
  },
  {
   "cell_type": "markdown",
   "metadata": {},
   "source": [
    "LB AUC: 0.9744 (not better than Logistic Regression with Tfidf only) \n",
    "\n",
    "It is possible that the two model predictions are high correlated and that's why this ensemble does not perform better than the logistic regression model. Let me check the correlations for each category."
   ]
  },
  {
   "cell_type": "code",
   "execution_count": 161,
   "metadata": {},
   "outputs": [
    {
     "name": "stdout",
     "output_type": "stream",
     "text": [
      "Correlation between two model predictions:\n",
      "toxic\n",
      "0.9149\n",
      "severe_toxic\n",
      "0.7793\n",
      "obscene\n",
      "0.9185\n",
      "threat\n",
      "0.2988\n",
      "insult\n",
      "0.8697\n",
      "identity_hate\n",
      "0.6699\n"
     ]
    }
   ],
   "source": [
    "# check correlation between the two model predictions\n",
    "print('Correlation between two model predictions:') \n",
    "correl = []\n",
    "for category in categories:\n",
    "    corr = np.corrcoef(pred_LR[category], pred_LSTM[category])[0,1]\n",
    "    correl.append(corr)\n",
    "    print(category)\n",
    "    print(\"%0.4f\"%corr)"
   ]
  },
  {
   "cell_type": "markdown",
   "metadata": {},
   "source": [
    "The correlation coefficients between two model predictions are pretty high except for threat (less than .3). In particular, the correlations for each of toxic, obsecene, and insult are very high (over .85). This remids me of that I tuned the hyperparameters for the logistic regression model for each category. There I found less regularization is required for more unbalanced categories. The above correlations seem to correlated with the level of imbalances. "
   ]
  },
  {
   "cell_type": "code",
   "execution_count": 165,
   "metadata": {},
   "outputs": [
    {
     "data": {
      "text/plain": [
       "array([0.09584448, 0.00999555, 0.05294822, 0.00299553, 0.04936361,\n",
       "       0.00880486])"
      ]
     },
     "execution_count": 165,
     "metadata": {},
     "output_type": "execute_result"
    }
   ],
   "source": [
    "# proportions of toxic comments for each category\n",
    "positive_rate = labels.mean(axis=0)\n",
    "positive_rate"
   ]
  },
  {
   "cell_type": "code",
   "execution_count": 172,
   "metadata": {},
   "outputs": [
    {
     "data": {
      "text/plain": [
       "SpearmanrResult(correlation=0.942857142857143, pvalue=0.004804664723032055)"
      ]
     },
     "execution_count": 172,
     "metadata": {},
     "output_type": "execute_result"
    }
   ],
   "source": [
    "# rank order correlation between two model correlations and proportions of toxic comments\n",
    "import scipy.stats as stats\n",
    "stats.spearmanr(correl, positive_rate)"
   ]
  },
  {
   "cell_type": "markdown",
   "metadata": {},
   "source": [
    "This high correlation could be from poor performances of LSTM for some categories. Thus, I will now check performances of the LSTM model separately for each category. Then, I will apply different levels of regularization or even different architectures for different categories to improve the overall performance.\n",
    "\n",
    "First, I will fit the model for each category to see if this improves the performance."
   ]
  },
  {
   "cell_type": "code",
   "execution_count": 197,
   "metadata": {},
   "outputs": [
    {
     "name": "stdout",
     "output_type": "stream",
     "text": [
      "### Fitting for toxic ###\n",
      "Train on 143613 samples, validate on 15958 samples\n",
      "Epoch 1/2\n",
      "143613/143613 [==============================] - 342s 2ms/step - loss: 0.1509 - acc: 0.9480 - val_loss: 0.1057 - val_acc: 0.9615\n",
      "Epoch 2/2\n",
      "143613/143613 [==============================] - 337s 2ms/step - loss: 0.0937 - acc: 0.9651 - val_loss: 0.0987 - val_acc: 0.9641\n",
      "153164/153164 [==============================] - 54s 351us/step\n",
      "### Fitting for severe_toxic ###\n",
      "Train on 143613 samples, validate on 15958 samples\n",
      "Epoch 1/2\n",
      "143613/143613 [==============================] - 341s 2ms/step - loss: 0.0318 - acc: 0.9900 - val_loss: 0.0217 - val_acc: 0.9910\n",
      "Epoch 2/2\n",
      "143613/143613 [==============================] - 337s 2ms/step - loss: 0.0216 - acc: 0.9909 - val_loss: 0.0208 - val_acc: 0.9914\n",
      "153164/153164 [==============================] - 54s 354us/step\n",
      "### Fitting for obscene ###\n",
      "Train on 143613 samples, validate on 15958 samples\n",
      "Epoch 1/2\n",
      "143613/143613 [==============================] - 344s 2ms/step - loss: 0.0873 - acc: 0.9727 - val_loss: 0.0628 - val_acc: 0.9796\n",
      "Epoch 2/2\n",
      "143613/143613 [==============================] - 342s 2ms/step - loss: 0.0486 - acc: 0.9820 - val_loss: 0.0556 - val_acc: 0.9799\n",
      "153164/153164 [==============================] - 57s 372us/step\n",
      "### Fitting for threat ###\n",
      "Train on 143613 samples, validate on 15958 samples\n",
      "Epoch 1/2\n",
      "143613/143613 [==============================] - 351s 2ms/step - loss: 0.0159 - acc: 0.9970 - val_loss: 0.0097 - val_acc: 0.9969\n",
      "Epoch 2/2\n",
      "143613/143613 [==============================] - 344s 2ms/step - loss: 0.0079 - acc: 0.9973 - val_loss: 0.0084 - val_acc: 0.9969\n",
      "153164/153164 [==============================] - 58s 381us/step\n",
      "### Fitting for insult ###\n",
      "Train on 143613 samples, validate on 15958 samples\n",
      "Epoch 1/2\n",
      "143613/143613 [==============================] - 348s 2ms/step - loss: 0.0959 - acc: 0.9678 - val_loss: 0.0716 - val_acc: 0.9726\n",
      "Epoch 2/2\n",
      "143613/143613 [==============================] - 341s 2ms/step - loss: 0.0614 - acc: 0.9759 - val_loss: 0.0686 - val_acc: 0.9723\n",
      "153164/153164 [==============================] - 61s 401us/step\n",
      "### Fitting for identity_hate ###\n",
      "Train on 143613 samples, validate on 15958 samples\n",
      "Epoch 1/2\n",
      "143613/143613 [==============================] - 353s 2ms/step - loss: 0.0360 - acc: 0.9912 - val_loss: 0.0263 - val_acc: 0.9914\n",
      "Epoch 2/2\n",
      "143613/143613 [==============================] - 342s 2ms/step - loss: 0.0210 - acc: 0.9927 - val_loss: 0.0268 - val_acc: 0.9920\n",
      "153164/153164 [==============================] - 61s 396us/step\n"
     ]
    }
   ],
   "source": [
    "submission = pd.read_csv('sample_submission.csv')\n",
    "\n",
    "for category in categories:\n",
    "    comment_sequences = Input(shape=(maxlen,))\n",
    "    X = Embedding(max_features, word_vec_dim, weights=[embed_matrix])(comment_sequences)\n",
    "    X = Bidirectional(LSTM(50, return_sequences= True, dropout= 0.1, recurrent_dropout= 0.1))(X)\n",
    "    X = GlobalMaxPool1D()(X)\n",
    "    X = Dense(50, activation= \"relu\")(X)\n",
    "    X = Dropout(0.1)(X)\n",
    "    X = Dense(1, activation= \"sigmoid\")(X)\n",
    "    model = Model(inputs= comment_sequences, outputs= X)\n",
    "    model.compile(loss= 'binary_crossentropy', optimizer= 'adam', metrics= ['accuracy'])  \n",
    "    print(\"### Fitting for {} ###\".format(category))\n",
    "    model.fit(train_comment_seq_pad, train[category], batch_size=32, epochs=2, validation_split=0.1)\n",
    "    submission[category] = model.predict([test_comment_seq_pad], batch_size=1024, verbose=1)\n",
    "    \n",
    "submission.to_csv('submission_LSTM5.csv', index=False)"
   ]
  },
  {
   "cell_type": "markdown",
   "metadata": {},
   "source": [
    "LB AUC: .9755\n",
    "\n",
    "This is better than all of the previous models I tried including LSTM model1 above and logistic regression model in Part1."
   ]
  },
  {
   "cell_type": "code",
   "execution_count": 182,
   "metadata": {},
   "outputs": [
    {
     "data": {
      "text/plain": [
       "0.9938879274682488"
      ]
     },
     "execution_count": 182,
     "metadata": {},
     "output_type": "execute_result"
    }
   ],
   "source": [
    "# check if auc for the last category identity hate is also that high\n",
    "from sklearn import metrics\n",
    "pred = model.predict([train_comment_seq_pad], batch_size=1024, verbose=1) #for identity hate\n",
    "y = train['identity_hate']\n",
    "fpr, tpr, thresholds = metrics.roc_curve(y, pred, pos_label=1)\n",
    "metrics.auc(fpr, tpr)\n",
    "# Yes, AUC is very high just like accuracy for identity hate"
   ]
  },
  {
   "cell_type": "markdown",
   "metadata": {},
   "source": [
    "It seems the Glove+LSMT model is especially better than Tfidf+LR model for more severely unbalanced categories (accuracy > .99). Thus, I will use the predictions by Tfidf+LR for toxic, obscene, and insult categories and predictions by GloVe+LSMT for severe toxic, threat, and identity hate categories and see if this combined prediction improves AUC. "
   ]
  },
  {
   "cell_type": "code",
   "execution_count": 198,
   "metadata": {},
   "outputs": [],
   "source": [
    "pred_LR = pd.read_csv('submission.csv') #AUC=.9745 (from Part1 notebook)\n",
    "pred_LSTM = pd.read_csv('submission_LSTM5.csv') #AUC=.9755 \n",
    "\n",
    "submission = pd.read_csv('sample_submission.csv')\n",
    "\n",
    "submission['toxic']= pred_LR['toxic']\n",
    "submission['severe_toxic']= pred_LSTM['severe_toxic']\n",
    "submission['obscene']= pred_LR['obscene']\n",
    "submission['threat']= pred_LSTM['threat']\n",
    "submission['insult']= pred_LR['insult']\n",
    "submission['identity_hate']= pred_LSTM['identity_hate']\n",
    "\n",
    "submission.to_csv('submission_LR_LSTM_3.csv', index=False)"
   ]
  },
  {
   "cell_type": "markdown",
   "metadata": {},
   "source": [
    "LB AUC: 0.9751 (not better than LSTM only)"
   ]
  },
  {
   "cell_type": "markdown",
   "metadata": {},
   "source": [
    "I will try the simple ensemble model I tried above since the LSTM model was improved by fitting each category."
   ]
  },
  {
   "cell_type": "code",
   "execution_count": 200,
   "metadata": {},
   "outputs": [],
   "source": [
    "pred_Emsemble = (pred_LR[categories].values + pred_LR[categories].values)/2\n",
    "\n",
    "submission = pd.read_csv('sample_submission.csv')\n",
    "submission[categories]= pred_Emsemble #can enter multiple columns at once if columns are already there\n",
    "submission.to_csv('submission_LR_LSTM_5.csv', index=False)"
   ]
  },
  {
   "cell_type": "markdown",
   "metadata": {},
   "source": [
    "LB AUC: 0.9744 (not better than LSTM only)"
   ]
  },
  {
   "cell_type": "markdown",
   "metadata": {},
   "source": [
    "The categories severe toxic, threat, and identity hate are also those with lower correlations between the two models, so the simple ensemble model might work only for those categories."
   ]
  },
  {
   "cell_type": "code",
   "execution_count": 199,
   "metadata": {},
   "outputs": [],
   "source": [
    "submission = pd.read_csv('sample_submission.csv')\n",
    "\n",
    "submission['toxic']= pred_LR['toxic']\n",
    "submission['severe_toxic']= (pred_LR['severe_toxic']+pred_LSTM['severe_toxic'])/2\n",
    "submission['obscene']= pred_LR['obscene']\n",
    "submission['threat']= (pred_LR['threat']+pred_LSTM['threat'])/2\n",
    "submission['insult']= pred_LR['insult']\n",
    "submission['identity_hate']= (pred_LR['identity_hate']+pred_LSTM['identity_hate'])/2\n",
    "\n",
    "submission.to_csv('submission_LR_LSTM_4.csv', index=False)"
   ]
  },
  {
   "cell_type": "markdown",
   "metadata": {},
   "source": [
    "LB AUC: 0.9770 \n",
    "\n",
    "Yes! This is the best AUC I've ever got."
   ]
  },
  {
   "cell_type": "markdown",
   "metadata": {},
   "source": [
    "## Summary so far\n",
    "\n",
    "- Made predictions using GloVe word embedding + LSTM in Keras. \n",
    "- Used multi-task learning for multiple lables (1 by 6 vector label) as mentioned in the future directions of Part1\n",
    "- LSTM models with multi-task learning was worse than the Tfidf + Logistic regression model\n",
    "- Fitting each category for the LSTM model was much slower, but made better predictions than the logistic regression\n",
    "- Found a simple ensemble method (the last one) can increase AUC even further"
   ]
  },
  {
   "cell_type": "code",
   "execution_count": null,
   "metadata": {},
   "outputs": [],
   "source": [
    " "
   ]
  }
 ],
 "metadata": {
  "anaconda-cloud": {},
  "kernelspec": {
   "display_name": "Python 3",
   "language": "python",
   "name": "python3"
  },
  "language_info": {
   "codemirror_mode": {
    "name": "ipython",
    "version": 3
   },
   "file_extension": ".py",
   "mimetype": "text/x-python",
   "name": "python",
   "nbconvert_exporter": "python",
   "pygments_lexer": "ipython3",
   "version": "3.6.5"
  }
 },
 "nbformat": 4,
 "nbformat_minor": 2
}
