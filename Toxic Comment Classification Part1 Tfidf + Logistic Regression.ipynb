{
 "cells": [
  {
   "cell_type": "markdown",
   "metadata": {},
   "source": [
    "# Toxic Comment Classification\n",
    "## Part1: Tfidf + Logistic Regression"
   ]
  },
  {
   "cell_type": "markdown",
   "metadata": {},
   "source": [
    "### Overview of this project\n",
    "1. <a href='#Section1'>Data Description</a>\n",
    "2. <a href='#Section2'>Project Goal</a>\n",
    "3. <a href='#Section3'>EDA</a>\n",
    "4. <a href='#Section4'>Cleaning and Stemming</a>\n",
    "5. <a href='#Section5'>TfidfVectorizer</a>\n",
    "6. <a href='#Section6'>Logistic Regression</a>\n",
    "7. <a href='#Section7'>More tuning and Extra analysis</a>\n",
    "8. <a href='#Section8'>Summary so far</a>\n",
    "9. <a href='#Section9'>Furture Directions</a>\n",
    " \n",
    "_Please note that this project has not been completed, but there is <a href='#Section8'>Summary so far</a> at the end of notebook._"
   ]
  },
  {
   "cell_type": "markdown",
   "metadata": {},
   "source": [
    "<a id= 'Section1'></a>\n",
    "## 1. Data Description\n",
    "- Data sets train.csv and test.csv were downloaded from a Kaggle Competition (by Jigsaw and Google) https://www.kaggle.com/c/jigsaw-toxic-comment-classification-challenge \n",
    "- train.csv is the training set that contains comments with their id and 6 binary labels. \n",
    "- test.csv is the test set that contains comments and their id only. I have to predict the labels, toxicity probabilities.\n",
    "- The training set includes 8 columns: \n",
    "   - id (comment id number)\n",
    "   - comment_text (Wikipedia comments. Each comment was labeled by human raters for  6 types of toxic behaviors. The following 6 columns are the rated labels) \n",
    "   - toxic\n",
    "   - severe_toxic\n",
    "   - obscene \n",
    "   - threat\n",
    "   - insult\n",
    "   - identity_hate \n",
    "- Note that the 6 categories are not mutually exclusive."
   ]
  },
  {
   "cell_type": "markdown",
   "metadata": {},
   "source": [
    "<a id= 'Section2'></a>\n",
    "## 2. Project Goal\n",
    "Find an algorithm or create a model that predicts a probability of each type of toxicity for each comment the best."
   ]
  },
  {
   "cell_type": "markdown",
   "metadata": {},
   "source": [
    "<a id= 'Section3'></a>\n",
    "## 3. EDA"
   ]
  },
  {
   "cell_type": "markdown",
   "metadata": {},
   "source": [
    "I will do some brief exploratory data analysis using the training set."
   ]
  },
  {
   "cell_type": "code",
   "execution_count": 218,
   "metadata": {},
   "outputs": [],
   "source": [
    "# import all necessary packages\n",
    "import pandas as pd\n",
    "import numpy as np\n",
    "import matplotlib.pyplot as plt\n",
    "from sklearn.feature_extraction.text import TfidfVectorizer\n",
    "from sklearn.linear_model import LogisticRegression\n",
    "#from sklearn.model_selection import cross_val_score\n",
    "from sklearn.model_selection import GridSearchCV\n",
    "from nltk.stem.snowball import SnowballStemmer\n",
    "from sklearn.pipeline import Pipeline\n",
    "import string\n",
    "import re"
   ]
  },
  {
   "cell_type": "code",
   "execution_count": 219,
   "metadata": {},
   "outputs": [],
   "source": [
    "train = pd.read_csv('train.csv') #training set\n",
    "test = pd.read_csv('test.csv') #test set"
   ]
  },
  {
   "cell_type": "code",
   "execution_count": 220,
   "metadata": {
    "scrolled": false
   },
   "outputs": [
    {
     "name": "stdout",
     "output_type": "stream",
     "text": [
      "<class 'pandas.core.frame.DataFrame'>\n",
      "RangeIndex: 159571 entries, 0 to 159570\n",
      "Data columns (total 8 columns):\n",
      "id               159571 non-null object\n",
      "comment_text     159571 non-null object\n",
      "toxic            159571 non-null int64\n",
      "severe_toxic     159571 non-null int64\n",
      "obscene          159571 non-null int64\n",
      "threat           159571 non-null int64\n",
      "insult           159571 non-null int64\n",
      "identity_hate    159571 non-null int64\n",
      "dtypes: int64(6), object(2)\n",
      "memory usage: 9.7+ MB\n"
     ]
    }
   ],
   "source": [
    "train.info()"
   ]
  },
  {
   "cell_type": "code",
   "execution_count": 221,
   "metadata": {
    "scrolled": true
   },
   "outputs": [
    {
     "data": {
      "text/html": [
       "<div>\n",
       "<style scoped>\n",
       "    .dataframe tbody tr th:only-of-type {\n",
       "        vertical-align: middle;\n",
       "    }\n",
       "\n",
       "    .dataframe tbody tr th {\n",
       "        vertical-align: top;\n",
       "    }\n",
       "\n",
       "    .dataframe thead th {\n",
       "        text-align: right;\n",
       "    }\n",
       "</style>\n",
       "<table border=\"1\" class=\"dataframe\">\n",
       "  <thead>\n",
       "    <tr style=\"text-align: right;\">\n",
       "      <th></th>\n",
       "      <th>id</th>\n",
       "      <th>comment_text</th>\n",
       "      <th>toxic</th>\n",
       "      <th>severe_toxic</th>\n",
       "      <th>obscene</th>\n",
       "      <th>threat</th>\n",
       "      <th>insult</th>\n",
       "      <th>identity_hate</th>\n",
       "    </tr>\n",
       "  </thead>\n",
       "  <tbody>\n",
       "    <tr>\n",
       "      <th>0</th>\n",
       "      <td>0000997932d777bf</td>\n",
       "      <td>Explanation\\nWhy the edits made under my usern...</td>\n",
       "      <td>0</td>\n",
       "      <td>0</td>\n",
       "      <td>0</td>\n",
       "      <td>0</td>\n",
       "      <td>0</td>\n",
       "      <td>0</td>\n",
       "    </tr>\n",
       "    <tr>\n",
       "      <th>1</th>\n",
       "      <td>000103f0d9cfb60f</td>\n",
       "      <td>D'aww! He matches this background colour I'm s...</td>\n",
       "      <td>0</td>\n",
       "      <td>0</td>\n",
       "      <td>0</td>\n",
       "      <td>0</td>\n",
       "      <td>0</td>\n",
       "      <td>0</td>\n",
       "    </tr>\n",
       "    <tr>\n",
       "      <th>2</th>\n",
       "      <td>000113f07ec002fd</td>\n",
       "      <td>Hey man, I'm really not trying to edit war. It...</td>\n",
       "      <td>0</td>\n",
       "      <td>0</td>\n",
       "      <td>0</td>\n",
       "      <td>0</td>\n",
       "      <td>0</td>\n",
       "      <td>0</td>\n",
       "    </tr>\n",
       "    <tr>\n",
       "      <th>3</th>\n",
       "      <td>0001b41b1c6bb37e</td>\n",
       "      <td>\"\\nMore\\nI can't make any real suggestions on ...</td>\n",
       "      <td>0</td>\n",
       "      <td>0</td>\n",
       "      <td>0</td>\n",
       "      <td>0</td>\n",
       "      <td>0</td>\n",
       "      <td>0</td>\n",
       "    </tr>\n",
       "    <tr>\n",
       "      <th>4</th>\n",
       "      <td>0001d958c54c6e35</td>\n",
       "      <td>You, sir, are my hero. Any chance you remember...</td>\n",
       "      <td>0</td>\n",
       "      <td>0</td>\n",
       "      <td>0</td>\n",
       "      <td>0</td>\n",
       "      <td>0</td>\n",
       "      <td>0</td>\n",
       "    </tr>\n",
       "    <tr>\n",
       "      <th>5</th>\n",
       "      <td>00025465d4725e87</td>\n",
       "      <td>\"\\n\\nCongratulations from me as well, use the ...</td>\n",
       "      <td>0</td>\n",
       "      <td>0</td>\n",
       "      <td>0</td>\n",
       "      <td>0</td>\n",
       "      <td>0</td>\n",
       "      <td>0</td>\n",
       "    </tr>\n",
       "    <tr>\n",
       "      <th>6</th>\n",
       "      <td>0002bcb3da6cb337</td>\n",
       "      <td>COCKSUCKER BEFORE YOU PISS AROUND ON MY WORK</td>\n",
       "      <td>1</td>\n",
       "      <td>1</td>\n",
       "      <td>1</td>\n",
       "      <td>0</td>\n",
       "      <td>1</td>\n",
       "      <td>0</td>\n",
       "    </tr>\n",
       "    <tr>\n",
       "      <th>7</th>\n",
       "      <td>00031b1e95af7921</td>\n",
       "      <td>Your vandalism to the Matt Shirvington article...</td>\n",
       "      <td>0</td>\n",
       "      <td>0</td>\n",
       "      <td>0</td>\n",
       "      <td>0</td>\n",
       "      <td>0</td>\n",
       "      <td>0</td>\n",
       "    </tr>\n",
       "    <tr>\n",
       "      <th>8</th>\n",
       "      <td>00037261f536c51d</td>\n",
       "      <td>Sorry if the word 'nonsense' was offensive to ...</td>\n",
       "      <td>0</td>\n",
       "      <td>0</td>\n",
       "      <td>0</td>\n",
       "      <td>0</td>\n",
       "      <td>0</td>\n",
       "      <td>0</td>\n",
       "    </tr>\n",
       "    <tr>\n",
       "      <th>9</th>\n",
       "      <td>00040093b2687caa</td>\n",
       "      <td>alignment on this subject and which are contra...</td>\n",
       "      <td>0</td>\n",
       "      <td>0</td>\n",
       "      <td>0</td>\n",
       "      <td>0</td>\n",
       "      <td>0</td>\n",
       "      <td>0</td>\n",
       "    </tr>\n",
       "  </tbody>\n",
       "</table>\n",
       "</div>"
      ],
      "text/plain": [
       "                 id                                       comment_text  toxic  \\\n",
       "0  0000997932d777bf  Explanation\\nWhy the edits made under my usern...      0   \n",
       "1  000103f0d9cfb60f  D'aww! He matches this background colour I'm s...      0   \n",
       "2  000113f07ec002fd  Hey man, I'm really not trying to edit war. It...      0   \n",
       "3  0001b41b1c6bb37e  \"\\nMore\\nI can't make any real suggestions on ...      0   \n",
       "4  0001d958c54c6e35  You, sir, are my hero. Any chance you remember...      0   \n",
       "5  00025465d4725e87  \"\\n\\nCongratulations from me as well, use the ...      0   \n",
       "6  0002bcb3da6cb337       COCKSUCKER BEFORE YOU PISS AROUND ON MY WORK      1   \n",
       "7  00031b1e95af7921  Your vandalism to the Matt Shirvington article...      0   \n",
       "8  00037261f536c51d  Sorry if the word 'nonsense' was offensive to ...      0   \n",
       "9  00040093b2687caa  alignment on this subject and which are contra...      0   \n",
       "\n",
       "   severe_toxic  obscene  threat  insult  identity_hate  \n",
       "0             0        0       0       0              0  \n",
       "1             0        0       0       0              0  \n",
       "2             0        0       0       0              0  \n",
       "3             0        0       0       0              0  \n",
       "4             0        0       0       0              0  \n",
       "5             0        0       0       0              0  \n",
       "6             1        1       0       1              0  \n",
       "7             0        0       0       0              0  \n",
       "8             0        0       0       0              0  \n",
       "9             0        0       0       0              0  "
      ]
     },
     "execution_count": 221,
     "metadata": {},
     "output_type": "execute_result"
    }
   ],
   "source": [
    "train.head(10)"
   ]
  },
  {
   "cell_type": "code",
   "execution_count": 222,
   "metadata": {
    "scrolled": true
   },
   "outputs": [
    {
     "data": {
      "text/html": [
       "<div>\n",
       "<style scoped>\n",
       "    .dataframe tbody tr th:only-of-type {\n",
       "        vertical-align: middle;\n",
       "    }\n",
       "\n",
       "    .dataframe tbody tr th {\n",
       "        vertical-align: top;\n",
       "    }\n",
       "\n",
       "    .dataframe thead th {\n",
       "        text-align: right;\n",
       "    }\n",
       "</style>\n",
       "<table border=\"1\" class=\"dataframe\">\n",
       "  <thead>\n",
       "    <tr style=\"text-align: right;\">\n",
       "      <th></th>\n",
       "      <th>toxic</th>\n",
       "      <th>severe_toxic</th>\n",
       "      <th>obscene</th>\n",
       "      <th>threat</th>\n",
       "      <th>insult</th>\n",
       "      <th>identity_hate</th>\n",
       "    </tr>\n",
       "  </thead>\n",
       "  <tbody>\n",
       "    <tr>\n",
       "      <th>count</th>\n",
       "      <td>159571.000000</td>\n",
       "      <td>159571.000000</td>\n",
       "      <td>159571.000000</td>\n",
       "      <td>159571.000000</td>\n",
       "      <td>159571.000000</td>\n",
       "      <td>159571.000000</td>\n",
       "    </tr>\n",
       "    <tr>\n",
       "      <th>mean</th>\n",
       "      <td>0.095844</td>\n",
       "      <td>0.009996</td>\n",
       "      <td>0.052948</td>\n",
       "      <td>0.002996</td>\n",
       "      <td>0.049364</td>\n",
       "      <td>0.008805</td>\n",
       "    </tr>\n",
       "    <tr>\n",
       "      <th>std</th>\n",
       "      <td>0.294379</td>\n",
       "      <td>0.099477</td>\n",
       "      <td>0.223931</td>\n",
       "      <td>0.054650</td>\n",
       "      <td>0.216627</td>\n",
       "      <td>0.093420</td>\n",
       "    </tr>\n",
       "    <tr>\n",
       "      <th>min</th>\n",
       "      <td>0.000000</td>\n",
       "      <td>0.000000</td>\n",
       "      <td>0.000000</td>\n",
       "      <td>0.000000</td>\n",
       "      <td>0.000000</td>\n",
       "      <td>0.000000</td>\n",
       "    </tr>\n",
       "    <tr>\n",
       "      <th>25%</th>\n",
       "      <td>0.000000</td>\n",
       "      <td>0.000000</td>\n",
       "      <td>0.000000</td>\n",
       "      <td>0.000000</td>\n",
       "      <td>0.000000</td>\n",
       "      <td>0.000000</td>\n",
       "    </tr>\n",
       "    <tr>\n",
       "      <th>50%</th>\n",
       "      <td>0.000000</td>\n",
       "      <td>0.000000</td>\n",
       "      <td>0.000000</td>\n",
       "      <td>0.000000</td>\n",
       "      <td>0.000000</td>\n",
       "      <td>0.000000</td>\n",
       "    </tr>\n",
       "    <tr>\n",
       "      <th>75%</th>\n",
       "      <td>0.000000</td>\n",
       "      <td>0.000000</td>\n",
       "      <td>0.000000</td>\n",
       "      <td>0.000000</td>\n",
       "      <td>0.000000</td>\n",
       "      <td>0.000000</td>\n",
       "    </tr>\n",
       "    <tr>\n",
       "      <th>max</th>\n",
       "      <td>1.000000</td>\n",
       "      <td>1.000000</td>\n",
       "      <td>1.000000</td>\n",
       "      <td>1.000000</td>\n",
       "      <td>1.000000</td>\n",
       "      <td>1.000000</td>\n",
       "    </tr>\n",
       "  </tbody>\n",
       "</table>\n",
       "</div>"
      ],
      "text/plain": [
       "               toxic   severe_toxic        obscene         threat  \\\n",
       "count  159571.000000  159571.000000  159571.000000  159571.000000   \n",
       "mean        0.095844       0.009996       0.052948       0.002996   \n",
       "std         0.294379       0.099477       0.223931       0.054650   \n",
       "min         0.000000       0.000000       0.000000       0.000000   \n",
       "25%         0.000000       0.000000       0.000000       0.000000   \n",
       "50%         0.000000       0.000000       0.000000       0.000000   \n",
       "75%         0.000000       0.000000       0.000000       0.000000   \n",
       "max         1.000000       1.000000       1.000000       1.000000   \n",
       "\n",
       "              insult  identity_hate  \n",
       "count  159571.000000  159571.000000  \n",
       "mean        0.049364       0.008805  \n",
       "std         0.216627       0.093420  \n",
       "min         0.000000       0.000000  \n",
       "25%         0.000000       0.000000  \n",
       "50%         0.000000       0.000000  \n",
       "75%         0.000000       0.000000  \n",
       "max         1.000000       1.000000  "
      ]
     },
     "execution_count": 222,
     "metadata": {},
     "output_type": "execute_result"
    }
   ],
   "source": [
    "train.describe()"
   ]
  },
  {
   "cell_type": "markdown",
   "metadata": {},
   "source": [
    "The count shows there are _159,571_ comments. The mean shows the proportions of toxic comments for each category:\n",
    "  - Toxic:         9.58% \n",
    "  - Severe Toxic:  1.00%\n",
    "  - Obcene:        5.29%\n",
    "  - Threat:        0.30%\n",
    "  - Insult:        4.94%\n",
    "  - Identity hate: 0.88%\n",
    "  \n",
    "The proportions show this data set has very unblanced classes for each category of toxic behavior. Some of the categories like Threat (.30%), Indentity hate (.88%), and Severe Toxic (1.00%) are severely unbalanced. Thus, the validation methods such as train/test split or performance metrics should be carefully selected.\n",
    "\n",
    "There seems to be no missing values. I will confirmed this in the next cell."
   ]
  },
  {
   "cell_type": "code",
   "execution_count": 223,
   "metadata": {},
   "outputs": [
    {
     "data": {
      "text/plain": [
       "id               0\n",
       "comment_text     0\n",
       "toxic            0\n",
       "severe_toxic     0\n",
       "obscene          0\n",
       "threat           0\n",
       "insult           0\n",
       "identity_hate    0\n",
       "dtype: int64"
      ]
     },
     "execution_count": 223,
     "metadata": {},
     "output_type": "execute_result"
    }
   ],
   "source": [
    "train.isnull().sum()"
   ]
  },
  {
   "cell_type": "code",
   "execution_count": 325,
   "metadata": {},
   "outputs": [
    {
     "data": {
      "text/plain": [
       "id              0\n",
       "comment_text    0\n",
       "dtype: int64"
      ]
     },
     "execution_count": 325,
     "metadata": {},
     "output_type": "execute_result"
    }
   ],
   "source": [
    "# Check test set as well\n",
    "test.isnull().sum()"
   ]
  },
  {
   "cell_type": "code",
   "execution_count": 224,
   "metadata": {},
   "outputs": [
    {
     "data": {
      "text/plain": [
       "0"
      ]
     },
     "execution_count": 224,
     "metadata": {},
     "output_type": "execute_result"
    }
   ],
   "source": [
    "# Count the number of comments with only white spaces\n",
    "empty_comment = 0 \n",
    "for comment in train['comment_text']:\n",
    "    if re.match('\\s+', comment):\n",
    "        empty_comment +=1\n",
    "empty_comment"
   ]
  },
  {
   "cell_type": "code",
   "execution_count": 225,
   "metadata": {},
   "outputs": [
    {
     "data": {
      "text/plain": [
       "0"
      ]
     },
     "execution_count": 225,
     "metadata": {},
     "output_type": "execute_result"
    }
   ],
   "source": [
    "# Shorter code but more memory required\n",
    "len([1 for comment in train['comment_text'] if re.match('\\s+', comment)])"
   ]
  },
  {
   "cell_type": "code",
   "execution_count": 326,
   "metadata": {},
   "outputs": [
    {
     "data": {
      "text/plain": [
       "3"
      ]
     },
     "execution_count": 326,
     "metadata": {},
     "output_type": "execute_result"
    }
   ],
   "source": [
    "len([1 for comment in test['comment_text'] if re.match('\\s+', comment)])"
   ]
  },
  {
   "cell_type": "markdown",
   "metadata": {},
   "source": [
    "I also checked if there is any blank comment and I found none in the train set, but 3 in the test set. I will have to take care of these blank comments if they can cause a problem."
   ]
  },
  {
   "cell_type": "code",
   "execution_count": 226,
   "metadata": {},
   "outputs": [
    {
     "name": "stdout",
     "output_type": "stream",
     "text": [
      "Sample comment 0 \n",
      " Explanation\n",
      "Why the edits made under my username Hardcore Metallica Fan were reverted? They weren't vandalisms, just closure on some GAs after I voted at New York Dolls FAC. And please don't remove the template from the talk page since I'm retired now.89.205.38.27\n",
      "Sample comment 1 \n",
      " D'aww! He matches this background colour I'm seemingly stuck with. Thanks.  (talk) 21:51, January 11, 2016 (UTC)\n",
      "Sample comment 2 \n",
      " Hey man, I'm really not trying to edit war. It's just that this guy is constantly removing relevant information and talking to me through edits instead of my talk page. He seems to care more about the formatting than the actual info.\n"
     ]
    }
   ],
   "source": [
    "# Check some comments\n",
    "for i in range(3):\n",
    "    print(\"Sample comment {}\".format(i),'\\n', train['comment_text'][i])"
   ]
  },
  {
   "cell_type": "markdown",
   "metadata": {},
   "source": [
    "It seems there are sometimes IP addresses or dates and times. Cleaning them might improve my predictions, but I will keep them there for now."
   ]
  },
  {
   "cell_type": "code",
   "execution_count": 227,
   "metadata": {},
   "outputs": [],
   "source": [
    "# check the length of each comment\n",
    "lengths = np.vectorize(len)\n",
    "text_len = lengths(train['comment_text'])"
   ]
  },
  {
   "cell_type": "code",
   "execution_count": 228,
   "metadata": {
    "scrolled": false
   },
   "outputs": [
    {
     "data": {
      "image/png": "[encoded data removed]",
      "text/plain": [
       "<Figure size 432x288 with 1 Axes>"
      ]
     },
     "metadata": {},
     "output_type": "display_data"
    }
   ],
   "source": [
    "plt.hist(text_len, bins = 50,edgecolor='b')\n",
    "plt.title('Distribution of comment lengths')\n",
    "plt.xlabel('Number of characters in each comment')\n",
    "plt.ylabel('Frequency')\n",
    "plt.show()"
   ]
  },
  {
   "cell_type": "markdown",
   "metadata": {},
   "source": [
    "The distribution is highly right-skewed. I will take log for y-axis to take a closer look at the right tail. "
   ]
  },
  {
   "cell_type": "code",
   "execution_count": 229,
   "metadata": {},
   "outputs": [
    {
     "data": {
      "image/png": "[encoded data removed]",
      "text/plain": [
       "<Figure size 432x288 with 1 Axes>"
      ]
     },
     "metadata": {},
     "output_type": "display_data"
    }
   ],
   "source": [
    "# with log scale for y\n",
    "plt.hist(text_len, bins = 30, log =True, edgecolor='b')\n",
    "plt.title('Distribution of comment lengths')\n",
    "plt.xlabel('Number of characters in each comment')\n",
    "plt.ylabel('Frequency')\n",
    "plt.show()"
   ]
  },
  {
   "cell_type": "code",
   "execution_count": 230,
   "metadata": {
    "scrolled": true
   },
   "outputs": [
    {
     "name": "stdout",
     "output_type": "stream",
     "text": [
      "Minimum text length:  6 characters\n",
      "Maximum text length:  5000 characters\n"
     ]
    }
   ],
   "source": [
    "print(\"Minimum text length: \", min(text_len), \"characters\")\n",
    "print(\"Maximum text length: \", max(text_len), \"characters\")"
   ]
  },
  {
   "cell_type": "markdown",
   "metadata": {},
   "source": [
    "The comment length ranges from 6 to 5000 characters. It looks like 5000 was the maximum number of characters that can be entered as a comment. Frequency decreases as the number of characters increases, but it increases again after around 4000 characters.  I wonder what makes this pattern and whether comment lengths are related to the probability of toxicity. "
   ]
  },
  {
   "cell_type": "markdown",
   "metadata": {},
   "source": [
    "Let's first check comments with the maximum number of characters, 5000."
   ]
  },
  {
   "cell_type": "code",
   "execution_count": 231,
   "metadata": {
    "scrolled": true
   },
   "outputs": [],
   "source": [
    "max_comment_idx,    = np.where(text_len == max(text_len))"
   ]
  },
  {
   "cell_type": "code",
   "execution_count": 232,
   "metadata": {},
   "outputs": [
    {
     "name": "stdout",
     "output_type": "stream",
     "text": [
      "[4174, 6201, 8705, 9673, 10769, 12895, 16643, 18183, 22378, 25702, 27148, 28855, 34422, 35316, 42061, 46197, 46583, 47715, 53408, 56063, 56441, 56834, 57173, 63392, 70544, 72192, 74753, 75165, 76184, 82636, 86251, 86529, 93952, 96267, 121718, 123571, 128782, 131729, 133254, 156032, 156437, 158970]\n"
     ]
    }
   ],
   "source": [
    "max_comment_idx = list(max_comment_idx)\n",
    "print(max_comment_idx)"
   ]
  },
  {
   "cell_type": "code",
   "execution_count": 233,
   "metadata": {},
   "outputs": [
    {
     "data": {
      "text/html": [
       "<div>\n",
       "<style scoped>\n",
       "    .dataframe tbody tr th:only-of-type {\n",
       "        vertical-align: middle;\n",
       "    }\n",
       "\n",
       "    .dataframe tbody tr th {\n",
       "        vertical-align: top;\n",
       "    }\n",
       "\n",
       "    .dataframe thead th {\n",
       "        text-align: right;\n",
       "    }\n",
       "</style>\n",
       "<table border=\"1\" class=\"dataframe\">\n",
       "  <thead>\n",
       "    <tr style=\"text-align: right;\">\n",
       "      <th></th>\n",
       "      <th>id</th>\n",
       "      <th>comment_text</th>\n",
       "      <th>toxic</th>\n",
       "      <th>severe_toxic</th>\n",
       "      <th>obscene</th>\n",
       "      <th>threat</th>\n",
       "      <th>insult</th>\n",
       "      <th>identity_hate</th>\n",
       "    </tr>\n",
       "  </thead>\n",
       "  <tbody>\n",
       "    <tr>\n",
       "      <th>4174</th>\n",
       "      <td>0b2055f13934a41e</td>\n",
       "      <td>ii CAN STILL POST WITH THIS COMPUTER...I SAID ...</td>\n",
       "      <td>1</td>\n",
       "      <td>0</td>\n",
       "      <td>1</td>\n",
       "      <td>0</td>\n",
       "      <td>1</td>\n",
       "      <td>0</td>\n",
       "    </tr>\n",
       "    <tr>\n",
       "      <th>6201</th>\n",
       "      <td>1091689382892a88</td>\n",
       "      <td>SECURITYFUCK HOMELAND SECURITYFUCK HOMELAND SE...</td>\n",
       "      <td>1</td>\n",
       "      <td>1</td>\n",
       "      <td>1</td>\n",
       "      <td>0</td>\n",
       "      <td>0</td>\n",
       "      <td>0</td>\n",
       "    </tr>\n",
       "    <tr>\n",
       "      <th>8705</th>\n",
       "      <td>171ebb2b785f72bd</td>\n",
       "      <td>BALLS BALLS BALLS BALLS BALLS BALLS BALLS BALL...</td>\n",
       "      <td>1</td>\n",
       "      <td>0</td>\n",
       "      <td>0</td>\n",
       "      <td>0</td>\n",
       "      <td>0</td>\n",
       "      <td>0</td>\n",
       "    </tr>\n",
       "    <tr>\n",
       "      <th>9673</th>\n",
       "      <td>199912b2d9973a21</td>\n",
       "      <td>FUCK YOU, YOU ATHEIST CUNT! FUCK YOU, YOU ATHE...</td>\n",
       "      <td>1</td>\n",
       "      <td>1</td>\n",
       "      <td>1</td>\n",
       "      <td>0</td>\n",
       "      <td>1</td>\n",
       "      <td>0</td>\n",
       "    </tr>\n",
       "    <tr>\n",
       "      <th>10769</th>\n",
       "      <td>1c7b06718dcc3b86</td>\n",
       "      <td>TOMMY2010 IS A NIGGER TOMMY2010 IS A NIGGER TO...</td>\n",
       "      <td>1</td>\n",
       "      <td>0</td>\n",
       "      <td>0</td>\n",
       "      <td>0</td>\n",
       "      <td>1</td>\n",
       "      <td>1</td>\n",
       "    </tr>\n",
       "    <tr>\n",
       "      <th>12895</th>\n",
       "      <td>222aad8a931bcfdf</td>\n",
       "      <td>I OWN THIS PAGE YOU FOOLS!! YOU SHOULD FEAR ME...</td>\n",
       "      <td>1</td>\n",
       "      <td>0</td>\n",
       "      <td>0</td>\n",
       "      <td>0</td>\n",
       "      <td>1</td>\n",
       "      <td>0</td>\n",
       "    </tr>\n",
       "    <tr>\n",
       "      <th>16643</th>\n",
       "      <td>2be09ad5ce9a8a85</td>\n",
       "      <td>'''Hi Wikipedia!!Hi Wikipedia!!Hi Wikipedia!!H...</td>\n",
       "      <td>0</td>\n",
       "      <td>0</td>\n",
       "      <td>0</td>\n",
       "      <td>0</td>\n",
       "      <td>0</td>\n",
       "      <td>0</td>\n",
       "    </tr>\n",
       "    <tr>\n",
       "      <th>18183</th>\n",
       "      <td>300b0c81ea94e02d</td>\n",
       "      <td>Hey guys I love chicken rice=)Hey guys I love ...</td>\n",
       "      <td>0</td>\n",
       "      <td>0</td>\n",
       "      <td>0</td>\n",
       "      <td>0</td>\n",
       "      <td>0</td>\n",
       "      <td>0</td>\n",
       "    </tr>\n",
       "    <tr>\n",
       "      <th>22378</th>\n",
       "      <td>3b0e1b13380cdd7a</td>\n",
       "      <td>I fuck niggas! I fuck niggas! I fuck niggas! I...</td>\n",
       "      <td>1</td>\n",
       "      <td>1</td>\n",
       "      <td>1</td>\n",
       "      <td>0</td>\n",
       "      <td>1</td>\n",
       "      <td>1</td>\n",
       "    </tr>\n",
       "    <tr>\n",
       "      <th>25702</th>\n",
       "      <td>44096c9bd35a200d</td>\n",
       "      <td>\"....would you prefer expressing my frustratio...</td>\n",
       "      <td>0</td>\n",
       "      <td>0</td>\n",
       "      <td>0</td>\n",
       "      <td>0</td>\n",
       "      <td>0</td>\n",
       "      <td>0</td>\n",
       "    </tr>\n",
       "    <tr>\n",
       "      <th>27148</th>\n",
       "      <td>47d24c7955d1cc09</td>\n",
       "      <td>DAMN YOU U CUNT DAMN YOU U CUNT DAMN YOU U CUN...</td>\n",
       "      <td>1</td>\n",
       "      <td>1</td>\n",
       "      <td>1</td>\n",
       "      <td>0</td>\n",
       "      <td>1</td>\n",
       "      <td>0</td>\n",
       "    </tr>\n",
       "    <tr>\n",
       "      <th>28855</th>\n",
       "      <td>4c7963eaf9697d35</td>\n",
       "      <td>JIM WALES MUST DIE!!!!!!!!!!!!  JIM WALES MUST...</td>\n",
       "      <td>1</td>\n",
       "      <td>1</td>\n",
       "      <td>0</td>\n",
       "      <td>1</td>\n",
       "      <td>0</td>\n",
       "      <td>0</td>\n",
       "    </tr>\n",
       "    <tr>\n",
       "      <th>34422</th>\n",
       "      <td>5bed308adc44efcf</td>\n",
       "      <td>YOU SUCK YOU SUCK YOU SUCK YOU SUCK YOU SUCK Y...</td>\n",
       "      <td>1</td>\n",
       "      <td>1</td>\n",
       "      <td>1</td>\n",
       "      <td>0</td>\n",
       "      <td>1</td>\n",
       "      <td>0</td>\n",
       "    </tr>\n",
       "    <tr>\n",
       "      <th>35316</th>\n",
       "      <td>5e50cf56f160bda3</td>\n",
       "      <td>MarxismLONG LIVE ANONYMOUS PHILIPPINESLONG LIV...</td>\n",
       "      <td>0</td>\n",
       "      <td>0</td>\n",
       "      <td>0</td>\n",
       "      <td>0</td>\n",
       "      <td>0</td>\n",
       "      <td>0</td>\n",
       "    </tr>\n",
       "    <tr>\n",
       "      <th>42061</th>\n",
       "      <td>70368dd072aebb42</td>\n",
       "      <td>WANKER WANKER WANKER WANKER WANKER WANKER WANK...</td>\n",
       "      <td>1</td>\n",
       "      <td>0</td>\n",
       "      <td>0</td>\n",
       "      <td>0</td>\n",
       "      <td>0</td>\n",
       "      <td>0</td>\n",
       "    </tr>\n",
       "    <tr>\n",
       "      <th>46197</th>\n",
       "      <td>7b6b88051eb69303</td>\n",
       "      <td>heil hitler! heil hitler! heil hitler! heil hi...</td>\n",
       "      <td>1</td>\n",
       "      <td>0</td>\n",
       "      <td>0</td>\n",
       "      <td>0</td>\n",
       "      <td>0</td>\n",
       "      <td>0</td>\n",
       "    </tr>\n",
       "    <tr>\n",
       "      <th>46583</th>\n",
       "      <td>7c7a4bf4c84fe002</td>\n",
       "      <td>hahahahahahahahahahahahahahahahahaha vandalism...</td>\n",
       "      <td>1</td>\n",
       "      <td>0</td>\n",
       "      <td>0</td>\n",
       "      <td>0</td>\n",
       "      <td>0</td>\n",
       "      <td>0</td>\n",
       "    </tr>\n",
       "    <tr>\n",
       "      <th>47715</th>\n",
       "      <td>7f79fd5eacbe804c</td>\n",
       "      <td>Block Block Block Block Block Block Block Bloc...</td>\n",
       "      <td>0</td>\n",
       "      <td>0</td>\n",
       "      <td>0</td>\n",
       "      <td>0</td>\n",
       "      <td>0</td>\n",
       "      <td>0</td>\n",
       "    </tr>\n",
       "    <tr>\n",
       "      <th>53408</th>\n",
       "      <td>8ecc71e2dd4e2fbe</td>\n",
       "      <td>BunkSteve is gay! BunkSteve is gay! BunkSteve ...</td>\n",
       "      <td>1</td>\n",
       "      <td>1</td>\n",
       "      <td>0</td>\n",
       "      <td>0</td>\n",
       "      <td>1</td>\n",
       "      <td>1</td>\n",
       "    </tr>\n",
       "    <tr>\n",
       "      <th>56063</th>\n",
       "      <td>95d211c0f481df03</td>\n",
       "      <td>AH HAAHHAHAHAH YAAA BITCH YAAAA!@!!!!!!AH HAAH...</td>\n",
       "      <td>1</td>\n",
       "      <td>1</td>\n",
       "      <td>1</td>\n",
       "      <td>0</td>\n",
       "      <td>1</td>\n",
       "      <td>0</td>\n",
       "    </tr>\n",
       "    <tr>\n",
       "      <th>56441</th>\n",
       "      <td>96cac8dd8f971c7d</td>\n",
       "      <td>CALTLAS IF YOU CONTINUE TO RVV IT, I WILL BLAN...</td>\n",
       "      <td>1</td>\n",
       "      <td>1</td>\n",
       "      <td>0</td>\n",
       "      <td>1</td>\n",
       "      <td>0</td>\n",
       "      <td>0</td>\n",
       "    </tr>\n",
       "    <tr>\n",
       "      <th>56834</th>\n",
       "      <td>97e695cfd71944ed</td>\n",
       "      <td>i CAN STILL POST WITH THIS COMPUTER...I SAID B...</td>\n",
       "      <td>1</td>\n",
       "      <td>1</td>\n",
       "      <td>1</td>\n",
       "      <td>0</td>\n",
       "      <td>1</td>\n",
       "      <td>0</td>\n",
       "    </tr>\n",
       "    <tr>\n",
       "      <th>57173</th>\n",
       "      <td>98e4e1f70d28631c</td>\n",
       "      <td>Fuck-off-Jewish ancestryFuck-off-Jewish ancest...</td>\n",
       "      <td>1</td>\n",
       "      <td>1</td>\n",
       "      <td>1</td>\n",
       "      <td>0</td>\n",
       "      <td>1</td>\n",
       "      <td>1</td>\n",
       "    </tr>\n",
       "    <tr>\n",
       "      <th>63392</th>\n",
       "      <td>a99aff4a8428dfb2</td>\n",
       "      <td>leari CAN STILL POST WITH THIS COMPUTER...I SA...</td>\n",
       "      <td>1</td>\n",
       "      <td>1</td>\n",
       "      <td>1</td>\n",
       "      <td>0</td>\n",
       "      <td>1</td>\n",
       "      <td>0</td>\n",
       "    </tr>\n",
       "    <tr>\n",
       "      <th>70544</th>\n",
       "      <td>bcc6a4fc5f123163</td>\n",
       "      <td>delete this pagedelete this pagedelete this pa...</td>\n",
       "      <td>0</td>\n",
       "      <td>0</td>\n",
       "      <td>0</td>\n",
       "      <td>0</td>\n",
       "      <td>0</td>\n",
       "      <td>0</td>\n",
       "    </tr>\n",
       "    <tr>\n",
       "      <th>72192</th>\n",
       "      <td>c14532e93d456260</td>\n",
       "      <td>China smells like fart. China smells like fart...</td>\n",
       "      <td>1</td>\n",
       "      <td>0</td>\n",
       "      <td>0</td>\n",
       "      <td>0</td>\n",
       "      <td>0</td>\n",
       "      <td>0</td>\n",
       "    </tr>\n",
       "    <tr>\n",
       "      <th>74753</th>\n",
       "      <td>c7f72686bf613e4e</td>\n",
       "      <td>Dont Change It!!!! zzzzzzzzzzzzzzzzzzzzzzzzzzz...</td>\n",
       "      <td>0</td>\n",
       "      <td>0</td>\n",
       "      <td>0</td>\n",
       "      <td>0</td>\n",
       "      <td>0</td>\n",
       "      <td>0</td>\n",
       "    </tr>\n",
       "    <tr>\n",
       "      <th>75165</th>\n",
       "      <td>c91d629c6599bb23</td>\n",
       "      <td>IN THE NAME OF YTMND!IN THE NAME OF YTMND!IN T...</td>\n",
       "      <td>0</td>\n",
       "      <td>0</td>\n",
       "      <td>0</td>\n",
       "      <td>0</td>\n",
       "      <td>0</td>\n",
       "      <td>0</td>\n",
       "    </tr>\n",
       "    <tr>\n",
       "      <th>76184</th>\n",
       "      <td>cbeeca0dd8d32c1a</td>\n",
       "      <td>nice work removing edits, faggot ass piece of ...</td>\n",
       "      <td>1</td>\n",
       "      <td>1</td>\n",
       "      <td>1</td>\n",
       "      <td>0</td>\n",
       "      <td>1</td>\n",
       "      <td>0</td>\n",
       "    </tr>\n",
       "    <tr>\n",
       "      <th>82636</th>\n",
       "      <td>dd0bd64b02c550af</td>\n",
       "      <td>MUAHAHAHAHAHAHAHAHAHAHAHAHAHAHAHAHAHAHA, YOU C...</td>\n",
       "      <td>1</td>\n",
       "      <td>0</td>\n",
       "      <td>0</td>\n",
       "      <td>0</td>\n",
       "      <td>0</td>\n",
       "      <td>0</td>\n",
       "    </tr>\n",
       "    <tr>\n",
       "      <th>86251</th>\n",
       "      <td>e6abb7915c7fd1f1</td>\n",
       "      <td>congratualtions on being such a huge fucking a...</td>\n",
       "      <td>1</td>\n",
       "      <td>0</td>\n",
       "      <td>1</td>\n",
       "      <td>0</td>\n",
       "      <td>1</td>\n",
       "      <td>0</td>\n",
       "    </tr>\n",
       "    <tr>\n",
       "      <th>86529</th>\n",
       "      <td>e77118621b13b43f</td>\n",
       "      <td>Wikipedia tEh Free Enyclopedia!!!!!!!!!!!!!!!!...</td>\n",
       "      <td>0</td>\n",
       "      <td>0</td>\n",
       "      <td>0</td>\n",
       "      <td>0</td>\n",
       "      <td>0</td>\n",
       "      <td>0</td>\n",
       "    </tr>\n",
       "    <tr>\n",
       "      <th>93952</th>\n",
       "      <td>fb3a15d68a7e7ff2</td>\n",
       "      <td>wiki NOOBS wiki NOOBS wiki NOOBS wiki NOOBS wi...</td>\n",
       "      <td>1</td>\n",
       "      <td>0</td>\n",
       "      <td>0</td>\n",
       "      <td>0</td>\n",
       "      <td>0</td>\n",
       "      <td>0</td>\n",
       "    </tr>\n",
       "    <tr>\n",
       "      <th>96267</th>\n",
       "      <td>02dd3c9a9129c83e</td>\n",
       "      <td>BOOTSTOOTS IS A FRIGGEN GAYFAG LOLOOOLBOOTSTOO...</td>\n",
       "      <td>1</td>\n",
       "      <td>0</td>\n",
       "      <td>0</td>\n",
       "      <td>0</td>\n",
       "      <td>1</td>\n",
       "      <td>0</td>\n",
       "    </tr>\n",
       "    <tr>\n",
       "      <th>121718</th>\n",
       "      <td>8b31f2d7d6025482</td>\n",
       "      <td>BUTTSECKS BUTTSECKS BUTTSECKS BUTTSECKS BUTTSE...</td>\n",
       "      <td>1</td>\n",
       "      <td>0</td>\n",
       "      <td>1</td>\n",
       "      <td>0</td>\n",
       "      <td>0</td>\n",
       "      <td>0</td>\n",
       "    </tr>\n",
       "    <tr>\n",
       "      <th>123571</th>\n",
       "      <td>94f8578325d529ad</td>\n",
       "      <td>LMAO WHAT WEAK THREATS, I HAVENT BEEN BANNED Y...</td>\n",
       "      <td>1</td>\n",
       "      <td>1</td>\n",
       "      <td>1</td>\n",
       "      <td>0</td>\n",
       "      <td>1</td>\n",
       "      <td>0</td>\n",
       "    </tr>\n",
       "    <tr>\n",
       "      <th>128782</th>\n",
       "      <td>b0b8f1eaa83616fe</td>\n",
       "      <td>sex fucksex fucksex fucksex fucksex fucksex fu...</td>\n",
       "      <td>1</td>\n",
       "      <td>1</td>\n",
       "      <td>1</td>\n",
       "      <td>0</td>\n",
       "      <td>0</td>\n",
       "      <td>0</td>\n",
       "    </tr>\n",
       "    <tr>\n",
       "      <th>131729</th>\n",
       "      <td>c0e076f0011acaa6</td>\n",
       "      <td>\"FFFFF UUUUUU CCCCCC KKKKKK ===== YOU! F UU C ...</td>\n",
       "      <td>1</td>\n",
       "      <td>1</td>\n",
       "      <td>1</td>\n",
       "      <td>0</td>\n",
       "      <td>1</td>\n",
       "      <td>0</td>\n",
       "    </tr>\n",
       "    <tr>\n",
       "      <th>133254</th>\n",
       "      <td>c8f01ac90c4adc27</td>\n",
       "      <td>FUCK YOU ALL!!  FUCK YOU ALL!!  FUCK YOU ALL!!...</td>\n",
       "      <td>1</td>\n",
       "      <td>1</td>\n",
       "      <td>1</td>\n",
       "      <td>0</td>\n",
       "      <td>1</td>\n",
       "      <td>0</td>\n",
       "    </tr>\n",
       "    <tr>\n",
       "      <th>156032</th>\n",
       "      <td>c7e2a95e8146e108</td>\n",
       "      <td>AIDS AIDS AIDS AIDS AIDS AIDS AIDSAIDS AIDS AI...</td>\n",
       "      <td>1</td>\n",
       "      <td>0</td>\n",
       "      <td>0</td>\n",
       "      <td>0</td>\n",
       "      <td>0</td>\n",
       "      <td>0</td>\n",
       "    </tr>\n",
       "    <tr>\n",
       "      <th>156437</th>\n",
       "      <td>ce2d7821188dd30f</td>\n",
       "      <td>HUGE FAGGOT HUGE FAGGOT HUGE FAGGOT HUGE FAGGO...</td>\n",
       "      <td>1</td>\n",
       "      <td>1</td>\n",
       "      <td>1</td>\n",
       "      <td>0</td>\n",
       "      <td>1</td>\n",
       "      <td>1</td>\n",
       "    </tr>\n",
       "    <tr>\n",
       "      <th>158970</th>\n",
       "      <td>f6883b0b85b0dbd7</td>\n",
       "      <td>Hi Wikipedia!!Hi Wikipedia!!Hi Wikipedia!!Hi W...</td>\n",
       "      <td>0</td>\n",
       "      <td>0</td>\n",
       "      <td>0</td>\n",
       "      <td>0</td>\n",
       "      <td>0</td>\n",
       "      <td>0</td>\n",
       "    </tr>\n",
       "  </tbody>\n",
       "</table>\n",
       "</div>"
      ],
      "text/plain": [
       "                      id                                       comment_text  \\\n",
       "4174    0b2055f13934a41e  ii CAN STILL POST WITH THIS COMPUTER...I SAID ...   \n",
       "6201    1091689382892a88  SECURITYFUCK HOMELAND SECURITYFUCK HOMELAND SE...   \n",
       "8705    171ebb2b785f72bd  BALLS BALLS BALLS BALLS BALLS BALLS BALLS BALL...   \n",
       "9673    199912b2d9973a21  FUCK YOU, YOU ATHEIST CUNT! FUCK YOU, YOU ATHE...   \n",
       "10769   1c7b06718dcc3b86  TOMMY2010 IS A NIGGER TOMMY2010 IS A NIGGER TO...   \n",
       "12895   222aad8a931bcfdf  I OWN THIS PAGE YOU FOOLS!! YOU SHOULD FEAR ME...   \n",
       "16643   2be09ad5ce9a8a85  '''Hi Wikipedia!!Hi Wikipedia!!Hi Wikipedia!!H...   \n",
       "18183   300b0c81ea94e02d  Hey guys I love chicken rice=)Hey guys I love ...   \n",
       "22378   3b0e1b13380cdd7a  I fuck niggas! I fuck niggas! I fuck niggas! I...   \n",
       "25702   44096c9bd35a200d  \"....would you prefer expressing my frustratio...   \n",
       "27148   47d24c7955d1cc09  DAMN YOU U CUNT DAMN YOU U CUNT DAMN YOU U CUN...   \n",
       "28855   4c7963eaf9697d35  JIM WALES MUST DIE!!!!!!!!!!!!  JIM WALES MUST...   \n",
       "34422   5bed308adc44efcf  YOU SUCK YOU SUCK YOU SUCK YOU SUCK YOU SUCK Y...   \n",
       "35316   5e50cf56f160bda3  MarxismLONG LIVE ANONYMOUS PHILIPPINESLONG LIV...   \n",
       "42061   70368dd072aebb42  WANKER WANKER WANKER WANKER WANKER WANKER WANK...   \n",
       "46197   7b6b88051eb69303  heil hitler! heil hitler! heil hitler! heil hi...   \n",
       "46583   7c7a4bf4c84fe002  hahahahahahahahahahahahahahahahahaha vandalism...   \n",
       "47715   7f79fd5eacbe804c  Block Block Block Block Block Block Block Bloc...   \n",
       "53408   8ecc71e2dd4e2fbe  BunkSteve is gay! BunkSteve is gay! BunkSteve ...   \n",
       "56063   95d211c0f481df03  AH HAAHHAHAHAH YAAA BITCH YAAAA!@!!!!!!AH HAAH...   \n",
       "56441   96cac8dd8f971c7d  CALTLAS IF YOU CONTINUE TO RVV IT, I WILL BLAN...   \n",
       "56834   97e695cfd71944ed  i CAN STILL POST WITH THIS COMPUTER...I SAID B...   \n",
       "57173   98e4e1f70d28631c  Fuck-off-Jewish ancestryFuck-off-Jewish ancest...   \n",
       "63392   a99aff4a8428dfb2  leari CAN STILL POST WITH THIS COMPUTER...I SA...   \n",
       "70544   bcc6a4fc5f123163  delete this pagedelete this pagedelete this pa...   \n",
       "72192   c14532e93d456260  China smells like fart. China smells like fart...   \n",
       "74753   c7f72686bf613e4e  Dont Change It!!!! zzzzzzzzzzzzzzzzzzzzzzzzzzz...   \n",
       "75165   c91d629c6599bb23  IN THE NAME OF YTMND!IN THE NAME OF YTMND!IN T...   \n",
       "76184   cbeeca0dd8d32c1a  nice work removing edits, faggot ass piece of ...   \n",
       "82636   dd0bd64b02c550af  MUAHAHAHAHAHAHAHAHAHAHAHAHAHAHAHAHAHAHA, YOU C...   \n",
       "86251   e6abb7915c7fd1f1  congratualtions on being such a huge fucking a...   \n",
       "86529   e77118621b13b43f  Wikipedia tEh Free Enyclopedia!!!!!!!!!!!!!!!!...   \n",
       "93952   fb3a15d68a7e7ff2  wiki NOOBS wiki NOOBS wiki NOOBS wiki NOOBS wi...   \n",
       "96267   02dd3c9a9129c83e  BOOTSTOOTS IS A FRIGGEN GAYFAG LOLOOOLBOOTSTOO...   \n",
       "121718  8b31f2d7d6025482  BUTTSECKS BUTTSECKS BUTTSECKS BUTTSECKS BUTTSE...   \n",
       "123571  94f8578325d529ad  LMAO WHAT WEAK THREATS, I HAVENT BEEN BANNED Y...   \n",
       "128782  b0b8f1eaa83616fe  sex fucksex fucksex fucksex fucksex fucksex fu...   \n",
       "131729  c0e076f0011acaa6  \"FFFFF UUUUUU CCCCCC KKKKKK ===== YOU! F UU C ...   \n",
       "133254  c8f01ac90c4adc27  FUCK YOU ALL!!  FUCK YOU ALL!!  FUCK YOU ALL!!...   \n",
       "156032  c7e2a95e8146e108  AIDS AIDS AIDS AIDS AIDS AIDS AIDSAIDS AIDS AI...   \n",
       "156437  ce2d7821188dd30f  HUGE FAGGOT HUGE FAGGOT HUGE FAGGOT HUGE FAGGO...   \n",
       "158970  f6883b0b85b0dbd7  Hi Wikipedia!!Hi Wikipedia!!Hi Wikipedia!!Hi W...   \n",
       "\n",
       "        toxic  severe_toxic  obscene  threat  insult  identity_hate  \n",
       "4174        1             0        1       0       1              0  \n",
       "6201        1             1        1       0       0              0  \n",
       "8705        1             0        0       0       0              0  \n",
       "9673        1             1        1       0       1              0  \n",
       "10769       1             0        0       0       1              1  \n",
       "12895       1             0        0       0       1              0  \n",
       "16643       0             0        0       0       0              0  \n",
       "18183       0             0        0       0       0              0  \n",
       "22378       1             1        1       0       1              1  \n",
       "25702       0             0        0       0       0              0  \n",
       "27148       1             1        1       0       1              0  \n",
       "28855       1             1        0       1       0              0  \n",
       "34422       1             1        1       0       1              0  \n",
       "35316       0             0        0       0       0              0  \n",
       "42061       1             0        0       0       0              0  \n",
       "46197       1             0        0       0       0              0  \n",
       "46583       1             0        0       0       0              0  \n",
       "47715       0             0        0       0       0              0  \n",
       "53408       1             1        0       0       1              1  \n",
       "56063       1             1        1       0       1              0  \n",
       "56441       1             1        0       1       0              0  \n",
       "56834       1             1        1       0       1              0  \n",
       "57173       1             1        1       0       1              1  \n",
       "63392       1             1        1       0       1              0  \n",
       "70544       0             0        0       0       0              0  \n",
       "72192       1             0        0       0       0              0  \n",
       "74753       0             0        0       0       0              0  \n",
       "75165       0             0        0       0       0              0  \n",
       "76184       1             1        1       0       1              0  \n",
       "82636       1             0        0       0       0              0  \n",
       "86251       1             0        1       0       1              0  \n",
       "86529       0             0        0       0       0              0  \n",
       "93952       1             0        0       0       0              0  \n",
       "96267       1             0        0       0       1              0  \n",
       "121718      1             0        1       0       0              0  \n",
       "123571      1             1        1       0       1              0  \n",
       "128782      1             1        1       0       0              0  \n",
       "131729      1             1        1       0       1              0  \n",
       "133254      1             1        1       0       1              0  \n",
       "156032      1             0        0       0       0              0  \n",
       "156437      1             1        1       0       1              1  \n",
       "158970      0             0        0       0       0              0  "
      ]
     },
     "execution_count": 233,
     "metadata": {},
     "output_type": "execute_result"
    }
   ],
   "source": [
    "train.loc[max_comment_idx,:]"
   ]
  },
  {
   "cell_type": "code",
   "execution_count": 234,
   "metadata": {},
   "outputs": [],
   "source": [
    "#train['comment_text'][max_comment_idx]"
   ]
  },
  {
   "cell_type": "markdown",
   "metadata": {},
   "source": [
    "These comments that reached the character limit look mostly toxic or nonsense otherwise!! These comments also show there are many repeated words, seneteces, or letters, and bad words attached together without space, which could make analysis difficult. Taking care of these problematic words can be very helpful for toxic comment predictions."
   ]
  },
  {
   "cell_type": "code",
   "execution_count": 235,
   "metadata": {
    "scrolled": true
   },
   "outputs": [
    {
     "data": {
      "text/html": [
       "<div>\n",
       "<style scoped>\n",
       "    .dataframe tbody tr th:only-of-type {\n",
       "        vertical-align: middle;\n",
       "    }\n",
       "\n",
       "    .dataframe tbody tr th {\n",
       "        vertical-align: top;\n",
       "    }\n",
       "\n",
       "    .dataframe thead th {\n",
       "        text-align: right;\n",
       "    }\n",
       "</style>\n",
       "<table border=\"1\" class=\"dataframe\">\n",
       "  <thead>\n",
       "    <tr style=\"text-align: right;\">\n",
       "      <th></th>\n",
       "      <th>toxic</th>\n",
       "      <th>severe_toxic</th>\n",
       "      <th>obscene</th>\n",
       "      <th>threat</th>\n",
       "      <th>insult</th>\n",
       "      <th>identity_hate</th>\n",
       "    </tr>\n",
       "  </thead>\n",
       "  <tbody>\n",
       "    <tr>\n",
       "      <th>count</th>\n",
       "      <td>42.000000</td>\n",
       "      <td>42.000000</td>\n",
       "      <td>42.000000</td>\n",
       "      <td>42.000000</td>\n",
       "      <td>42.000000</td>\n",
       "      <td>42.000000</td>\n",
       "    </tr>\n",
       "    <tr>\n",
       "      <th>mean</th>\n",
       "      <td>0.761905</td>\n",
       "      <td>0.428571</td>\n",
       "      <td>0.428571</td>\n",
       "      <td>0.047619</td>\n",
       "      <td>0.452381</td>\n",
       "      <td>0.119048</td>\n",
       "    </tr>\n",
       "    <tr>\n",
       "      <th>std</th>\n",
       "      <td>0.431081</td>\n",
       "      <td>0.500870</td>\n",
       "      <td>0.500870</td>\n",
       "      <td>0.215540</td>\n",
       "      <td>0.503761</td>\n",
       "      <td>0.327770</td>\n",
       "    </tr>\n",
       "    <tr>\n",
       "      <th>min</th>\n",
       "      <td>0.000000</td>\n",
       "      <td>0.000000</td>\n",
       "      <td>0.000000</td>\n",
       "      <td>0.000000</td>\n",
       "      <td>0.000000</td>\n",
       "      <td>0.000000</td>\n",
       "    </tr>\n",
       "    <tr>\n",
       "      <th>25%</th>\n",
       "      <td>1.000000</td>\n",
       "      <td>0.000000</td>\n",
       "      <td>0.000000</td>\n",
       "      <td>0.000000</td>\n",
       "      <td>0.000000</td>\n",
       "      <td>0.000000</td>\n",
       "    </tr>\n",
       "    <tr>\n",
       "      <th>50%</th>\n",
       "      <td>1.000000</td>\n",
       "      <td>0.000000</td>\n",
       "      <td>0.000000</td>\n",
       "      <td>0.000000</td>\n",
       "      <td>0.000000</td>\n",
       "      <td>0.000000</td>\n",
       "    </tr>\n",
       "    <tr>\n",
       "      <th>75%</th>\n",
       "      <td>1.000000</td>\n",
       "      <td>1.000000</td>\n",
       "      <td>1.000000</td>\n",
       "      <td>0.000000</td>\n",
       "      <td>1.000000</td>\n",
       "      <td>0.000000</td>\n",
       "    </tr>\n",
       "    <tr>\n",
       "      <th>max</th>\n",
       "      <td>1.000000</td>\n",
       "      <td>1.000000</td>\n",
       "      <td>1.000000</td>\n",
       "      <td>1.000000</td>\n",
       "      <td>1.000000</td>\n",
       "      <td>1.000000</td>\n",
       "    </tr>\n",
       "  </tbody>\n",
       "</table>\n",
       "</div>"
      ],
      "text/plain": [
       "           toxic  severe_toxic    obscene     threat     insult  identity_hate\n",
       "count  42.000000     42.000000  42.000000  42.000000  42.000000      42.000000\n",
       "mean    0.761905      0.428571   0.428571   0.047619   0.452381       0.119048\n",
       "std     0.431081      0.500870   0.500870   0.215540   0.503761       0.327770\n",
       "min     0.000000      0.000000   0.000000   0.000000   0.000000       0.000000\n",
       "25%     1.000000      0.000000   0.000000   0.000000   0.000000       0.000000\n",
       "50%     1.000000      0.000000   0.000000   0.000000   0.000000       0.000000\n",
       "75%     1.000000      1.000000   1.000000   0.000000   1.000000       0.000000\n",
       "max     1.000000      1.000000   1.000000   1.000000   1.000000       1.000000"
      ]
     },
     "execution_count": 235,
     "metadata": {},
     "output_type": "execute_result"
    }
   ],
   "source": [
    "train.loc[max_comment_idx].describe()"
   ]
  },
  {
   "cell_type": "markdown",
   "metadata": {},
   "source": [
    "The comments with the maximum number of characters had much higher proportions of bad comments. The original proportions of bad comments from all comments are in parentheses for easy comparisons.  \n",
    "\n",
    "  - Toxic:         76.2% (9.58%) \n",
    "  - Severe Toxic:  42.9% (1.00%)\n",
    "  - Obcene:        42.9% (5.29%)\n",
    "  - Threat:        4.8%  (0.30%)\n",
    "  - Insult:        45.2% (4.94%)\n",
    "  - Identity hate: 11.9% (0.88%)\n",
    "  "
   ]
  },
  {
   "cell_type": "markdown",
   "metadata": {},
   "source": [
    "These results made me wonder how different the distribution of comment lengths is between toxic and nontoxic comments and whether longer comments are more likely toxic. I will check this after making some extra columns we need."
   ]
  },
  {
   "cell_type": "code",
   "execution_count": 236,
   "metadata": {},
   "outputs": [],
   "source": [
    "#del train['num_char']\n",
    "#train.head()"
   ]
  },
  {
   "cell_type": "code",
   "execution_count": 237,
   "metadata": {},
   "outputs": [
    {
     "data": {
      "text/plain": [
       "159571"
      ]
     },
     "execution_count": 237,
     "metadata": {},
     "output_type": "execute_result"
    }
   ],
   "source": [
    "# Create a new column with value 1 if any toxic category is 1 and value 0 otherwise\n",
    "ints = np.vectorize(int)\n",
    "bad = ints(train.iloc[:,2:].sum(axis=1) > 0)\n",
    "len(bad)"
   ]
  },
  {
   "cell_type": "code",
   "execution_count": 238,
   "metadata": {},
   "outputs": [
    {
     "data": {
      "text/plain": [
       "0.10167887648758234"
      ]
     },
     "execution_count": 238,
     "metadata": {},
     "output_type": "execute_result"
    }
   ],
   "source": [
    "np.mean(bad)"
   ]
  },
  {
   "cell_type": "code",
   "execution_count": 239,
   "metadata": {},
   "outputs": [],
   "source": [
    "# Make a new dataframe with extra columns, 'num_char' and 'bad'\n",
    "train_ExtraFeature = train.copy() # needed copy() not to change the original dataframe train\n",
    "train_ExtraFeature['num_char'] = text_len\n",
    "train_ExtraFeature['bad'] = bad"
   ]
  },
  {
   "cell_type": "code",
   "execution_count": 240,
   "metadata": {
    "scrolled": true
   },
   "outputs": [
    {
     "data": {
      "image/png": "[encoded data removed]",
      "text/plain": [
       "<Figure size 432x288 with 1 Axes>"
      ]
     },
     "metadata": {},
     "output_type": "display_data"
    }
   ],
   "source": [
    "# Distributions of number of characters (Bad vs. Not Bad)\n",
    "Bad = train_ExtraFeature[train_ExtraFeature['bad']==1]['num_char']\n",
    "NotBad = train_ExtraFeature[train_ExtraFeature['bad']==0]['num_char']\n",
    "plt.hist(NotBad, bins=100, log = True, alpha=0.5, label='Not bad',edgecolor ='b')\n",
    "plt.hist(Bad, bins=100, log = True, alpha=0.5, label='Bad',edgecolor ='b')\n",
    "plt.legend(loc='upper right')\n",
    "plt.ylabel('Frequency')\n",
    "plt.xlabel('Number of characters')\n",
    "plt.title(' Bad vs. Not Bad')\n",
    "plt.show()"
   ]
  },
  {
   "cell_type": "markdown",
   "metadata": {},
   "source": [
    "This combined histogram shows distributions of comment lengths separately for bad and not bad comments. This shows the increase after 4000 characters shown in the earlier histogram for all commments was mainly from bad comments. The proportion of bad comments tends to be higher for short or extremely long comments than for moderate length comments."
   ]
  },
  {
   "cell_type": "code",
   "execution_count": 241,
   "metadata": {},
   "outputs": [],
   "source": [
    "categories =['toxic', 'severe_toxic', 'obscene', \n",
    "             'threat', 'insult', 'identity_hate']"
   ]
  },
  {
   "cell_type": "code",
   "execution_count": 242,
   "metadata": {
    "scrolled": true
   },
   "outputs": [],
   "source": [
    "# With outliers\n",
    "\n",
    "#for category in categories:\n",
    "#    train_ExtraFeature.boxplot('num_char',category)\n",
    "#    plt.title('')\n",
    "#    plt.ylabel('Number of Characters')\n",
    "#plt.show()"
   ]
  },
  {
   "cell_type": "markdown",
   "metadata": {},
   "source": [
    "The boxplots for all comments were somewhat difficult to show patterns due to too many outliers with long comments, so I will check boxplots without outliers. Later I will check the long comments separately."
   ]
  },
  {
   "cell_type": "code",
   "execution_count": 243,
   "metadata": {
    "scrolled": true
   },
   "outputs": [
    {
     "data": {
      "image/png": "[encoded data removed]",
      "text/plain": [
       "<Figure size 432x288 with 1 Axes>"
      ]
     },
     "metadata": {},
     "output_type": "display_data"
    },
    {
     "data": {
      "image/png": "[encoded data removed]",
      "text/plain": [
       "<Figure size 432x288 with 1 Axes>"
      ]
     },
     "metadata": {},
     "output_type": "display_data"
    },
    {
     "data": {
      "image/png": "[encoded data removed]",
      "text/plain": [
       "<Figure size 432x288 with 1 Axes>"
      ]
     },
     "metadata": {},
     "output_type": "display_data"
    },
    {
     "data": {
      "image/png": "[encoded data removed]",
      "text/plain": [
       "<Figure size 432x288 with 1 Axes>"
      ]
     },
     "metadata": {},
     "output_type": "display_data"
    },
    {
     "data": {
      "image/png": "[encoded data removed]",
      "text/plain": [
       "<Figure size 432x288 with 1 Axes>"
      ]
     },
     "metadata": {},
     "output_type": "display_data"
    },
    {
     "data": {
      "image/png": "[encoded data removed]",
      "text/plain": [
       "<Figure size 432x288 with 1 Axes>"
      ]
     },
     "metadata": {},
     "output_type": "display_data"
    }
   ],
   "source": [
    "# Without outliers\n",
    "for category in categories:\n",
    "    train_ExtraFeature.boxplot('num_char',category, showfliers = False)\n",
    "    plt.title('')\n",
    "    plt.ylabel('Number of Characters')\n",
    "plt.show()"
   ]
  },
  {
   "cell_type": "code",
   "execution_count": 244,
   "metadata": {},
   "outputs": [
    {
     "data": {
      "image/png": "[encoded data removed]",
      "text/plain": [
       "<Figure size 432x288 with 1 Axes>"
      ]
     },
     "metadata": {},
     "output_type": "display_data"
    }
   ],
   "source": [
    "# Using the new column 'bad'\n",
    "train_ExtraFeature.boxplot('num_char','bad', showfliers = False)\n",
    "plt.title('')\n",
    "plt.ylabel('Number of Characters')\n",
    "plt.show()"
   ]
  },
  {
   "cell_type": "markdown",
   "metadata": {},
   "source": [
    "These plots without outliers show that bad comments tend to be shorter rather than longer. However, the length of comments does not seem to be significantly different; the side by side boxes overlap substantially for all categories.\n",
    "\n",
    "Now I will check boxplots for the comments with over 1000 characters or more since most outliers fall above 1000 characters."
   ]
  },
  {
   "cell_type": "code",
   "execution_count": 245,
   "metadata": {
    "scrolled": false
   },
   "outputs": [
    {
     "data": {
      "image/png": "[encoded data removed]",
      "text/plain": [
       "<Figure size 432x288 with 1 Axes>"
      ]
     },
     "metadata": {},
     "output_type": "display_data"
    },
    {
     "data": {
      "image/png": "[encoded data removed]",
      "text/plain": [
       "<Figure size 432x288 with 1 Axes>"
      ]
     },
     "metadata": {},
     "output_type": "display_data"
    },
    {
     "data": {
      "image/png": "[encoded data removed]",
      "text/plain": [
       "<Figure size 432x288 with 1 Axes>"
      ]
     },
     "metadata": {},
     "output_type": "display_data"
    },
    {
     "data": {
      "image/png": "[encoded data removed]",
      "text/plain": [
       "<Figure size 432x288 with 1 Axes>"
      ]
     },
     "metadata": {},
     "output_type": "display_data"
    },
    {
     "data": {
      "image/png": "[encoded data removed]",
      "text/plain": [
       "<Figure size 432x288 with 1 Axes>"
      ]
     },
     "metadata": {},
     "output_type": "display_data"
    },
    {
     "data": {
      "image/png": "[encoded data removed]",
      "text/plain": [
       "<Figure size 432x288 with 1 Axes>"
      ]
     },
     "metadata": {},
     "output_type": "display_data"
    }
   ],
   "source": [
    "# Comments with 1000 characters or more\n",
    "for category in categories:\n",
    "    train_ExtraFeature[train_ExtraFeature['num_char']>1000].boxplot('num_char',category)\n",
    "    plt.title('')\n",
    "    plt.ylabel('Number of Characters')\n",
    "plt.show()"
   ]
  },
  {
   "cell_type": "markdown",
   "metadata": {},
   "source": [
    "If we only consider comments with over 1000 characters, bad comments tend to be longer!! However, again the difference does not seem to be significant except for severe toxic comments. The boxes for severe toxic and not severe toxic comments are not overlapping. In other words, severe toxic comments are much longer than not severe toxic comments if comments are longer than 1000 characters. Moreover, the extremely long comments are outliers for not bad comments while they are not outliers for bad comments. \n",
    "\n",
    "Although some patterns are found in this comment length analysis, I am not sure whether using the length of comment would be helpful for toxic comment predictions at this point."
   ]
  },
  {
   "cell_type": "code",
   "execution_count": 246,
   "metadata": {
    "scrolled": true
   },
   "outputs": [],
   "source": [
    "#Let's check more extreme cases where comments have over 4000 characters. \n",
    "#Recall that the histogram of comment lengths for all comments had an increase after 4000 characters and \n",
    "#I found the increase is due to bad comments. \n",
    "\n",
    "# Comments with 4000 characters or more\n",
    "#for category in categories:\n",
    "#    train_ExtraFeature[train_ExtraFeature['num_char']>4000].boxplot('num_char',category)\n",
    "#    plt.title('')\n",
    "#    plt.ylabel('Number of Characters')\n",
    "#plt.show()"
   ]
  },
  {
   "cell_type": "code",
   "execution_count": 247,
   "metadata": {
    "scrolled": true
   },
   "outputs": [],
   "source": [
    "# Comments with 4000 characters or more\n",
    "#train_ExtraFeature[train_ExtraFeature['num_char']>4000].boxplot('num_char','bad')\n",
    "#plt.title('')\n",
    "#plt.ylabel('Number of Characters')\n",
    "#plt.show()\n",
    "\n",
    "#As expected, bad comments tend to be longer than not bad comments if only extremely long comments are considered. "
   ]
  },
  {
   "cell_type": "markdown",
   "metadata": {},
   "source": [
    "<a id='Section4'></a>\n",
    "## 4. Cleaning and Stemming"
   ]
  },
  {
   "cell_type": "markdown",
   "metadata": {},
   "source": [
    "Here I will clean text comments and apply stemming."
   ]
  },
  {
   "cell_type": "code",
   "execution_count": 248,
   "metadata": {},
   "outputs": [],
   "source": [
    "# Get pandas series out of data frames \n",
    "train_comment = train['comment_text']\n",
    "test_comment = test['comment_text']"
   ]
  },
  {
   "cell_type": "markdown",
   "metadata": {},
   "source": [
    "### Trying out with one comment"
   ]
  },
  {
   "cell_type": "markdown",
   "metadata": {},
   "source": [
    "To develope each step, I will first use only one comment and then apply all steps to all comments. "
   ]
  },
  {
   "cell_type": "code",
   "execution_count": 249,
   "metadata": {},
   "outputs": [
    {
     "name": "stdout",
     "output_type": "stream",
     "text": [
      "Explanation\n",
      "Why the edits made under my username Hardcore Metallica Fan were reverted? They weren't vandalisms, just closure on some GAs after I voted at New York Dolls FAC. And please don't remove the template from the talk page since I'm retired now.89.205.38.27\n"
     ]
    }
   ],
   "source": [
    "sample_comment = train['comment_text'][0]\n",
    "print(sample_comment)"
   ]
  },
  {
   "cell_type": "code",
   "execution_count": 250,
   "metadata": {
    "scrolled": true
   },
   "outputs": [
    {
     "name": "stdout",
     "output_type": "stream",
     "text": [
      "Explanation\n",
      "Why the edits made under my username Hardcore Metallica Fan were reverted They werent vandalisms just closure on some GAs after I voted at New York Dolls FAC And please dont remove the template from the talk page since Im retired now892053827\n"
     ]
    }
   ],
   "source": [
    "# remove punctuations\n",
    "sample_comment = re.sub(r'[^\\w\\s]','',sample_comment)\n",
    "print(sample_comment)"
   ]
  },
  {
   "cell_type": "code",
   "execution_count": 251,
   "metadata": {
    "scrolled": true
   },
   "outputs": [
    {
     "name": "stdout",
     "output_type": "stream",
     "text": [
      "['Explanation', 'Why', 'the', 'edits', 'made', 'under', 'my', 'username', 'Hardcore', 'Metallica', 'Fan', 'were', 'reverted', 'They', 'werent', 'vandalisms', 'just', 'closure', 'on', 'some', 'GAs', 'after', 'I', 'voted', 'at', 'New', 'York', 'Dolls', 'FAC', 'And', 'please', 'dont', 'remove', 'the', 'template', 'from', 'the', 'talk', 'page', 'since', 'Im', 'retired', 'now892053827']\n"
     ]
    }
   ],
   "source": [
    "# split text into words\n",
    "word_list = sample_comment.split()\n",
    "print(word_list)"
   ]
  },
  {
   "cell_type": "code",
   "execution_count": 252,
   "metadata": {
    "scrolled": true
   },
   "outputs": [
    {
     "name": "stdout",
     "output_type": "stream",
     "text": [
      "explan whi the edit made under my usernam hardcor metallica fan were revert they werent vandal just closur on some gas after i vote at new york doll fac and pleas dont remov the templat from the talk page sinc im retir now892053827 \n"
     ]
    }
   ],
   "source": [
    "# apply stemmer and combine them again\n",
    "stemmer= SnowballStemmer(\"english\")\n",
    "\n",
    "words = \"\"\n",
    "for word in word_list:\n",
    "    if word != \"\":\n",
    "        word_stemmed = stemmer.stem(word)\n",
    "        words += word_stemmed + \" \"\n",
    "print(words)"
   ]
  },
  {
   "cell_type": "markdown",
   "metadata": {},
   "source": [
    "### Apply all steps to every comment"
   ]
  },
  {
   "cell_type": "markdown",
   "metadata": {},
   "source": [
    "Now it' time to apply the above steps to every comment in the training set. First, I will make a function that combines all the steps."
   ]
  },
  {
   "cell_type": "code",
   "execution_count": 253,
   "metadata": {},
   "outputs": [],
   "source": [
    "def text_preprocessing(text):\n",
    "    #remove punctuations\n",
    "    text_string = re.sub(r'[^\\w\\s]','',text)\n",
    "    #split text into words\n",
    "    word_list = text_string.split()\n",
    "    #apply stemmer and combine them again\n",
    "    stemmer= SnowballStemmer(\"english\")\n",
    "    words = \"\"\n",
    "    for word in word_list:\n",
    "        if word != \"\":\n",
    "            word_stemmed = stemmer.stem(word)\n",
    "            words += word_stemmed + \" \"\n",
    "    return words"
   ]
  },
  {
   "cell_type": "code",
   "execution_count": 254,
   "metadata": {
    "scrolled": true
   },
   "outputs": [
    {
     "name": "stdout",
     "output_type": "stream",
     "text": [
      "Original text: \n",
      " Explanation\n",
      "Why the edits made under my username Hardcore Metallica Fan were reverted? They weren't vandalisms, just closure on some GAs after I voted at New York Dolls FAC. And please don't remove the template from the talk page since I'm retired now.89.205.38.27\n",
      "\n",
      "Processed text: \n",
      " explan whi the edit made under my usernam hardcor metallica fan were revert they werent vandal just closur on some gas after i vote at new york doll fac and pleas dont remov the templat from the talk page sinc im retir now892053827 \n"
     ]
    }
   ],
   "source": [
    "print(\"Original text:\",\"\\n\", train['comment_text'][0])\n",
    "print()\n",
    "print(\"Processed text:\",\"\\n\", text_preprocessing( train['comment_text'][0]))"
   ]
  },
  {
   "cell_type": "markdown",
   "metadata": {},
   "source": [
    "Great! The function works well for one text. Now it's time to apply the preprocessing function to all comments in the training set."
   ]
  },
  {
   "cell_type": "code",
   "execution_count": 255,
   "metadata": {
    "scrolled": true
   },
   "outputs": [
    {
     "data": {
      "text/plain": [
       "0    Explanation\\nWhy the edits made under my usern...\n",
       "1    D'aww! He matches this background colour I'm s...\n",
       "2    Hey man, I'm really not trying to edit war. It...\n",
       "3    \"\\nMore\\nI can't make any real suggestions on ...\n",
       "4    You, sir, are my hero. Any chance you remember...\n",
       "5    \"\\n\\nCongratulations from me as well, use the ...\n",
       "6         COCKSUCKER BEFORE YOU PISS AROUND ON MY WORK\n",
       "7    Your vandalism to the Matt Shirvington article...\n",
       "8    Sorry if the word 'nonsense' was offensive to ...\n",
       "9    alignment on this subject and which are contra...\n",
       "Name: comment_text, dtype: object"
      ]
     },
     "execution_count": 255,
     "metadata": {},
     "output_type": "execute_result"
    }
   ],
   "source": [
    "#Check original comments in the training set\n",
    "train_comment.head(10)"
   ]
  },
  {
   "cell_type": "code",
   "execution_count": 256,
   "metadata": {},
   "outputs": [
    {
     "name": "stdout",
     "output_type": "stream",
     "text": [
      "Wall time: 1min 48s\n"
     ]
    }
   ],
   "source": [
    "%%time\n",
    "# stemming all comments in the training set\n",
    "train_comment_stemmed = train_comment.apply(text_preprocessing)"
   ]
  },
  {
   "cell_type": "code",
   "execution_count": 257,
   "metadata": {
    "scrolled": false
   },
   "outputs": [
    {
     "data": {
      "text/plain": [
       "0    explan whi the edit made under my usernam hard...\n",
       "1    daww he match this background colour im seem s...\n",
       "2    hey man im realli not tri to edit war it just ...\n",
       "3    more i cant make ani real suggest on improv i ...\n",
       "4    you sir are my hero ani chanc you rememb what ...\n",
       "5    congratul from me as well use the tool well talk \n",
       "6           cocksuck befor you piss around on my work \n",
       "7    your vandal to the matt shirvington articl has...\n",
       "8    sorri if the word nonsens was offens to you an...\n",
       "9    align on this subject and which are contrari t...\n",
       "Name: comment_text, dtype: object"
      ]
     },
     "execution_count": 257,
     "metadata": {},
     "output_type": "execute_result"
    }
   ],
   "source": [
    "train_comment_stemmed.head(10)"
   ]
  },
  {
   "cell_type": "markdown",
   "metadata": {},
   "source": [
    "The texts in the test set should be also stemmed since words in the test set should be vectorized and transformed into a feature matrix as well."
   ]
  },
  {
   "cell_type": "code",
   "execution_count": 258,
   "metadata": {},
   "outputs": [
    {
     "name": "stdout",
     "output_type": "stream",
     "text": [
      "Wall time: 1min 34s\n"
     ]
    }
   ],
   "source": [
    "%%time\n",
    "# stemming all comments in the test set\n",
    "test_comment_stemmed = test_comment.apply(text_preprocessing)"
   ]
  },
  {
   "cell_type": "code",
   "execution_count": 259,
   "metadata": {
    "scrolled": true
   },
   "outputs": [
    {
     "data": {
      "text/plain": [
       "0    yo bitch ja rule is more succes then youll eve...\n",
       "1              from rfc the titl is fine as it is imo \n",
       "2                         sourc zaw ashton on lapland \n",
       "3    if you have a look back at the sourc the infor...\n",
       "4                    i dont anonym edit articl at all \n",
       "Name: comment_text, dtype: object"
      ]
     },
     "execution_count": 259,
     "metadata": {},
     "output_type": "execute_result"
    }
   ],
   "source": [
    "test_comment_stemmed.head()"
   ]
  },
  {
   "cell_type": "markdown",
   "metadata": {},
   "source": [
    "Done with cleaning and stemming! Now let's move on to the vectorization part."
   ]
  },
  {
   "cell_type": "markdown",
   "metadata": {},
   "source": [
    "<a id='Section5'></a>\n",
    "## 5. TfidfVectorizer\n",
    "A vectorizer converts a collection of text documents into a numerical (sparse) matrix with 1 row per document and 1 column per token (e.g. word). I will use the Tf-idf (term frequency inverse document frequency) vectorizer."
   ]
  },
  {
   "cell_type": "code",
   "execution_count": 260,
   "metadata": {},
   "outputs": [
    {
     "name": "stdout",
     "output_type": "stream",
     "text": [
      "Wall time: 19.1 s\n"
     ]
    }
   ],
   "source": [
    "%%time\n",
    "# Using stemmed comments\n",
    "vectorizer = TfidfVectorizer(analyzer ='word', \n",
    "                             stop_words='english',\n",
    "                             sublinear_tf=True, #term-freq scaling\n",
    "                             strip_accents='unicode', #works generally\n",
    "                             token_pattern=r'\\w{1,}', #1+ char words\n",
    "                             ngram_range=(1,1),\n",
    "                             max_features=10000) #consider top 10000\n",
    "\n",
    "vectorizer.fit(pd.concat([train_comment_stemmed,test_comment_stemmed]))\n",
    "\n",
    "train_feature_matrix = vectorizer.transform(train_comment_stemmed)\n",
    "#test_feature_matrix = vectorizer.transform(test_comment_stemmed)"
   ]
  },
  {
   "cell_type": "markdown",
   "metadata": {},
   "source": [
    "'token_pattern' and 'ngram_range' will be tuned later."
   ]
  },
  {
   "cell_type": "code",
   "execution_count": 261,
   "metadata": {},
   "outputs": [],
   "source": [
    "# this function will help checking the results at glance\n",
    "def print_results():\n",
    "    print(\"### Tuning hyper-parameters for {} ###\".format(category))\n",
    "    print()\n",
    "    print(\"Best hyper-parameters on development set:\")\n",
    "    print(clf.best_params_)\n",
    "    print()\n",
    "    print(\"Grid search scores on development set:\")\n",
    "    means = clf.cv_results_['mean_test_score']\n",
    "    stds = clf.cv_results_['std_test_score']\n",
    "    for mean, std, params in zip(means, stds, clf.cv_results_['params']):\n",
    "        print(\"%0.4f (+/-%0.04f) for %r\" % (mean, std * 2, params))\n",
    "    print()    "
   ]
  },
  {
   "cell_type": "markdown",
   "metadata": {},
   "source": [
    "<a id='Section6'></a>\n",
    "## 6. Logistic Regression"
   ]
  },
  {
   "cell_type": "markdown",
   "metadata": {},
   "source": [
    "Logistic regression will be test as a classifier. I will tune some hyper-parameters, but more fine tuning will be done in the next section.\n",
    "\n",
    "#### Performance measure\n",
    "The performance measure selected is 'roc_auc' since the Kaggle competition uses the metric for evaluation. I do not believe AUC is a good measure for data with highky unbalanced classes, but the only way to evaluate my model using the test set is submitting my predictions to the leaderboard, which will let me know only AUC values. Note that high AUC scores (e.g., 0.98) from unbalanced data do not mean your model is actually predicting well. F1 or other scores could be still very bad!!! For this reason, I will check some other performance measures as well.   \n",
    "\n",
    "#### C\n",
    "The hyper-parameter 'C' for LogisticRegression represents the inverse of regularization strength. I will use \"coarse to fine\" strategy to tune C and optimize C value for each type of toxicity.\n",
    "\n",
    "#### Solver\n",
    "If 'C'=100 is included in the hyper-parameter set, 'sag' gives bunch of convergence warnings, takes so much longer and the score for 'C'=100 was worse than lower C. Thus, I omitted 100 from the 'C' range. "
   ]
  },
  {
   "cell_type": "code",
   "execution_count": 262,
   "metadata": {},
   "outputs": [
    {
     "data": {
      "text/plain": [
       "Index(['id', 'comment_text', 'toxic', 'severe_toxic', 'obscene', 'threat',\n",
       "       'insult', 'identity_hate'],\n",
       "      dtype='object')"
      ]
     },
     "execution_count": 262,
     "metadata": {},
     "output_type": "execute_result"
    }
   ],
   "source": [
    "train.columns # just to coveniently copy and paste category names below"
   ]
  },
  {
   "cell_type": "code",
   "execution_count": 263,
   "metadata": {},
   "outputs": [],
   "source": [
    "categories =['toxic', 'severe_toxic', 'obscene', \n",
    "             'threat', 'insult', 'identity_hate']"
   ]
  },
  {
   "cell_type": "code",
   "execution_count": 264,
   "metadata": {
    "scrolled": false
   },
   "outputs": [
    {
     "name": "stdout",
     "output_type": "stream",
     "text": [
      "### Tuning hyper-parameters for toxic ###\n",
      "\n",
      "Best hyper-parameters on development set:\n",
      "{'C': 1, 'solver': 'sag'}\n",
      "\n",
      "Grid search scores on development set:\n",
      "0.9595 (+/-0.0048) for {'C': 0.1, 'solver': 'liblinear'}\n",
      "0.9596 (+/-0.0047) for {'C': 0.1, 'solver': 'sag'}\n",
      "0.9696 (+/-0.0028) for {'C': 1, 'solver': 'liblinear'}\n",
      "0.9696 (+/-0.0028) for {'C': 1, 'solver': 'sag'}\n",
      "0.9656 (+/-0.0022) for {'C': 10, 'solver': 'liblinear'}\n",
      "0.9656 (+/-0.0022) for {'C': 10, 'solver': 'sag'}\n",
      "\n",
      "### Tuning hyper-parameters for severe_toxic ###\n",
      "\n",
      "Best hyper-parameters on development set:\n",
      "{'C': 1, 'solver': 'sag'}\n",
      "\n",
      "Grid search scores on development set:\n",
      "0.9837 (+/-0.0029) for {'C': 0.1, 'solver': 'liblinear'}\n",
      "0.9839 (+/-0.0025) for {'C': 0.1, 'solver': 'sag'}\n",
      "0.9851 (+/-0.0033) for {'C': 1, 'solver': 'liblinear'}\n",
      "0.9851 (+/-0.0032) for {'C': 1, 'solver': 'sag'}\n",
      "0.9790 (+/-0.0050) for {'C': 10, 'solver': 'liblinear'}\n",
      "0.9790 (+/-0.0049) for {'C': 10, 'solver': 'sag'}\n",
      "\n",
      "### Tuning hyper-parameters for obscene ###\n",
      "\n",
      "Best hyper-parameters on development set:\n",
      "{'C': 1, 'solver': 'sag'}\n",
      "\n",
      "Grid search scores on development set:\n",
      "0.9795 (+/-0.0037) for {'C': 0.1, 'solver': 'liblinear'}\n",
      "0.9797 (+/-0.0038) for {'C': 0.1, 'solver': 'sag'}\n",
      "0.9843 (+/-0.0032) for {'C': 1, 'solver': 'liblinear'}\n",
      "0.9843 (+/-0.0032) for {'C': 1, 'solver': 'sag'}\n",
      "0.9797 (+/-0.0026) for {'C': 10, 'solver': 'liblinear'}\n",
      "0.9797 (+/-0.0026) for {'C': 10, 'solver': 'sag'}\n",
      "\n",
      "### Tuning hyper-parameters for threat ###\n",
      "\n",
      "Best hyper-parameters on development set:\n",
      "{'C': 1, 'solver': 'liblinear'}\n",
      "\n",
      "Grid search scores on development set:\n",
      "0.9739 (+/-0.0043) for {'C': 0.1, 'solver': 'liblinear'}\n",
      "0.9751 (+/-0.0032) for {'C': 0.1, 'solver': 'sag'}\n",
      "0.9830 (+/-0.0038) for {'C': 1, 'solver': 'liblinear'}\n",
      "0.9830 (+/-0.0038) for {'C': 1, 'solver': 'sag'}\n",
      "0.9809 (+/-0.0053) for {'C': 10, 'solver': 'liblinear'}\n",
      "0.9809 (+/-0.0053) for {'C': 10, 'solver': 'sag'}\n",
      "\n",
      "### Tuning hyper-parameters for insult ###\n",
      "\n",
      "Best hyper-parameters on development set:\n",
      "{'C': 1, 'solver': 'sag'}\n",
      "\n",
      "Grid search scores on development set:\n",
      "0.9707 (+/-0.0016) for {'C': 0.1, 'solver': 'liblinear'}\n",
      "0.9708 (+/-0.0016) for {'C': 0.1, 'solver': 'sag'}\n",
      "0.9756 (+/-0.0005) for {'C': 1, 'solver': 'liblinear'}\n",
      "0.9756 (+/-0.0005) for {'C': 1, 'solver': 'sag'}\n",
      "0.9686 (+/-0.0006) for {'C': 10, 'solver': 'liblinear'}\n",
      "0.9685 (+/-0.0007) for {'C': 10, 'solver': 'sag'}\n",
      "\n",
      "### Tuning hyper-parameters for identity_hate ###\n",
      "\n",
      "Best hyper-parameters on development set:\n",
      "{'C': 1, 'solver': 'sag'}\n",
      "\n",
      "Grid search scores on development set:\n",
      "0.9686 (+/-0.0043) for {'C': 0.1, 'solver': 'liblinear'}\n",
      "0.9692 (+/-0.0038) for {'C': 0.1, 'solver': 'sag'}\n",
      "0.9753 (+/-0.0033) for {'C': 1, 'solver': 'liblinear'}\n",
      "0.9753 (+/-0.0032) for {'C': 1, 'solver': 'sag'}\n",
      "0.9690 (+/-0.0032) for {'C': 10, 'solver': 'liblinear'}\n",
      "0.9690 (+/-0.0032) for {'C': 10, 'solver': 'sag'}\n",
      "\n",
      "Wall time: 2min 48s\n"
     ]
    }
   ],
   "source": [
    "%%time\n",
    "for category in categories:\n",
    "    train_labels = train[category]\n",
    "    parameters = {'solver':['liblinear', 'sag'],'C': [.1,1,10]}\n",
    "    log_reg = LogisticRegression(random_state =42)   \n",
    "    clf= GridSearchCV(log_reg, parameters, scoring='roc_auc', cv=3)\n",
    "    clf.fit(train_feature_matrix, train_labels)\n",
    "    print_results()"
   ]
  },
  {
   "cell_type": "markdown",
   "metadata": {},
   "source": [
    "I found that 1 is the best inverse regularization level 'C' among .1, 1, and 10, but the more fine turning for C will be performed in the next section.   \n",
    "\n",
    "The 'sag' solver performs slighly better than 'liblinear' except for Threat category. Since the difference between the two solvers for Threat is less than .0001 (when C is optimized), I will just use 'sag' for all categories. "
   ]
  },
  {
   "cell_type": "markdown",
   "metadata": {},
   "source": [
    "<a id=\"Section7\"></a>\n",
    "## 7. More Tuning and Extra analysis"
   ]
  },
  {
   "cell_type": "markdown",
   "metadata": {},
   "source": [
    "I will fist do some tuning for C. "
   ]
  },
  {
   "cell_type": "code",
   "execution_count": 265,
   "metadata": {},
   "outputs": [
    {
     "name": "stdout",
     "output_type": "stream",
     "text": [
      "### Tuning hyper-parameters for toxic ###\n",
      "\n",
      "Best hyper-parameters on development set:\n",
      "{'C': 2}\n",
      "\n",
      "Grid search scores on development set:\n",
      "0.9640 (+/-0.0041) for {'C': 0.2}\n",
      "0.9681 (+/-0.0033) for {'C': 0.5}\n",
      "0.9696 (+/-0.0028) for {'C': 1}\n",
      "0.9698 (+/-0.0025) for {'C': 2}\n",
      "0.9682 (+/-0.0022) for {'C': 5}\n",
      "\n",
      "### Tuning hyper-parameters for severe_toxic ###\n",
      "\n",
      "Best hyper-parameters on development set:\n",
      "{'C': 0.5}\n",
      "\n",
      "Grid search scores on development set:\n",
      "0.9846 (+/-0.0026) for {'C': 0.2}\n",
      "0.9852 (+/-0.0028) for {'C': 0.5}\n",
      "0.9851 (+/-0.0032) for {'C': 1}\n",
      "0.9844 (+/-0.0037) for {'C': 2}\n",
      "0.9821 (+/-0.0044) for {'C': 5}\n",
      "\n",
      "### Tuning hyper-parameters for obscene ###\n",
      "\n",
      "Best hyper-parameters on development set:\n",
      "{'C': 1}\n",
      "\n",
      "Grid search scores on development set:\n",
      "0.9818 (+/-0.0037) for {'C': 0.2}\n",
      "0.9836 (+/-0.0034) for {'C': 0.5}\n",
      "0.9843 (+/-0.0032) for {'C': 1}\n",
      "0.9841 (+/-0.0031) for {'C': 2}\n",
      "0.9823 (+/-0.0028) for {'C': 5}\n",
      "\n",
      "### Tuning hyper-parameters for threat ###\n",
      "\n",
      "Best hyper-parameters on development set:\n",
      "{'C': 2}\n",
      "\n",
      "Grid search scores on development set:\n",
      "0.9771 (+/-0.0028) for {'C': 0.2}\n",
      "0.9807 (+/-0.0030) for {'C': 0.5}\n",
      "0.9830 (+/-0.0038) for {'C': 1}\n",
      "0.9840 (+/-0.0043) for {'C': 2}\n",
      "0.9832 (+/-0.0048) for {'C': 5}\n",
      "\n",
      "### Tuning hyper-parameters for insult ###\n",
      "\n",
      "Best hyper-parameters on development set:\n",
      "{'C': 1}\n",
      "\n",
      "Grid search scores on development set:\n",
      "0.9731 (+/-0.0012) for {'C': 0.2}\n",
      "0.9751 (+/-0.0008) for {'C': 0.5}\n",
      "0.9756 (+/-0.0005) for {'C': 1}\n",
      "0.9751 (+/-0.0003) for {'C': 2}\n",
      "0.9723 (+/-0.0004) for {'C': 5}\n",
      "\n",
      "### Tuning hyper-parameters for identity_hate ###\n",
      "\n",
      "Best hyper-parameters on development set:\n",
      "{'C': 1}\n",
      "\n",
      "Grid search scores on development set:\n",
      "0.9719 (+/-0.0034) for {'C': 0.2}\n",
      "0.9745 (+/-0.0032) for {'C': 0.5}\n",
      "0.9753 (+/-0.0032) for {'C': 1}\n",
      "0.9751 (+/-0.0033) for {'C': 2}\n",
      "0.9727 (+/-0.0034) for {'C': 5}\n",
      "\n",
      "Wall time: 2min 23s\n"
     ]
    }
   ],
   "source": [
    "%%time\n",
    "for category in categories:\n",
    "    train_labels = train[category]\n",
    "    parameters = {'C': [.2, .5, 1, 2, 5]}\n",
    "    log_reg = LogisticRegression(solver = 'sag',random_state =42)   \n",
    "    clf= GridSearchCV(log_reg, parameters, scoring='roc_auc', cv=3)\n",
    "    clf.fit(train_feature_matrix, train_labels)\n",
    "    print_results()"
   ]
  },
  {
   "cell_type": "markdown",
   "metadata": {},
   "source": [
    "I found the better opimized C for each category, but C will be tuned even more after finding the best vectorizer."
   ]
  },
  {
   "cell_type": "markdown",
   "metadata": {},
   "source": [
    "### Tuning parameters for vectorizer"
   ]
  },
  {
   "cell_type": "markdown",
   "metadata": {},
   "source": [
    "For the previous vectorizer, I used token_pattern=r'\\w{1,}' to consider 1+ alphanumeric character words as a token and ngram_range=(1,1). In this section, I will try token_pattern=r'\\w{2,}' to consider 2+ alphanumeric character words as a token and ngram_range=(1,2) to consider bigrams together with unigrams."
   ]
  },
  {
   "cell_type": "code",
   "execution_count": 266,
   "metadata": {},
   "outputs": [],
   "source": [
    "#try ngram_range=(1,2) instead of (1,1) to take bigrams into account\n",
    "vectorizer = TfidfVectorizer(analyzer ='word', \n",
    "                             stop_words='english',\n",
    "                             sublinear_tf=True, #term-freq scaling\n",
    "                             strip_accents='unicode', #works generally\n",
    "                             token_pattern=r'\\w{1,}', #1+ char words\n",
    "                             ngram_range=(1,2),\n",
    "                             max_features=10000) #consider top 10000\n",
    "vectorizer.fit(pd.concat([train_comment_stemmed,test_comment_stemmed]))\n",
    "train_feature_matrix = vectorizer.transform(train_comment_stemmed)"
   ]
  },
  {
   "cell_type": "code",
   "execution_count": 267,
   "metadata": {},
   "outputs": [
    {
     "name": "stdout",
     "output_type": "stream",
     "text": [
      "### Tuning hyper-parameters for toxic ###\n",
      "\n",
      "Best hyper-parameters on development set:\n",
      "{'C': 1}\n",
      "\n",
      "Grid search scores on development set:\n",
      "0.9631 (+/-0.0044) for {'C': 0.2}\n",
      "0.9669 (+/-0.0036) for {'C': 0.5}\n",
      "0.9681 (+/-0.0031) for {'C': 1}\n",
      "0.9679 (+/-0.0028) for {'C': 2}\n",
      "0.9654 (+/-0.0027) for {'C': 5}\n",
      "\n",
      "### Tuning hyper-parameters for severe_toxic ###\n",
      "\n",
      "Best hyper-parameters on development set:\n",
      "{'C': 0.5}\n",
      "\n",
      "Grid search scores on development set:\n",
      "0.9840 (+/-0.0031) for {'C': 0.2}\n",
      "0.9845 (+/-0.0035) for {'C': 0.5}\n",
      "0.9843 (+/-0.0040) for {'C': 1}\n",
      "0.9834 (+/-0.0047) for {'C': 2}\n",
      "0.9807 (+/-0.0057) for {'C': 5}\n",
      "\n",
      "### Tuning hyper-parameters for obscene ###\n",
      "\n",
      "Best hyper-parameters on development set:\n",
      "{'C': 1}\n",
      "\n",
      "Grid search scores on development set:\n",
      "0.9813 (+/-0.0036) for {'C': 0.2}\n",
      "0.9831 (+/-0.0034) for {'C': 0.5}\n",
      "0.9835 (+/-0.0032) for {'C': 1}\n",
      "0.9831 (+/-0.0031) for {'C': 2}\n",
      "0.9807 (+/-0.0027) for {'C': 5}\n",
      "\n",
      "### Tuning hyper-parameters for threat ###\n",
      "\n",
      "Best hyper-parameters on development set:\n",
      "{'C': 2}\n",
      "\n",
      "Grid search scores on development set:\n",
      "0.9778 (+/-0.0023) for {'C': 0.2}\n",
      "0.9808 (+/-0.0019) for {'C': 0.5}\n",
      "0.9828 (+/-0.0023) for {'C': 1}\n",
      "0.9838 (+/-0.0026) for {'C': 2}\n",
      "0.9829 (+/-0.0029) for {'C': 5}\n",
      "\n",
      "### Tuning hyper-parameters for insult ###\n",
      "\n",
      "Best hyper-parameters on development set:\n",
      "{'C': 1}\n",
      "\n",
      "Grid search scores on development set:\n",
      "0.9725 (+/-0.0018) for {'C': 0.2}\n",
      "0.9743 (+/-0.0014) for {'C': 0.5}\n",
      "0.9746 (+/-0.0012) for {'C': 1}\n",
      "0.9737 (+/-0.0011) for {'C': 2}\n",
      "0.9703 (+/-0.0012) for {'C': 5}\n",
      "\n",
      "### Tuning hyper-parameters for identity_hate ###\n",
      "\n",
      "Best hyper-parameters on development set:\n",
      "{'C': 1}\n",
      "\n",
      "Grid search scores on development set:\n",
      "0.9718 (+/-0.0038) for {'C': 0.2}\n",
      "0.9742 (+/-0.0037) for {'C': 0.5}\n",
      "0.9749 (+/-0.0035) for {'C': 1}\n",
      "0.9746 (+/-0.0034) for {'C': 2}\n",
      "0.9719 (+/-0.0031) for {'C': 5}\n",
      "\n",
      "Wall time: 2min 25s\n"
     ]
    }
   ],
   "source": [
    "%%time\n",
    "for category in categories:\n",
    "    train_labels = train[category]\n",
    "    parameters = {'C':  [.2, .5, 1, 2, 5]}\n",
    "    log_reg = LogisticRegression(solver = 'sag',random_state =42)   \n",
    "    clf= GridSearchCV(log_reg, parameters, scoring='roc_auc', cv=3)\n",
    "    clf.fit(train_feature_matrix, train_labels)\n",
    "    print_results()"
   ]
  },
  {
   "cell_type": "markdown",
   "metadata": {},
   "source": [
    "Considering bigrams made the performance worse. Now I will try the different token_pattern while keeping ngram_range=(1,1)."
   ]
  },
  {
   "cell_type": "code",
   "execution_count": 268,
   "metadata": {},
   "outputs": [
    {
     "name": "stdout",
     "output_type": "stream",
     "text": [
      "### Tuning hyper-parameters for toxic ###\n",
      "\n",
      "Best hyper-parameters on development set:\n",
      "{'C': 2}\n",
      "\n",
      "Grid search scores on development set:\n",
      "0.9637 (+/-0.0042) for {'C': 0.2}\n",
      "0.9677 (+/-0.0034) for {'C': 0.5}\n",
      "0.9692 (+/-0.0028) for {'C': 1}\n",
      "0.9695 (+/-0.0025) for {'C': 2}\n",
      "0.9678 (+/-0.0022) for {'C': 5}\n",
      "\n",
      "### Tuning hyper-parameters for severe_toxic ###\n",
      "\n",
      "Best hyper-parameters on development set:\n",
      "{'C': 0.5}\n",
      "\n",
      "Grid search scores on development set:\n",
      "0.9843 (+/-0.0023) for {'C': 0.2}\n",
      "0.9847 (+/-0.0024) for {'C': 0.5}\n",
      "0.9845 (+/-0.0027) for {'C': 1}\n",
      "0.9836 (+/-0.0032) for {'C': 2}\n",
      "0.9811 (+/-0.0037) for {'C': 5}\n",
      "\n",
      "### Tuning hyper-parameters for obscene ###\n",
      "\n",
      "Best hyper-parameters on development set:\n",
      "{'C': 1}\n",
      "\n",
      "Grid search scores on development set:\n",
      "0.9814 (+/-0.0038) for {'C': 0.2}\n",
      "0.9832 (+/-0.0036) for {'C': 0.5}\n",
      "0.9838 (+/-0.0034) for {'C': 1}\n",
      "0.9836 (+/-0.0032) for {'C': 2}\n",
      "0.9817 (+/-0.0030) for {'C': 5}\n",
      "\n",
      "### Tuning hyper-parameters for threat ###\n",
      "\n",
      "Best hyper-parameters on development set:\n",
      "{'C': 2}\n",
      "\n",
      "Grid search scores on development set:\n",
      "0.9775 (+/-0.0027) for {'C': 0.2}\n",
      "0.9811 (+/-0.0028) for {'C': 0.5}\n",
      "0.9833 (+/-0.0035) for {'C': 1}\n",
      "0.9843 (+/-0.0040) for {'C': 2}\n",
      "0.9834 (+/-0.0045) for {'C': 5}\n",
      "\n",
      "### Tuning hyper-parameters for insult ###\n",
      "\n",
      "Best hyper-parameters on development set:\n",
      "{'C': 1}\n",
      "\n",
      "Grid search scores on development set:\n",
      "0.9729 (+/-0.0012) for {'C': 0.2}\n",
      "0.9748 (+/-0.0007) for {'C': 0.5}\n",
      "0.9753 (+/-0.0004) for {'C': 1}\n",
      "0.9747 (+/-0.0002) for {'C': 2}\n",
      "0.9720 (+/-0.0006) for {'C': 5}\n",
      "\n",
      "### Tuning hyper-parameters for identity_hate ###\n",
      "\n",
      "Best hyper-parameters on development set:\n",
      "{'C': 1}\n",
      "\n",
      "Grid search scores on development set:\n",
      "0.9710 (+/-0.0028) for {'C': 0.2}\n",
      "0.9735 (+/-0.0027) for {'C': 0.5}\n",
      "0.9743 (+/-0.0028) for {'C': 1}\n",
      "0.9740 (+/-0.0029) for {'C': 2}\n",
      "0.9716 (+/-0.0029) for {'C': 5}\n",
      "\n",
      "Wall time: 2min 36s\n"
     ]
    }
   ],
   "source": [
    "%%time\n",
    "#try token_pattern=r'\\w{2,}' instead of r'\\w{1,}'\n",
    "vectorizer = TfidfVectorizer(analyzer ='word', \n",
    "                             stop_words='english',\n",
    "                             sublinear_tf=True, #term-freq scaling\n",
    "                             strip_accents='unicode', #works generally\n",
    "                             token_pattern=r'\\w{2,}', #2+ char words\n",
    "                             ngram_range=(1,1),\n",
    "                             max_features=10000) #consider top 10000\n",
    "vectorizer.fit(pd.concat([train_comment_stemmed,test_comment_stemmed]))\n",
    "train_feature_matrix = vectorizer.transform(train_comment_stemmed)\n",
    "\n",
    "for category in categories:\n",
    "    train_labels = train[category]\n",
    "    parameters = {'C': [.2, .5, 1, 2, 5]}\n",
    "    log_reg = LogisticRegression(solver = 'sag',random_state =42)   \n",
    "    clf= GridSearchCV(log_reg, parameters, scoring='roc_auc', cv=3)\n",
    "    clf.fit(train_feature_matrix, train_labels)\n",
    "    print_results()"
   ]
  },
  {
   "cell_type": "markdown",
   "metadata": {},
   "source": [
    "Changing token_pattern to 2+ alphanumeric charaters also made predictions worse. I expect taht changing both taken_pattern and ngram_range would not imrove the performance, I will keep the original parameters used in the previous section.\n",
    "\n",
    "I am done with tuning the vectorizer, so I will go back to tuning C for LogisticRegression."
   ]
  },
  {
   "cell_type": "markdown",
   "metadata": {},
   "source": [
    "### Fine tuning for C"
   ]
  },
  {
   "cell_type": "code",
   "execution_count": 269,
   "metadata": {},
   "outputs": [
    {
     "name": "stdout",
     "output_type": "stream",
     "text": [
      "Wall time: 24.6 s\n"
     ]
    }
   ],
   "source": [
    "%%time\n",
    "vectorizer = TfidfVectorizer(analyzer ='word', \n",
    "                             stop_words='english',\n",
    "                             sublinear_tf=True, #term-freq scaling\n",
    "                             strip_accents='unicode', #works generally\n",
    "                             token_pattern=r'\\w{1,}', #1+ char words\n",
    "                             ngram_range=(1,1),\n",
    "                             max_features=10000) #consider top 10000\n",
    "\n",
    "vectorizer.fit(pd.concat([train_comment_stemmed,test_comment_stemmed]))\n",
    "\n",
    "train_feature_matrix = vectorizer.transform(train_comment_stemmed)\n",
    "test_feature_matrix = vectorizer.transform(test_comment_stemmed) # finally we need this line"
   ]
  },
  {
   "cell_type": "markdown",
   "metadata": {},
   "source": [
    "The optimized C in the previous section was 2, .5, 1, 2, 1, 1 for 'toxic', 'severe_toxic', 'obscene', 'threat', 'insult', 'identity_hate', respectively. Thus, I will do fine tuning around the best C of each category."
   ]
  },
  {
   "cell_type": "code",
   "execution_count": 35,
   "metadata": {
    "scrolled": true
   },
   "outputs": [
    {
     "name": "stdout",
     "output_type": "stream",
     "text": [
      "### Tuning hyper-parameters for toxic ###\n",
      "\n",
      "Best hyper-parameters on development set:\n",
      "{'C': 1.5}\n",
      "\n",
      "Grid search scores on development set:\n",
      "0.9708 (+/-0.0023) for {'C': 1.1}\n",
      "0.9709 (+/-0.0022) for {'C': 1.2}\n",
      "0.9709 (+/-0.0022) for {'C': 1.3}\n",
      "0.9709 (+/-0.0022) for {'C': 1.4}\n",
      "0.9709 (+/-0.0021) for {'C': 1.5}\n",
      "0.9709 (+/-0.0021) for {'C': 1.6}\n",
      "0.9709 (+/-0.0021) for {'C': 1.7}\n",
      "0.9709 (+/-0.0021) for {'C': 1.8}\n",
      "0.9708 (+/-0.0020) for {'C': 1.9}\n",
      "0.9708 (+/-0.0020) for {'C': 2.0}\n",
      "0.9708 (+/-0.0020) for {'C': 2.1}\n",
      "0.9707 (+/-0.0020) for {'C': 2.2}\n",
      "0.9707 (+/-0.0020) for {'C': 2.3}\n",
      "0.9706 (+/-0.0020) for {'C': 2.4}\n",
      "0.9706 (+/-0.0020) for {'C': 2.5}\n",
      "\n",
      "### Tuning hyper-parameters for severe_toxic ###\n",
      "\n",
      "Best hyper-parameters on development set:\n",
      "{'C': 0.6}\n",
      "\n",
      "Grid search scores on development set:\n",
      "0.9845 (+/-0.0070) for {'C': 0.1}\n",
      "0.9852 (+/-0.0066) for {'C': 0.2}\n",
      "0.9855 (+/-0.0064) for {'C': 0.3}\n",
      "0.9857 (+/-0.0064) for {'C': 0.4}\n",
      "0.9857 (+/-0.0064) for {'C': 0.5}\n",
      "0.9857 (+/-0.0064) for {'C': 0.6}\n",
      "0.9857 (+/-0.0064) for {'C': 0.7}\n",
      "0.9857 (+/-0.0065) for {'C': 0.8}\n",
      "0.9856 (+/-0.0066) for {'C': 0.9}\n",
      "0.9856 (+/-0.0066) for {'C': 1.0}\n",
      "\n",
      "### Tuning hyper-parameters for obscene ###\n",
      "\n",
      "Best hyper-parameters on development set:\n",
      "{'C': 1.2}\n",
      "\n",
      "Grid search scores on development set:\n",
      "0.9847 (+/-0.0043) for {'C': 0.6}\n",
      "0.9849 (+/-0.0042) for {'C': 0.7}\n",
      "0.9850 (+/-0.0041) for {'C': 0.8}\n",
      "0.9850 (+/-0.0040) for {'C': 0.9}\n",
      "0.9851 (+/-0.0040) for {'C': 1.0}\n",
      "0.9851 (+/-0.0039) for {'C': 1.1}\n",
      "0.9851 (+/-0.0039) for {'C': 1.2}\n",
      "0.9851 (+/-0.0038) for {'C': 1.3}\n",
      "0.9850 (+/-0.0038) for {'C': 1.4}\n",
      "0.9850 (+/-0.0038) for {'C': 1.5}\n",
      "\n",
      "### Tuning hyper-parameters for threat ###\n",
      "\n",
      "Best hyper-parameters on development set:\n",
      "{'C': 1.8}\n",
      "\n",
      "Grid search scores on development set:\n",
      "0.9842 (+/-0.0078) for {'C': 1.1}\n",
      "0.9843 (+/-0.0078) for {'C': 1.2}\n",
      "0.9844 (+/-0.0078) for {'C': 1.3}\n",
      "0.9844 (+/-0.0078) for {'C': 1.4}\n",
      "0.9845 (+/-0.0078) for {'C': 1.5}\n",
      "0.9845 (+/-0.0079) for {'C': 1.6}\n",
      "0.9845 (+/-0.0079) for {'C': 1.7}\n",
      "0.9845 (+/-0.0079) for {'C': 1.8}\n",
      "0.9845 (+/-0.0080) for {'C': 1.9}\n",
      "0.9845 (+/-0.0080) for {'C': 2.0}\n",
      "0.9845 (+/-0.0081) for {'C': 2.1}\n",
      "0.9844 (+/-0.0081) for {'C': 2.2}\n",
      "0.9844 (+/-0.0082) for {'C': 2.3}\n",
      "0.9844 (+/-0.0082) for {'C': 2.4}\n",
      "0.9843 (+/-0.0082) for {'C': 2.5}\n",
      "\n",
      "### Tuning hyper-parameters for insult ###\n",
      "\n",
      "Best hyper-parameters on development set:\n",
      "{'C': 0.9}\n",
      "\n",
      "Grid search scores on development set:\n",
      "0.9762 (+/-0.0041) for {'C': 0.6}\n",
      "0.9763 (+/-0.0040) for {'C': 0.7}\n",
      "0.9764 (+/-0.0040) for {'C': 0.8}\n",
      "0.9764 (+/-0.0040) for {'C': 0.9}\n",
      "0.9764 (+/-0.0040) for {'C': 1.0}\n",
      "0.9764 (+/-0.0040) for {'C': 1.1}\n",
      "0.9764 (+/-0.0040) for {'C': 1.2}\n",
      "0.9763 (+/-0.0040) for {'C': 1.3}\n",
      "0.9763 (+/-0.0040) for {'C': 1.4}\n",
      "0.9762 (+/-0.0040) for {'C': 1.5}\n",
      "\n",
      "### Tuning hyper-parameters for identity_hate ###\n",
      "\n",
      "Best hyper-parameters on development set:\n",
      "{'C': 1.1}\n",
      "\n",
      "Grid search scores on development set:\n",
      "0.9761 (+/-0.0095) for {'C': 0.6}\n",
      "0.9763 (+/-0.0095) for {'C': 0.7}\n",
      "0.9764 (+/-0.0096) for {'C': 0.8}\n",
      "0.9764 (+/-0.0097) for {'C': 0.9}\n",
      "0.9765 (+/-0.0097) for {'C': 1.0}\n",
      "0.9765 (+/-0.0098) for {'C': 1.1}\n",
      "0.9765 (+/-0.0098) for {'C': 1.2}\n",
      "0.9764 (+/-0.0099) for {'C': 1.3}\n",
      "0.9764 (+/-0.0099) for {'C': 1.4}\n",
      "0.9764 (+/-0.0100) for {'C': 1.5}\n",
      "\n",
      "Wall time: 25min 28s\n"
     ]
    }
   ],
   "source": [
    "%%time\n",
    "# Tune C for each category CV=10 \n",
    "parameters_dic={'toxic':{'C':[1.1,1.2,1.3,1.4,1.5, 1.6,1.7,1.8,1.9,2.0,2.1,2.2,2.3,2.4,2.5]},\n",
    "                'severe_toxic':{'C':[.1,.2,.3,.4,.5,.6,.7,.8,.9,1.0]},\n",
    "                'obscene':{'C':[.6,.7,.8,.9,1.0,1.1,1.2,1.3,1.4,1.5]},\n",
    "                'threat':{'C':[1.1,1.2,1.3,1.4,1.5,1.6,1.7,1.8,1.9,2.0,2.1,2.2,2.3,2.4,2.5]}, \n",
    "                'insult':{'C':[.6,.7,.8,.9,1.0,1.1,1.2,1.3,1.4,1.5]}, \n",
    "                'identity_hate':{'C':[.6,.7,.8,.9,1.0,1.1,1.2,1.3,1.4,1.5]}}\n",
    "for category in categories:\n",
    "    train_labels = train[category]\n",
    "    parameters = parameters_dic[category]\n",
    "    log_reg = LogisticRegression(solver='sag', random_state =42)   \n",
    "    clf= GridSearchCV(log_reg, parameters, scoring='roc_auc', cv=10)\n",
    "    clf.fit(train_feature_matrix, train_labels)\n",
    "    print_results()"
   ]
  },
  {
   "cell_type": "markdown",
   "metadata": {},
   "source": [
    "Below was run to check the performance with the best parameters more easily."
   ]
  },
  {
   "cell_type": "code",
   "execution_count": 270,
   "metadata": {},
   "outputs": [
    {
     "name": "stdout",
     "output_type": "stream",
     "text": [
      "Mean CV score on dev. set for toxic is 0.9709\n",
      "Mean CV score on dev. set for severe_toxic is 0.9857\n",
      "Mean CV score on dev. set for obscene is 0.9851\n",
      "Mean CV score on dev. set for threat is 0.9845\n",
      "Mean CV score on dev. set for insult is 0.9764\n",
      "Mean CV score on dev. set for identity_hate is 0.9765\n",
      "\n",
      "Mean CV score on dev. set for All categories is 0.9799\n",
      "Wall time: 2min 5s\n"
     ]
    }
   ],
   "source": [
    "%%time\n",
    "best_C = {'toxic':1.5,'severe_toxic':.6,'obscene':1.2,\n",
    "        'threat':1.8, 'insult':0.9, 'identity_hate':1.1}\n",
    "score_all = []\n",
    "for category in categories:\n",
    "    train_labels = train[category]\n",
    "    log_reg = LogisticRegression(solver='sag',random_state =42)   \n",
    "    clf= GridSearchCV(log_reg, {'C':[best_C[category]]}, scoring='roc_auc', cv=10)\n",
    "    clf.fit(train_feature_matrix, train_labels)\n",
    "    print(\"Mean CV score on dev. set for %s is %0.4f\" %(category,clf.best_score_))\n",
    "    score_all.append(clf.best_score_)\n",
    "print()\n",
    "print(\"Mean CV score on dev. set for All categories is %0.4f\" %np.mean(score_all))"
   ]
  },
  {
   "cell_type": "code",
   "execution_count": 271,
   "metadata": {},
   "outputs": [],
   "source": [
    "submission = pd.DataFrame()\n",
    "submission['id']=test['id']\n",
    "\n",
    "best_C = {'toxic':1.5,'severe_toxic':.6,'obscene':1.2,\n",
    "        'threat':1.8, 'insult':0.9, 'identity_hate':1.1}\n",
    "for category in categories:\n",
    "    train_labels = train[category]\n",
    "    clf = LogisticRegression(solver='sag', C=best_C[category],random_state =42)   \n",
    "    clf.fit(train_feature_matrix, train_labels)\n",
    "    submission[category] = clf.predict_proba(test_feature_matrix)[:,1] #second column!!\n",
    "    \n",
    "submission.to_csv('submission.csv', index=False)"
   ]
  },
  {
   "cell_type": "markdown",
   "metadata": {},
   "source": [
    "I found AUC on the test set is .9745 on the leaderboard (not bad comparing to the score on the development set .9799). This is slightly worse than the last test score I got without cleaning and stemming (.9756) although the score on the development set was slightly better with stemming."
   ]
  },
  {
   "cell_type": "markdown",
   "metadata": {},
   "source": [
    "### Coefficient analysis\n",
    "Here I check words with high and low coefficients to check what are most and least important words in the model. Since the last classifier(clf) used above was for Identity Hate, I will first utilize it to check which words had high coefficients for Identiy Hate comments."
   ]
  },
  {
   "cell_type": "markdown",
   "metadata": {},
   "source": [
    "#### Identity Hate"
   ]
  },
  {
   "cell_type": "code",
   "execution_count": 272,
   "metadata": {
    "scrolled": true
   },
   "outputs": [
    {
     "name": "stdout",
     "output_type": "stream",
     "text": [
      "[[ 0.11838326 -0.07400097 -0.08635858 ...  0.          0.\n",
      "   0.        ]]\n"
     ]
    }
   ],
   "source": [
    "# Check coefficients\n",
    "coeff = clf.coef_\n",
    "print(coeff)"
   ]
  },
  {
   "cell_type": "code",
   "execution_count": 273,
   "metadata": {
    "scrolled": false
   },
   "outputs": [],
   "source": [
    "# dictionary of term:feature_index key value pairs\n",
    "voca_dic = vectorizer.vocabulary_ "
   ]
  },
  {
   "cell_type": "code",
   "execution_count": 274,
   "metadata": {},
   "outputs": [],
   "source": [
    "# Make a list of words odered by feature index\n",
    "feature_words =[None]*len(voca_dic)\n",
    "for word in voca_dic.keys():\n",
    "    feature_words[voca_dic[word]]=word\n",
    "#print(feature_words[:400])"
   ]
  },
  {
   "cell_type": "code",
   "execution_count": 275,
   "metadata": {
    "scrolled": false
   },
   "outputs": [
    {
     "name": "stdout",
     "output_type": "stream",
     "text": [
      "['nigger', 'gay', 'homosexu', 'nigga', 'jew', 'faggot', 'nazi', 'homo', 'muslim', 'black', 'racist', 'negro', 'fag', 'white', 'asian', 'hate', 'fuck', 'american', 'scum', 'rape', 'lesbian', 'turk', 'arab', 'stupid', 'dirti', 'indian', 'fucker', 'homophob', 'monkey', 'chink', 'shit', 'mexican', 'terrorist', 'jewish', 'pedophil', 'fat', 'dumb', 'niger', 'fool', 'niggaz', 'twat', 'women', 'disgust', 'sucker', 'bitch', 'boy', 'retard', 'bastard', 'cunt', 'allah', 'queer', 'burn', 'russian', 'littl', 'r', 'damn', 'antisemit', 'fuckin', 'slave', 'pig', 'lick', 'g', 'communist', 'slut', 'nl33er', 'like', 'u', 'ass', 'islam', 'irish', 'fing', 'babi', 'chines', 'death', 'countri', 'kill', 'hitler', 'idiot', 'peni', 'hoe', 'jesus', 'whore', 'akbar', 'motherfuck', 'filthi', 'slavic', 'fascist', 'filth', 'bag', 'anal', 'redneck', 'closet', 'huge', 'evil', 'hooker', 'trash', 'crazi', 'suck', 'gonna', 'devil']\n"
     ]
    }
   ],
   "source": [
    "# High coefficient words\n",
    "sorted_voca = [word for _,word in sorted(zip(coeff[0],feature_words),reverse=True)]\n",
    "print(sorted_voca[:100])"
   ]
  },
  {
   "cell_type": "markdown",
   "metadata": {},
   "source": [
    "These are indeed possible words for identity hate comments!"
   ]
  },
  {
   "cell_type": "code",
   "execution_count": 276,
   "metadata": {
    "scrolled": true
   },
   "outputs": [
    {
     "name": "stdout",
     "output_type": "stream",
     "text": [
      "['articl', 'talk', 'thank', 'sourc', 'agre', 'redirect', 'mention', 'ani', 'editor', 'origin', 'discuss', 'better', 'consid', 'read', 'issu', 'list', 'clear', 'person', 'look', 'note', 'link', 'actual', 'understand', 'import', 'ok', 'pleas', 'suggest', 'alon', 'follow', 'word', 'chang', 'differ', 'happen', 'book', 'help', 'polici', 'mean', 'way', 'problem', 'befor', 'inform', 'edit', 'definit', 'sinc', 'isnt', 'cheer', 'new', 'remov', 'ive', 'time', 'case', 'check', 'marriag', 'say', 'open', 'utc', 'rot', 'worthless', 'exampl', 'end', 'use', 'id', 'state', 'fix', 'tag', 'notabl', 'didnt', 'week', 'number', '2008', 'page', 'review', 'refer', 'includ', 'accus', 'possibl', 'result', 'someon', 'howev', 'seen', 'sure', 'subject', 'posit', 'critic', 'answer', 'line', 'provid', 'histori', 'languag', 'certain', 'version', 'term', 'present', 'start', 'simpli', 'mani', 'project', 'did', 'deni', 'month']\n"
     ]
    }
   ],
   "source": [
    "# Low coefficient words (negative coefficients)\n",
    "sorted_voca = [word for _,word in sorted(zip(coeff[0],feature_words))]\n",
    "print(sorted_voca[:100])"
   ]
  },
  {
   "cell_type": "markdown",
   "metadata": {},
   "source": [
    "These are words with the lowest coefficients (negative relationships) in the Hate Identity classification. They indeeed seem to be the words that are likely to appear in healthy comments."
   ]
  },
  {
   "cell_type": "code",
   "execution_count": 277,
   "metadata": {
    "scrolled": false
   },
   "outputs": [
    {
     "name": "stdout",
     "output_type": "stream",
     "text": [
      "['19025427492', '439enter', '5h1t', '5hut', '5uck5', '8hi', 'aaaaaaaaaaaaaaaa', 'aaaaaaaaaaaaaaaaaaaaaaaaaaaaa', 'aaaaafuck', 'adsydfiusagjfasfsduyaidfasgiudf', 'againdo', 'allumungi', 'analan', 'anarchistfuck', 'answershi', 'apparition11', 'asdf', 'asspi', 'ayden', 'aysen', 'azzholeseat', 'b00ll00x', 'ballsbal', 'ballshut', 'barbercallum', 'bastardshel', 'bitchbot', 'blaa', 'boabi', 'bola', 'bonergasm', 'booobsashtonsimmon', 'border8px', 'buttslut', 'c0pyr1ght', 'cawk', 'chhetri', 'chhetripadam', 'chodethi', 'clustercuntfartymcflyupmycuntholebastardfuck', 'cockebaum', 'cockjeremi', 'comnuistsscrew', 'cuntass', 'cuntnlu', 'cοck', 'd0wn', 'daiki', 'dann', 'deuschebag', 'dhe', 'dickdumbass', 'diefuk', 'disputerez', 'dixz', 'donkeysex', 'drogon', 'dutroux', 'ee용개형', 'faceruth', 'faggeorg', 'faggotgay', 'faggtblah', 'fagsgod', 'fb1', 'ff0000', 'fgtyou', 'freakbosisto', 'fuckerfuck', 'fuckfuck', 'fuckshit', 'fucksmisterwiki', 'fvcker', 'gayyour', 'gentlti', 'ghobrialyoussef', 'go0ver', 'goddn', 'godstar', 'gurdyhurdi', 'hackk', 'hahahahayou', 'hahahahello', 'halu', 'hamish752', 'harmonkiehl', 'headsdick', 'heaton', 'helloz', 'hellwhat', 'homopetersymond', 'honkhonk', 'hornyhorni', 'hufgi', 'huura', 'hyehuh', 'itwikipedia', 'jackamundi', 'jelaton', 'jerksign']\n"
     ]
    }
   ],
   "source": [
    "# Words with low absolute values of coefficient (just out of curiosity)\n",
    "sorted_voca = [word for _,word in sorted(zip(list(map(abs,coeff[0])),feature_words))]\n",
    "#sorted_voca = [(coef,word) for coef,word in sorted(zip(list(map(abs,coeff[0])),feature_words))\n",
    "print(sorted_voca[:100])"
   ]
  },
  {
   "cell_type": "markdown",
   "metadata": {},
   "source": [
    "Interesting! These are the 100 words that had coefficients closest 0 (the commented out line actually showed their coefficients are all 0.0). This shows how people can create bad words that can pass a filter! (e.g., replacing s by 5) These words can contribute to false negatives when classifying toxic comments. "
   ]
  },
  {
   "cell_type": "markdown",
   "metadata": {},
   "source": [
    "#### Toxic\n",
    "\n",
    "I will repeat the above analysis for 'toxic' category since most of bad comments (with label 1 for any of categories) were labeled as 'toxic' comments."
   ]
  },
  {
   "cell_type": "code",
   "execution_count": 283,
   "metadata": {},
   "outputs": [
    {
     "data": {
      "text/plain": [
       "LogisticRegression(C=1.5, class_weight=None, dual=False, fit_intercept=True,\n",
       "          intercept_scaling=1, max_iter=100, multi_class='ovr', n_jobs=1,\n",
       "          penalty='l2', random_state=42, solver='sag', tol=0.0001,\n",
       "          verbose=0, warm_start=False)"
      ]
     },
     "execution_count": 283,
     "metadata": {},
     "output_type": "execute_result"
    }
   ],
   "source": [
    "# Only 'toxic' category\n",
    "best_C = {'toxic':1.5 ,'severe_toxic':.6,'obscene':1.2,'threat':1.8, 'insult':0.9, 'identity_hate':1.1}\n",
    "category ='toxic'\n",
    "train_labels = train[category]\n",
    "clf = LogisticRegression(solver='sag', C=best_C[category],random_state =42)   \n",
    "clf.fit(train_feature_matrix, train_labels)"
   ]
  },
  {
   "cell_type": "code",
   "execution_count": 285,
   "metadata": {},
   "outputs": [
    {
     "name": "stdout",
     "output_type": "stream",
     "text": [
      "coefficients:\n",
      " [[-0.5734239  -0.13655471 -0.1488834  ...  0.          0.\n",
      "   0.        ]]\n",
      "\n",
      "High coefficient words:\n",
      " ['fuck', 'idiot', 'stupid', 'shit', 'suck', 'bullshit', 'ass', 'asshol', 'bitch', 'crap', 'dick', 'faggot', 'peni', 'bastard', 'moron', 'pathet', 'nigger', 'cunt', 'fucker', 'jerk', 'gay', 'shut', 'dumbass', 'hell', 'cock', 'motherfuck', 'retard', 'loser', 'fag', 'dumb', 'pussi', 'fuckin', 'racist', 'piss', 'dickhead', 'liar', 'kill', 'fool', 'jackass', 'sex', 'cocksuck', 'nazi', 'hate', 'wtf', 'damn', 'sick', 'pig', 'homosexu', 'whore', 'goddamn', 'die', 'bloodi', 'douchebag', 'garbag', 'hypocrit', 'scum', 'wanker', 'f', 'fing', 'vagina', 'ars', 'fat', 'fk', 'disgust', 'fuckhead', 'dirti', 'nerd', 'fck', 'prick', 'fascist', 'fart', 'pedophil', 'freak', 'ugli', 'donkey', 'dipshit', 'anal', 'screw', 'fcking', 'porn', 'rubbish', 'rape', 'coward', 'imbecil', 'ridicul', 'fuk', 'monkey', 'nigga', 'shame', 'stink', 'mental', 'lick', 'butt', 'shitti', 'masturb', 'ahol', 'homo', 'mouth', 'foolish', 'cum']\n",
      "\n",
      "Low (negative) coefficient words:\n",
      " ['thank', 'redirect', 'pleas', 'appreci', 'best', 'cheer', 'mention', 'continu', 'case', 'section', 'sorri', 'titl', 'apolog', 'agre', 'consensus', 'articl', 'lead', 'request', 'use', '2004', 'list', 'sourc', 'experi', 'merg', 'reach', 'present', 'consid', 'earli', 'week', 'sure', 'futur', 'promis', 'themselv', 'michael', 'wikiproject', 'season', 'exampl', 'review', 'latin', '2005', 'assist', 'point', 'refer', 'process', 'issu', 'connect', 'record', 'disput', 'februari', 'elimin', 'paragraph', 'descript', 'accord', 'publish', 'movi', 'howev', 'book', 'type', 'popular', 'involv', 'updat', 'email', 'welcom', 'contrib', 'includ', 'identifi', 'idea', 'talk', 'movement', 'januari', 'armenian', 'fought', 'believ', 'mistak', 'attribut', 'verifi', 'context', 'propos', 'templat', 'rang', 'notic', 'expand', 'rfc', 'number', 'input', 'court', 'influenc', 'young', 'compani', 'convinc', 'question', 'similar', 'link', 'help', 'ive', 'scienc', 'committe', 'talkpag', 'speedi', 'mail']\n",
      "\n",
      "Close to zero coefficient words:\n",
      " ['19025427492', '439enter', '5h1t', '5hut', '5uck5', '8hi', 'aaaaaaaaaaaaaaaa', 'aaaaaaaaaaaaaaaaaaaaaaaaaaaaa', 'aaaaafuck', 'adsydfiusagjfasfsduyaidfasgiudf', 'againdo', 'allumungi', 'analan', 'anarchistfuck', 'answershi', 'apparition11', 'asdf', 'asspi', 'ayden', 'aysen', 'azzholeseat', 'b00ll00x', 'ballsbal', 'ballshut', 'barbercallum', 'bastardshel', 'bitchbot', 'blaa', 'boabi', 'bola', 'bonergasm', 'booobsashtonsimmon', 'border8px', 'buttslut', 'c0pyr1ght', 'cawk', 'chhetri', 'chhetripadam', 'chodethi', 'clustercuntfartymcflyupmycuntholebastardfuck', 'cockebaum', 'cockjeremi', 'comnuistsscrew', 'cuntass', 'cuntnlu', 'cοck', 'd0wn', 'daiki', 'dann', 'deuschebag', 'dhe', 'dickdumbass', 'diefuk', 'disputerez', 'dixz', 'donkeysex', 'drogon', 'dutroux', 'ee용개형', 'faceruth', 'faggeorg', 'faggotgay', 'faggtblah', 'fagsgod', 'fb1', 'ff0000', 'fgtyou', 'freakbosisto', 'fuckerfuck', 'fuckfuck', 'fuckshit', 'fucksmisterwiki', 'fvcker', 'gayyour', 'gentlti', 'ghobrialyoussef', 'go0ver', 'goddn', 'godstar', 'gurdyhurdi', 'hackk', 'hahahahayou', 'hahahahello', 'halu', 'hamish752', 'harmonkiehl', 'headsdick', 'heaton', 'helloz', 'hellwhat', 'homopetersymond', 'honkhonk', 'hornyhorni', 'hufgi', 'huura', 'hyehuh', 'itwikipedia', 'jackamundi', 'jelaton', 'jerksign']\n"
     ]
    }
   ],
   "source": [
    "# Check coefficients\n",
    "coeff = clf.coef_\n",
    "print(\"coefficients:\\n\", coeff)\n",
    "print()\n",
    "# dictionary of term:feature_index key value pairs\n",
    "voca_dic = vectorizer.vocabulary_ \n",
    "\n",
    "# Make a list of words odered by feature index\n",
    "feature_words =[None]*len(voca_dic)\n",
    "for word in voca_dic.keys():\n",
    "    feature_words[voca_dic[word]]=word\n",
    "#print(feature_words[:400])\n",
    "\n",
    "# High coefficient words\n",
    "sorted_voca = [word for _,word in sorted(zip(coeff[0],feature_words),reverse=True)]\n",
    "print(\"High coefficient words:\\n\", sorted_voca[:100])\n",
    "print()\n",
    "# Low coefficient words (negative coefficients)\n",
    "sorted_voca = [word for _,word in sorted(zip(coeff[0],feature_words))]\n",
    "print(\"Low (negative) coefficient words:\\n\", sorted_voca[:100])\n",
    "print()\n",
    "# Words with low absolute values of coefficient (just out of curiosity)\n",
    "sorted_voca = [word for _,word in sorted(zip(list(map(abs,coeff[0])),feature_words))]\n",
    "#sorted_voca = [(coef,word) for coef,word in sorted(zip(list(map(abs,coeff[0])),feature_words))\n",
    "print(\"Close to zero coefficient words:\\n\", sorted_voca[:100])"
   ]
  },
  {
   "cell_type": "markdown",
   "metadata": {},
   "source": [
    "The results are pretty similar to what I found with 'identity_hate' except that high coefficient words are more general bad words rather than ones with identity hate.\n",
    "\n",
    "I will find out whether the disguised bad words with zero coefficients reallly contribute to false negatives when classifying toxic comments in the next section."
   ]
  },
  {
   "cell_type": "markdown",
   "metadata": {},
   "source": [
    "### Error Analysis\n",
    "\n",
    "I will do some error analysis using only 'toxic' category."
   ]
  },
  {
   "cell_type": "code",
   "execution_count": null,
   "metadata": {},
   "outputs": [],
   "source": [
    "train_labels = train['toxic']\n",
    "clf = LogisticRegression(solver='sag', C=1.5,random_state =42)   \n",
    "clf.fit(train_feature_matrix, train_labels)"
   ]
  },
  {
   "cell_type": "code",
   "execution_count": 316,
   "metadata": {},
   "outputs": [
    {
     "data": {
      "text/html": [
       "<div>\n",
       "<style scoped>\n",
       "    .dataframe tbody tr th:only-of-type {\n",
       "        vertical-align: middle;\n",
       "    }\n",
       "\n",
       "    .dataframe tbody tr th {\n",
       "        vertical-align: top;\n",
       "    }\n",
       "\n",
       "    .dataframe thead th {\n",
       "        text-align: right;\n",
       "    }\n",
       "</style>\n",
       "<table border=\"1\" class=\"dataframe\">\n",
       "  <thead>\n",
       "    <tr style=\"text-align: right;\">\n",
       "      <th></th>\n",
       "      <th>comment_text</th>\n",
       "      <th>comment_stemmed</th>\n",
       "      <th>toxic</th>\n",
       "      <th>nontoxic_prob</th>\n",
       "      <th>toxic_prob</th>\n",
       "    </tr>\n",
       "  </thead>\n",
       "  <tbody>\n",
       "    <tr>\n",
       "      <th>0</th>\n",
       "      <td>Explanation\\nWhy the edits made under my usern...</td>\n",
       "      <td>explan whi the edit made under my usernam hard...</td>\n",
       "      <td>0</td>\n",
       "      <td>0.989121</td>\n",
       "      <td>0.010879</td>\n",
       "    </tr>\n",
       "    <tr>\n",
       "      <th>1</th>\n",
       "      <td>D'aww! He matches this background colour I'm s...</td>\n",
       "      <td>daww he match this background colour im seem s...</td>\n",
       "      <td>0</td>\n",
       "      <td>0.993392</td>\n",
       "      <td>0.006608</td>\n",
       "    </tr>\n",
       "    <tr>\n",
       "      <th>2</th>\n",
       "      <td>Hey man, I'm really not trying to edit war. It...</td>\n",
       "      <td>hey man im realli not tri to edit war it just ...</td>\n",
       "      <td>0</td>\n",
       "      <td>0.967178</td>\n",
       "      <td>0.032822</td>\n",
       "    </tr>\n",
       "    <tr>\n",
       "      <th>3</th>\n",
       "      <td>\"\\nMore\\nI can't make any real suggestions on ...</td>\n",
       "      <td>more i cant make ani real suggest on improv i ...</td>\n",
       "      <td>0</td>\n",
       "      <td>0.999142</td>\n",
       "      <td>0.000858</td>\n",
       "    </tr>\n",
       "    <tr>\n",
       "      <th>4</th>\n",
       "      <td>You, sir, are my hero. Any chance you remember...</td>\n",
       "      <td>you sir are my hero ani chanc you rememb what ...</td>\n",
       "      <td>0</td>\n",
       "      <td>0.979509</td>\n",
       "      <td>0.020491</td>\n",
       "    </tr>\n",
       "  </tbody>\n",
       "</table>\n",
       "</div>"
      ],
      "text/plain": [
       "                                        comment_text  \\\n",
       "0  Explanation\\nWhy the edits made under my usern...   \n",
       "1  D'aww! He matches this background colour I'm s...   \n",
       "2  Hey man, I'm really not trying to edit war. It...   \n",
       "3  \"\\nMore\\nI can't make any real suggestions on ...   \n",
       "4  You, sir, are my hero. Any chance you remember...   \n",
       "\n",
       "                                     comment_stemmed  toxic  nontoxic_prob  \\\n",
       "0  explan whi the edit made under my usernam hard...      0       0.989121   \n",
       "1  daww he match this background colour im seem s...      0       0.993392   \n",
       "2  hey man im realli not tri to edit war it just ...      0       0.967178   \n",
       "3  more i cant make ani real suggest on improv i ...      0       0.999142   \n",
       "4  you sir are my hero ani chanc you rememb what ...      0       0.979509   \n",
       "\n",
       "   toxic_prob  \n",
       "0    0.010879  \n",
       "1    0.006608  \n",
       "2    0.032822  \n",
       "3    0.000858  \n",
       "4    0.020491  "
      ]
     },
     "execution_count": 316,
     "metadata": {},
     "output_type": "execute_result"
    }
   ],
   "source": [
    "pred = pd.DataFrame()\n",
    "pred['comment_text']=train['comment_text']\n",
    "pred['comment_stemmed'] =train_comment_stemmed\n",
    "pred['toxic'] =train['toxic'] #actual label\n",
    "pred['nontoxic_prob'] = clf.predict_proba(train_feature_matrix)[:,0] #how likely the label is 0 (i.e., nontoxic)\n",
    "pred['toxic_prob'] = clf.predict_proba(train_feature_matrix)[:,1] #how likely the label is 1 (i.e., toxic)\n",
    "pred.head()"
   ]
  },
  {
   "cell_type": "code",
   "execution_count": 317,
   "metadata": {},
   "outputs": [
    {
     "data": {
      "text/html": [
       "<div>\n",
       "<style scoped>\n",
       "    .dataframe tbody tr th:only-of-type {\n",
       "        vertical-align: middle;\n",
       "    }\n",
       "\n",
       "    .dataframe tbody tr th {\n",
       "        vertical-align: top;\n",
       "    }\n",
       "\n",
       "    .dataframe thead th {\n",
       "        text-align: right;\n",
       "    }\n",
       "</style>\n",
       "<table border=\"1\" class=\"dataframe\">\n",
       "  <thead>\n",
       "    <tr style=\"text-align: right;\">\n",
       "      <th></th>\n",
       "      <th>toxic</th>\n",
       "      <th>nontoxic_prob</th>\n",
       "      <th>toxic_prob</th>\n",
       "    </tr>\n",
       "  </thead>\n",
       "  <tbody>\n",
       "    <tr>\n",
       "      <th>count</th>\n",
       "      <td>159571.000000</td>\n",
       "      <td>1.595710e+05</td>\n",
       "      <td>159571.000000</td>\n",
       "    </tr>\n",
       "    <tr>\n",
       "      <th>mean</th>\n",
       "      <td>0.095844</td>\n",
       "      <td>9.041555e-01</td>\n",
       "      <td>0.095844</td>\n",
       "    </tr>\n",
       "    <tr>\n",
       "      <th>std</th>\n",
       "      <td>0.294379</td>\n",
       "      <td>2.278643e-01</td>\n",
       "      <td>0.227864</td>\n",
       "    </tr>\n",
       "    <tr>\n",
       "      <th>min</th>\n",
       "      <td>0.000000</td>\n",
       "      <td>3.782308e-12</td>\n",
       "      <td>0.000019</td>\n",
       "    </tr>\n",
       "    <tr>\n",
       "      <th>25%</th>\n",
       "      <td>0.000000</td>\n",
       "      <td>9.554720e-01</td>\n",
       "      <td>0.005477</td>\n",
       "    </tr>\n",
       "    <tr>\n",
       "      <th>50%</th>\n",
       "      <td>0.000000</td>\n",
       "      <td>9.850813e-01</td>\n",
       "      <td>0.014919</td>\n",
       "    </tr>\n",
       "    <tr>\n",
       "      <th>75%</th>\n",
       "      <td>0.000000</td>\n",
       "      <td>9.945231e-01</td>\n",
       "      <td>0.044528</td>\n",
       "    </tr>\n",
       "    <tr>\n",
       "      <th>max</th>\n",
       "      <td>1.000000</td>\n",
       "      <td>9.999815e-01</td>\n",
       "      <td>1.000000</td>\n",
       "    </tr>\n",
       "  </tbody>\n",
       "</table>\n",
       "</div>"
      ],
      "text/plain": [
       "               toxic  nontoxic_prob     toxic_prob\n",
       "count  159571.000000   1.595710e+05  159571.000000\n",
       "mean        0.095844   9.041555e-01       0.095844\n",
       "std         0.294379   2.278643e-01       0.227864\n",
       "min         0.000000   3.782308e-12       0.000019\n",
       "25%         0.000000   9.554720e-01       0.005477\n",
       "50%         0.000000   9.850813e-01       0.014919\n",
       "75%         0.000000   9.945231e-01       0.044528\n",
       "max         1.000000   9.999815e-01       1.000000"
      ]
     },
     "execution_count": 317,
     "metadata": {},
     "output_type": "execute_result"
    }
   ],
   "source": [
    "pred.describe()"
   ]
  },
  {
   "cell_type": "code",
   "execution_count": 324,
   "metadata": {},
   "outputs": [
    {
     "data": {
      "text/html": [
       "<div>\n",
       "<style scoped>\n",
       "    .dataframe tbody tr th:only-of-type {\n",
       "        vertical-align: middle;\n",
       "    }\n",
       "\n",
       "    .dataframe tbody tr th {\n",
       "        vertical-align: top;\n",
       "    }\n",
       "\n",
       "    .dataframe thead th {\n",
       "        text-align: right;\n",
       "    }\n",
       "</style>\n",
       "<table border=\"1\" class=\"dataframe\">\n",
       "  <thead>\n",
       "    <tr style=\"text-align: right;\">\n",
       "      <th></th>\n",
       "      <th>comment_text</th>\n",
       "      <th>comment_stemmed</th>\n",
       "      <th>toxic</th>\n",
       "      <th>nontoxic_prob</th>\n",
       "      <th>toxic_prob</th>\n",
       "    </tr>\n",
       "  </thead>\n",
       "  <tbody>\n",
       "    <tr>\n",
       "      <th>12</th>\n",
       "      <td>Hey... what is it..\\n@ | talk .\\nWhat is it......</td>\n",
       "      <td>hey what is it talk what is it an exclus group...</td>\n",
       "      <td>1</td>\n",
       "      <td>0.913592</td>\n",
       "      <td>0.086408</td>\n",
       "    </tr>\n",
       "    <tr>\n",
       "      <th>151</th>\n",
       "      <td>\"\\n\\nSORRY PUCK BUT NO ONE EVER SAID DICK WAS ...</td>\n",
       "      <td>sorri puck but no one ever said dick was numbe...</td>\n",
       "      <td>1</td>\n",
       "      <td>0.947546</td>\n",
       "      <td>0.052454</td>\n",
       "    </tr>\n",
       "    <tr>\n",
       "      <th>159</th>\n",
       "      <td>\"\\n\\nUNBLOCK ME OR I'LL GET MY LAWYERS ON TO Y...</td>\n",
       "      <td>unblock me or ill get my lawyer on to you for ...</td>\n",
       "      <td>1</td>\n",
       "      <td>0.925851</td>\n",
       "      <td>0.074149</td>\n",
       "    </tr>\n",
       "    <tr>\n",
       "      <th>278</th>\n",
       "      <td>Hey why you are spreading misconceptions and t...</td>\n",
       "      <td>hey whi you are spread misconcept and tri to s...</td>\n",
       "      <td>1</td>\n",
       "      <td>0.910281</td>\n",
       "      <td>0.089719</td>\n",
       "    </tr>\n",
       "    <tr>\n",
       "      <th>330</th>\n",
       "      <td>God is dead\\nI don't mean to startle anyone bu...</td>\n",
       "      <td>god is dead i dont mean to startl anyon but go...</td>\n",
       "      <td>1</td>\n",
       "      <td>0.959458</td>\n",
       "      <td>0.040542</td>\n",
       "    </tr>\n",
       "    <tr>\n",
       "      <th>503</th>\n",
       "      <td>I don't care what you say here. I don't believ...</td>\n",
       "      <td>i dont care what you say here i dont believ on...</td>\n",
       "      <td>1</td>\n",
       "      <td>0.958807</td>\n",
       "      <td>0.041193</td>\n",
       "    </tr>\n",
       "    <tr>\n",
       "      <th>519</th>\n",
       "      <td>I can tell you what the argument is about here...</td>\n",
       "      <td>i can tell you what the argument is about here...</td>\n",
       "      <td>1</td>\n",
       "      <td>0.952018</td>\n",
       "      <td>0.047982</td>\n",
       "    </tr>\n",
       "    <tr>\n",
       "      <th>590</th>\n",
       "      <td>\"\\n\\n Another crap article \\nParrots what prom...</td>\n",
       "      <td>anoth crap articl parrot what promot websit of...</td>\n",
       "      <td>1</td>\n",
       "      <td>0.938979</td>\n",
       "      <td>0.061021</td>\n",
       "    </tr>\n",
       "    <tr>\n",
       "      <th>852</th>\n",
       "      <td>P.S. Are you a /b/tard?</td>\n",
       "      <td>ps are you a btard</td>\n",
       "      <td>1</td>\n",
       "      <td>0.902286</td>\n",
       "      <td>0.097714</td>\n",
       "    </tr>\n",
       "    <tr>\n",
       "      <th>1165</th>\n",
       "      <td>\"\\n\\nSo threatening to try to have me banned f...</td>\n",
       "      <td>so threaten to tri to have me ban for edit is ...</td>\n",
       "      <td>1</td>\n",
       "      <td>0.953405</td>\n",
       "      <td>0.046595</td>\n",
       "    </tr>\n",
       "    <tr>\n",
       "      <th>1588</th>\n",
       "      <td>AND ON TOP OF THAT  eh, you're not worth it.</td>\n",
       "      <td>and on top of that eh your not worth it</td>\n",
       "      <td>1</td>\n",
       "      <td>0.923885</td>\n",
       "      <td>0.076115</td>\n",
       "    </tr>\n",
       "    <tr>\n",
       "      <th>1938</th>\n",
       "      <td>You're biased. I made it a point since I signe...</td>\n",
       "      <td>your bias i made it a point sinc i sign up her...</td>\n",
       "      <td>1</td>\n",
       "      <td>0.983234</td>\n",
       "      <td>0.016766</td>\n",
       "    </tr>\n",
       "    <tr>\n",
       "      <th>2034</th>\n",
       "      <td>What a deceptive little creature you are indee...</td>\n",
       "      <td>what a decept littl creatur you are inde assum...</td>\n",
       "      <td>1</td>\n",
       "      <td>0.908818</td>\n",
       "      <td>0.091182</td>\n",
       "    </tr>\n",
       "    <tr>\n",
       "      <th>2225</th>\n",
       "      <td>Vandalism spree\\nYour vandalism spree is pitif...</td>\n",
       "      <td>vandal spree your vandal spree is piti all thi...</td>\n",
       "      <td>1</td>\n",
       "      <td>0.960669</td>\n",
       "      <td>0.039331</td>\n",
       "    </tr>\n",
       "    <tr>\n",
       "      <th>2322</th>\n",
       "      <td>\"\\nMFNickster, I am not sure if you have ever ...</td>\n",
       "      <td>mfnickster i am not sure if you have ever had ...</td>\n",
       "      <td>1</td>\n",
       "      <td>0.965041</td>\n",
       "      <td>0.034959</td>\n",
       "    </tr>\n",
       "    <tr>\n",
       "      <th>2378</th>\n",
       "      <td>Not really sure what the issue is here \\n\\nWha...</td>\n",
       "      <td>not realli sure what the issu is here what is ...</td>\n",
       "      <td>1</td>\n",
       "      <td>0.946012</td>\n",
       "      <td>0.053988</td>\n",
       "    </tr>\n",
       "    <tr>\n",
       "      <th>2494</th>\n",
       "      <td>In response to your recent comment on my talk ...</td>\n",
       "      <td>in respons to your recent comment on my talk p...</td>\n",
       "      <td>1</td>\n",
       "      <td>0.962139</td>\n",
       "      <td>0.037861</td>\n",
       "    </tr>\n",
       "    <tr>\n",
       "      <th>2571</th>\n",
       "      <td>I CANNOT BELIEVE THIS WHAT THE #@@%K\\nif you c...</td>\n",
       "      <td>i cannot believ this what the k if you continu...</td>\n",
       "      <td>1</td>\n",
       "      <td>0.961187</td>\n",
       "      <td>0.038813</td>\n",
       "    </tr>\n",
       "    <tr>\n",
       "      <th>2631</th>\n",
       "      <td>I'm sure you eat alot of tube steak</td>\n",
       "      <td>im sure you eat alot of tube steak</td>\n",
       "      <td>1</td>\n",
       "      <td>0.902785</td>\n",
       "      <td>0.097215</td>\n",
       "    </tr>\n",
       "    <tr>\n",
       "      <th>2706</th>\n",
       "      <td>Atreus \\nWhy don't you want information releva...</td>\n",
       "      <td>atreus whi dont you want inform relev to atreu...</td>\n",
       "      <td>1</td>\n",
       "      <td>0.960472</td>\n",
       "      <td>0.039528</td>\n",
       "    </tr>\n",
       "    <tr>\n",
       "      <th>3166</th>\n",
       "      <td>\"\\n\\nIt's a stupid project.\\n\\nWikipedia shoul...</td>\n",
       "      <td>it a stupid project wikipedia should be a hub ...</td>\n",
       "      <td>1</td>\n",
       "      <td>0.942751</td>\n",
       "      <td>0.057249</td>\n",
       "    </tr>\n",
       "    <tr>\n",
       "      <th>3321</th>\n",
       "      <td>UNBELIEVABLE you went ahead and removed the se...</td>\n",
       "      <td>unbeliev you went ahead and remov the section ...</td>\n",
       "      <td>1</td>\n",
       "      <td>0.965129</td>\n",
       "      <td>0.034871</td>\n",
       "    </tr>\n",
       "    <tr>\n",
       "      <th>4080</th>\n",
       "      <td>That trashy mikkalai started to revert my own ...</td>\n",
       "      <td>that trashi mikkalai start to revert my own wo...</td>\n",
       "      <td>1</td>\n",
       "      <td>0.955326</td>\n",
       "      <td>0.044674</td>\n",
       "    </tr>\n",
       "    <tr>\n",
       "      <th>4295</th>\n",
       "      <td>\"\\n\\nYou abused your authority by blocking me ...</td>\n",
       "      <td>you abus your author by block me improp then y...</td>\n",
       "      <td>1</td>\n",
       "      <td>0.933978</td>\n",
       "      <td>0.066022</td>\n",
       "    </tr>\n",
       "    <tr>\n",
       "      <th>4314</th>\n",
       "      <td>.\\n\\nThis whole conversation is rediculous as ...</td>\n",
       "      <td>this whole convers is redicul as the color on ...</td>\n",
       "      <td>1</td>\n",
       "      <td>0.964462</td>\n",
       "      <td>0.035538</td>\n",
       "    </tr>\n",
       "    <tr>\n",
       "      <th>4650</th>\n",
       "      <td>to Donate to this group of buffoons</td>\n",
       "      <td>to donat to this group of buffoon</td>\n",
       "      <td>1</td>\n",
       "      <td>0.968884</td>\n",
       "      <td>0.031116</td>\n",
       "    </tr>\n",
       "    <tr>\n",
       "      <th>4791</th>\n",
       "      <td>IT IS NOT A TKO YOU IDIOT!!!YOU HAVE NO IDEA W...</td>\n",
       "      <td>it is not a tko you idiotyou have no idea what...</td>\n",
       "      <td>1</td>\n",
       "      <td>0.942114</td>\n",
       "      <td>0.057886</td>\n",
       "    </tr>\n",
       "    <tr>\n",
       "      <th>5020</th>\n",
       "      <td>give a **** on them. I inserted</td>\n",
       "      <td>give a on them i insert</td>\n",
       "      <td>1</td>\n",
       "      <td>0.908903</td>\n",
       "      <td>0.091097</td>\n",
       "    </tr>\n",
       "    <tr>\n",
       "      <th>5025</th>\n",
       "      <td>You're very foolish you know that - right if y...</td>\n",
       "      <td>your veri foolish you know that right if you w...</td>\n",
       "      <td>1</td>\n",
       "      <td>0.947877</td>\n",
       "      <td>0.052123</td>\n",
       "    </tr>\n",
       "    <tr>\n",
       "      <th>5336</th>\n",
       "      <td>That's the most ridiculous thing I've ever hea...</td>\n",
       "      <td>that the most ridicul thing ive ever heard let...</td>\n",
       "      <td>1</td>\n",
       "      <td>0.983981</td>\n",
       "      <td>0.016019</td>\n",
       "    </tr>\n",
       "    <tr>\n",
       "      <th>...</th>\n",
       "      <td>...</td>\n",
       "      <td>...</td>\n",
       "      <td>...</td>\n",
       "      <td>...</td>\n",
       "      <td>...</td>\n",
       "    </tr>\n",
       "    <tr>\n",
       "      <th>155771</th>\n",
       "      <td>And another thing, stay off Macedonians (ethni...</td>\n",
       "      <td>and anoth thing stay off macedonian ethnic gro...</td>\n",
       "      <td>1</td>\n",
       "      <td>0.918946</td>\n",
       "      <td>0.081054</td>\n",
       "    </tr>\n",
       "    <tr>\n",
       "      <th>155796</th>\n",
       "      <td>KO\\n\\nIt might also be a good idea not to taun...</td>\n",
       "      <td>ko it might also be a good idea not to taunt a...</td>\n",
       "      <td>1</td>\n",
       "      <td>0.924809</td>\n",
       "      <td>0.075191</td>\n",
       "    </tr>\n",
       "    <tr>\n",
       "      <th>156082</th>\n",
       "      <td>Wow you play video games and you're nerdy... g...</td>\n",
       "      <td>wow you play video game and your nerdi great t...</td>\n",
       "      <td>1</td>\n",
       "      <td>0.926034</td>\n",
       "      <td>0.073966</td>\n",
       "    </tr>\n",
       "    <tr>\n",
       "      <th>156118</th>\n",
       "      <td>_   ANYWAY, GOTTA MAKE OUT ANOTHER ACCOUNT IF ...</td>\n",
       "      <td>_ anyway gotta make out anoth account if i fee...</td>\n",
       "      <td>1</td>\n",
       "      <td>0.915613</td>\n",
       "      <td>0.084387</td>\n",
       "    </tr>\n",
       "    <tr>\n",
       "      <th>156205</th>\n",
       "      <td>\"\\n\\n Name one time where I have ignored them....</td>\n",
       "      <td>name one time where i have ignor them show me ...</td>\n",
       "      <td>1</td>\n",
       "      <td>0.977568</td>\n",
       "      <td>0.022432</td>\n",
       "    </tr>\n",
       "    <tr>\n",
       "      <th>156595</th>\n",
       "      <td>Dave Wain says so the moderator thinks that an...</td>\n",
       "      <td>dave wain say so the moder think that anyon ca...</td>\n",
       "      <td>1</td>\n",
       "      <td>0.928432</td>\n",
       "      <td>0.071568</td>\n",
       "    </tr>\n",
       "    <tr>\n",
       "      <th>156634</th>\n",
       "      <td>\"\\n\\nShit, man.......\\nPlease study WP:A and n...</td>\n",
       "      <td>shit man pleas studi wpa and note the standard...</td>\n",
       "      <td>1</td>\n",
       "      <td>0.933926</td>\n",
       "      <td>0.066074</td>\n",
       "    </tr>\n",
       "    <tr>\n",
       "      <th>156696</th>\n",
       "      <td>Perhaps you are worth less than a cockroach. Y...</td>\n",
       "      <td>perhap you are worth less than a cockroach ya ...</td>\n",
       "      <td>1</td>\n",
       "      <td>0.960485</td>\n",
       "      <td>0.039515</td>\n",
       "    </tr>\n",
       "    <tr>\n",
       "      <th>156738</th>\n",
       "      <td>Calling you a dildo is not vandalism (seriousl...</td>\n",
       "      <td>call you a dildo is not vandal serious go look...</td>\n",
       "      <td>1</td>\n",
       "      <td>0.926815</td>\n",
       "      <td>0.073185</td>\n",
       "    </tr>\n",
       "    <tr>\n",
       "      <th>156785</th>\n",
       "      <td>ONLY A FASCIST WOULD TAKE AWAY THE ABILITY OF ...</td>\n",
       "      <td>onli a fascist would take away the abil of a p...</td>\n",
       "      <td>1</td>\n",
       "      <td>0.919106</td>\n",
       "      <td>0.080894</td>\n",
       "    </tr>\n",
       "    <tr>\n",
       "      <th>156948</th>\n",
       "      <td>\")\\n\\nTrumpet, I certainly will let someone wh...</td>\n",
       "      <td>trumpet i certain will let someon whose post m...</td>\n",
       "      <td>1</td>\n",
       "      <td>0.973844</td>\n",
       "      <td>0.026156</td>\n",
       "    </tr>\n",
       "    <tr>\n",
       "      <th>157082</th>\n",
       "      <td>Watch out for this guy below, he's so bossy an...</td>\n",
       "      <td>watch out for this guy below hes so bossi and ...</td>\n",
       "      <td>1</td>\n",
       "      <td>0.949888</td>\n",
       "      <td>0.050112</td>\n",
       "    </tr>\n",
       "    <tr>\n",
       "      <th>157346</th>\n",
       "      <td>He is a Rapist!!!!!\\nPlease edit the article t...</td>\n",
       "      <td>he is a rapist pleas edit the articl to includ...</td>\n",
       "      <td>1</td>\n",
       "      <td>0.990406</td>\n",
       "      <td>0.009594</td>\n",
       "    </tr>\n",
       "    <tr>\n",
       "      <th>157478</th>\n",
       "      <td>So why is it you alone who is right and the ot...</td>\n",
       "      <td>so whi is it you alon who is right and the oth...</td>\n",
       "      <td>1</td>\n",
       "      <td>0.976220</td>\n",
       "      <td>0.023780</td>\n",
       "    </tr>\n",
       "    <tr>\n",
       "      <th>157484</th>\n",
       "      <td>Bullshit=\\nThere was no violation, you removed...</td>\n",
       "      <td>bullshit there was no violat you remov factual...</td>\n",
       "      <td>1</td>\n",
       "      <td>0.960471</td>\n",
       "      <td>0.039529</td>\n",
       "    </tr>\n",
       "    <tr>\n",
       "      <th>157538</th>\n",
       "      <td>DONT MESS WITH AAAAAAAAAAAAAAAAAAAAAAAAAAAAAAA...</td>\n",
       "      <td>dont mess with aaaaaaaaaaaaaaaaaaaaaaaaaaaaaaa...</td>\n",
       "      <td>1</td>\n",
       "      <td>0.921388</td>\n",
       "      <td>0.078612</td>\n",
       "    </tr>\n",
       "    <tr>\n",
       "      <th>157585</th>\n",
       "      <td>nope... \\n\\nNO i do NOT fucing think so!!!!!\\n...</td>\n",
       "      <td>nope no i do not fuce think so no way you will...</td>\n",
       "      <td>1</td>\n",
       "      <td>0.938076</td>\n",
       "      <td>0.061924</td>\n",
       "    </tr>\n",
       "    <tr>\n",
       "      <th>157694</th>\n",
       "      <td>tno thanks mate p i s s offe</td>\n",
       "      <td>tno thank mate p i s s off</td>\n",
       "      <td>1</td>\n",
       "      <td>0.923323</td>\n",
       "      <td>0.076677</td>\n",
       "    </tr>\n",
       "    <tr>\n",
       "      <th>157835</th>\n",
       "      <td>You must be a sock. Your request was your only...</td>\n",
       "      <td>you must be a sock your request was your onli ...</td>\n",
       "      <td>1</td>\n",
       "      <td>0.969198</td>\n",
       "      <td>0.030802</td>\n",
       "    </tr>\n",
       "    <tr>\n",
       "      <th>157900</th>\n",
       "      <td>1. You are lying. Post the sentence where it s...</td>\n",
       "      <td>1 you are lie post the sentenc where it say 33...</td>\n",
       "      <td>1</td>\n",
       "      <td>0.916644</td>\n",
       "      <td>0.083356</td>\n",
       "    </tr>\n",
       "    <tr>\n",
       "      <th>157903</th>\n",
       "      <td>\":::: To User:Sennen goroshi: Well, you could ...</td>\n",
       "      <td>to usersennen goroshi well you could have at l...</td>\n",
       "      <td>1</td>\n",
       "      <td>0.925286</td>\n",
       "      <td>0.074714</td>\n",
       "    </tr>\n",
       "    <tr>\n",
       "      <th>157938</th>\n",
       "      <td>glad i dont read your bible \\n\\nyou have a mem...</td>\n",
       "      <td>glad i dont read your bibl you have a member o...</td>\n",
       "      <td>1</td>\n",
       "      <td>0.929310</td>\n",
       "      <td>0.070690</td>\n",
       "    </tr>\n",
       "    <tr>\n",
       "      <th>158006</th>\n",
       "      <td>Mr. DVdm, you are the rudest person I've dealt...</td>\n",
       "      <td>mr dvdm you are the rudest person ive dealt wi...</td>\n",
       "      <td>1</td>\n",
       "      <td>0.954779</td>\n",
       "      <td>0.045221</td>\n",
       "    </tr>\n",
       "    <tr>\n",
       "      <th>158148</th>\n",
       "      <td>\"\\n wow, you sure do \"\"talk\"\", \"\"talk:\"\", \"\"Ta...</td>\n",
       "      <td>wow you sure do talk talk talk alot how about ...</td>\n",
       "      <td>1</td>\n",
       "      <td>0.960051</td>\n",
       "      <td>0.039949</td>\n",
       "    </tr>\n",
       "    <tr>\n",
       "      <th>158211</th>\n",
       "      <td>IT WAS METAPHORICAL, BLOCKHEAD.  IN A SENSE, I...</td>\n",
       "      <td>it was metaphor blockhead in a sens it was als...</td>\n",
       "      <td>1</td>\n",
       "      <td>0.939231</td>\n",
       "      <td>0.060769</td>\n",
       "    </tr>\n",
       "    <tr>\n",
       "      <th>158249</th>\n",
       "      <td>Single-issue nut-jobs \\n\\nFor some reason, thi...</td>\n",
       "      <td>singleissu nutjob for some reason this page is...</td>\n",
       "      <td>1</td>\n",
       "      <td>0.900643</td>\n",
       "      <td>0.099357</td>\n",
       "    </tr>\n",
       "    <tr>\n",
       "      <th>158360</th>\n",
       "      <td>please do  not use slang terms. \\n\\ndon't you ...</td>\n",
       "      <td>pleas do not use slang term dont you ever ever...</td>\n",
       "      <td>1</td>\n",
       "      <td>0.941423</td>\n",
       "      <td>0.058577</td>\n",
       "    </tr>\n",
       "    <tr>\n",
       "      <th>158587</th>\n",
       "      <td>List of political slurs \\n\\nI almost did that ...</td>\n",
       "      <td>list of polit slur i almost did that myself bu...</td>\n",
       "      <td>1</td>\n",
       "      <td>0.976826</td>\n",
       "      <td>0.023174</td>\n",
       "    </tr>\n",
       "    <tr>\n",
       "      <th>158694</th>\n",
       "      <td>St. Joseph NHS of Batangas NEVER TOPPED the NA...</td>\n",
       "      <td>st joseph nhs of batanga never top the nat ple...</td>\n",
       "      <td>1</td>\n",
       "      <td>0.907486</td>\n",
       "      <td>0.092514</td>\n",
       "    </tr>\n",
       "    <tr>\n",
       "      <th>158984</th>\n",
       "      <td>hi,idiot, why are you delate my talking, just ...</td>\n",
       "      <td>hiidiot whi are you delat my talk just come ou...</td>\n",
       "      <td>1</td>\n",
       "      <td>0.963482</td>\n",
       "      <td>0.036518</td>\n",
       "    </tr>\n",
       "  </tbody>\n",
       "</table>\n",
       "<p>976 rows × 5 columns</p>\n",
       "</div>"
      ],
      "text/plain": [
       "                                             comment_text  \\\n",
       "12      Hey... what is it..\\n@ | talk .\\nWhat is it......   \n",
       "151     \"\\n\\nSORRY PUCK BUT NO ONE EVER SAID DICK WAS ...   \n",
       "159     \"\\n\\nUNBLOCK ME OR I'LL GET MY LAWYERS ON TO Y...   \n",
       "278     Hey why you are spreading misconceptions and t...   \n",
       "330     God is dead\\nI don't mean to startle anyone bu...   \n",
       "503     I don't care what you say here. I don't believ...   \n",
       "519     I can tell you what the argument is about here...   \n",
       "590     \"\\n\\n Another crap article \\nParrots what prom...   \n",
       "852                               P.S. Are you a /b/tard?   \n",
       "1165    \"\\n\\nSo threatening to try to have me banned f...   \n",
       "1588         AND ON TOP OF THAT  eh, you're not worth it.   \n",
       "1938    You're biased. I made it a point since I signe...   \n",
       "2034    What a deceptive little creature you are indee...   \n",
       "2225    Vandalism spree\\nYour vandalism spree is pitif...   \n",
       "2322    \"\\nMFNickster, I am not sure if you have ever ...   \n",
       "2378    Not really sure what the issue is here \\n\\nWha...   \n",
       "2494    In response to your recent comment on my talk ...   \n",
       "2571    I CANNOT BELIEVE THIS WHAT THE #@@%K\\nif you c...   \n",
       "2631                  I'm sure you eat alot of tube steak   \n",
       "2706    Atreus \\nWhy don't you want information releva...   \n",
       "3166    \"\\n\\nIt's a stupid project.\\n\\nWikipedia shoul...   \n",
       "3321    UNBELIEVABLE you went ahead and removed the se...   \n",
       "4080    That trashy mikkalai started to revert my own ...   \n",
       "4295    \"\\n\\nYou abused your authority by blocking me ...   \n",
       "4314    .\\n\\nThis whole conversation is rediculous as ...   \n",
       "4650                  to Donate to this group of buffoons   \n",
       "4791    IT IS NOT A TKO YOU IDIOT!!!YOU HAVE NO IDEA W...   \n",
       "5020                      give a **** on them. I inserted   \n",
       "5025    You're very foolish you know that - right if y...   \n",
       "5336    That's the most ridiculous thing I've ever hea...   \n",
       "...                                                   ...   \n",
       "155771  And another thing, stay off Macedonians (ethni...   \n",
       "155796  KO\\n\\nIt might also be a good idea not to taun...   \n",
       "156082  Wow you play video games and you're nerdy... g...   \n",
       "156118  _   ANYWAY, GOTTA MAKE OUT ANOTHER ACCOUNT IF ...   \n",
       "156205  \"\\n\\n Name one time where I have ignored them....   \n",
       "156595  Dave Wain says so the moderator thinks that an...   \n",
       "156634  \"\\n\\nShit, man.......\\nPlease study WP:A and n...   \n",
       "156696  Perhaps you are worth less than a cockroach. Y...   \n",
       "156738  Calling you a dildo is not vandalism (seriousl...   \n",
       "156785  ONLY A FASCIST WOULD TAKE AWAY THE ABILITY OF ...   \n",
       "156948  \")\\n\\nTrumpet, I certainly will let someone wh...   \n",
       "157082  Watch out for this guy below, he's so bossy an...   \n",
       "157346  He is a Rapist!!!!!\\nPlease edit the article t...   \n",
       "157478  So why is it you alone who is right and the ot...   \n",
       "157484  Bullshit=\\nThere was no violation, you removed...   \n",
       "157538  DONT MESS WITH AAAAAAAAAAAAAAAAAAAAAAAAAAAAAAA...   \n",
       "157585  nope... \\n\\nNO i do NOT fucing think so!!!!!\\n...   \n",
       "157694                       tno thanks mate p i s s offe   \n",
       "157835  You must be a sock. Your request was your only...   \n",
       "157900  1. You are lying. Post the sentence where it s...   \n",
       "157903  \":::: To User:Sennen goroshi: Well, you could ...   \n",
       "157938  glad i dont read your bible \\n\\nyou have a mem...   \n",
       "158006  Mr. DVdm, you are the rudest person I've dealt...   \n",
       "158148  \"\\n wow, you sure do \"\"talk\"\", \"\"talk:\"\", \"\"Ta...   \n",
       "158211  IT WAS METAPHORICAL, BLOCKHEAD.  IN A SENSE, I...   \n",
       "158249  Single-issue nut-jobs \\n\\nFor some reason, thi...   \n",
       "158360  please do  not use slang terms. \\n\\ndon't you ...   \n",
       "158587  List of political slurs \\n\\nI almost did that ...   \n",
       "158694  St. Joseph NHS of Batangas NEVER TOPPED the NA...   \n",
       "158984  hi,idiot, why are you delate my talking, just ...   \n",
       "\n",
       "                                          comment_stemmed  toxic  \\\n",
       "12      hey what is it talk what is it an exclus group...      1   \n",
       "151     sorri puck but no one ever said dick was numbe...      1   \n",
       "159     unblock me or ill get my lawyer on to you for ...      1   \n",
       "278     hey whi you are spread misconcept and tri to s...      1   \n",
       "330     god is dead i dont mean to startl anyon but go...      1   \n",
       "503     i dont care what you say here i dont believ on...      1   \n",
       "519     i can tell you what the argument is about here...      1   \n",
       "590     anoth crap articl parrot what promot websit of...      1   \n",
       "852                                   ps are you a btard       1   \n",
       "1165    so threaten to tri to have me ban for edit is ...      1   \n",
       "1588             and on top of that eh your not worth it       1   \n",
       "1938    your bias i made it a point sinc i sign up her...      1   \n",
       "2034    what a decept littl creatur you are inde assum...      1   \n",
       "2225    vandal spree your vandal spree is piti all thi...      1   \n",
       "2322    mfnickster i am not sure if you have ever had ...      1   \n",
       "2378    not realli sure what the issu is here what is ...      1   \n",
       "2494    in respons to your recent comment on my talk p...      1   \n",
       "2571    i cannot believ this what the k if you continu...      1   \n",
       "2631                  im sure you eat alot of tube steak       1   \n",
       "2706    atreus whi dont you want inform relev to atreu...      1   \n",
       "3166    it a stupid project wikipedia should be a hub ...      1   \n",
       "3321    unbeliev you went ahead and remov the section ...      1   \n",
       "4080    that trashi mikkalai start to revert my own wo...      1   \n",
       "4295    you abus your author by block me improp then y...      1   \n",
       "4314    this whole convers is redicul as the color on ...      1   \n",
       "4650                   to donat to this group of buffoon       1   \n",
       "4791    it is not a tko you idiotyou have no idea what...      1   \n",
       "5020                             give a on them i insert       1   \n",
       "5025    your veri foolish you know that right if you w...      1   \n",
       "5336    that the most ridicul thing ive ever heard let...      1   \n",
       "...                                                   ...    ...   \n",
       "155771  and anoth thing stay off macedonian ethnic gro...      1   \n",
       "155796  ko it might also be a good idea not to taunt a...      1   \n",
       "156082  wow you play video game and your nerdi great t...      1   \n",
       "156118  _ anyway gotta make out anoth account if i fee...      1   \n",
       "156205  name one time where i have ignor them show me ...      1   \n",
       "156595  dave wain say so the moder think that anyon ca...      1   \n",
       "156634  shit man pleas studi wpa and note the standard...      1   \n",
       "156696  perhap you are worth less than a cockroach ya ...      1   \n",
       "156738  call you a dildo is not vandal serious go look...      1   \n",
       "156785  onli a fascist would take away the abil of a p...      1   \n",
       "156948  trumpet i certain will let someon whose post m...      1   \n",
       "157082  watch out for this guy below hes so bossi and ...      1   \n",
       "157346  he is a rapist pleas edit the articl to includ...      1   \n",
       "157478  so whi is it you alon who is right and the oth...      1   \n",
       "157484  bullshit there was no violat you remov factual...      1   \n",
       "157538  dont mess with aaaaaaaaaaaaaaaaaaaaaaaaaaaaaaa...      1   \n",
       "157585  nope no i do not fuce think so no way you will...      1   \n",
       "157694                        tno thank mate p i s s off       1   \n",
       "157835  you must be a sock your request was your onli ...      1   \n",
       "157900  1 you are lie post the sentenc where it say 33...      1   \n",
       "157903  to usersennen goroshi well you could have at l...      1   \n",
       "157938  glad i dont read your bibl you have a member o...      1   \n",
       "158006  mr dvdm you are the rudest person ive dealt wi...      1   \n",
       "158148  wow you sure do talk talk talk alot how about ...      1   \n",
       "158211  it was metaphor blockhead in a sens it was als...      1   \n",
       "158249  singleissu nutjob for some reason this page is...      1   \n",
       "158360  pleas do not use slang term dont you ever ever...      1   \n",
       "158587  list of polit slur i almost did that myself bu...      1   \n",
       "158694  st joseph nhs of batanga never top the nat ple...      1   \n",
       "158984  hiidiot whi are you delat my talk just come ou...      1   \n",
       "\n",
       "        nontoxic_prob  toxic_prob  \n",
       "12           0.913592    0.086408  \n",
       "151          0.947546    0.052454  \n",
       "159          0.925851    0.074149  \n",
       "278          0.910281    0.089719  \n",
       "330          0.959458    0.040542  \n",
       "503          0.958807    0.041193  \n",
       "519          0.952018    0.047982  \n",
       "590          0.938979    0.061021  \n",
       "852          0.902286    0.097714  \n",
       "1165         0.953405    0.046595  \n",
       "1588         0.923885    0.076115  \n",
       "1938         0.983234    0.016766  \n",
       "2034         0.908818    0.091182  \n",
       "2225         0.960669    0.039331  \n",
       "2322         0.965041    0.034959  \n",
       "2378         0.946012    0.053988  \n",
       "2494         0.962139    0.037861  \n",
       "2571         0.961187    0.038813  \n",
       "2631         0.902785    0.097215  \n",
       "2706         0.960472    0.039528  \n",
       "3166         0.942751    0.057249  \n",
       "3321         0.965129    0.034871  \n",
       "4080         0.955326    0.044674  \n",
       "4295         0.933978    0.066022  \n",
       "4314         0.964462    0.035538  \n",
       "4650         0.968884    0.031116  \n",
       "4791         0.942114    0.057886  \n",
       "5020         0.908903    0.091097  \n",
       "5025         0.947877    0.052123  \n",
       "5336         0.983981    0.016019  \n",
       "...               ...         ...  \n",
       "155771       0.918946    0.081054  \n",
       "155796       0.924809    0.075191  \n",
       "156082       0.926034    0.073966  \n",
       "156118       0.915613    0.084387  \n",
       "156205       0.977568    0.022432  \n",
       "156595       0.928432    0.071568  \n",
       "156634       0.933926    0.066074  \n",
       "156696       0.960485    0.039515  \n",
       "156738       0.926815    0.073185  \n",
       "156785       0.919106    0.080894  \n",
       "156948       0.973844    0.026156  \n",
       "157082       0.949888    0.050112  \n",
       "157346       0.990406    0.009594  \n",
       "157478       0.976220    0.023780  \n",
       "157484       0.960471    0.039529  \n",
       "157538       0.921388    0.078612  \n",
       "157585       0.938076    0.061924  \n",
       "157694       0.923323    0.076677  \n",
       "157835       0.969198    0.030802  \n",
       "157900       0.916644    0.083356  \n",
       "157903       0.925286    0.074714  \n",
       "157938       0.929310    0.070690  \n",
       "158006       0.954779    0.045221  \n",
       "158148       0.960051    0.039949  \n",
       "158211       0.939231    0.060769  \n",
       "158249       0.900643    0.099357  \n",
       "158360       0.941423    0.058577  \n",
       "158587       0.976826    0.023174  \n",
       "158694       0.907486    0.092514  \n",
       "158984       0.963482    0.036518  \n",
       "\n",
       "[976 rows x 5 columns]"
      ]
     },
     "execution_count": 324,
     "metadata": {},
     "output_type": "execute_result"
    }
   ],
   "source": [
    "# Toxic, but low predicted probability of being toxic\n",
    "pred[(pred['toxic']==1) & (pred['toxic_prob']<.1)]"
   ]
  },
  {
   "cell_type": "markdown",
   "metadata": {},
   "source": [
    "The above are toxic comments to be predicted as nontoxic due to their low predicted probability of being toxic.  As I saw in the words with close zero coefficients, there are again some disguised bad words. Some bad words were combined with neighboring words when punctuations are removed. For example, \"hi,idiot\" and \"IDIOT!!!YOU\" were transformed into hiidiot and idiotyou, respectively and \"idiot\" was actually a word with the second highest coefficient in the logistic regression. I believe taking care of theses words further can improve the performance."
   ]
  },
  {
   "cell_type": "code",
   "execution_count": null,
   "metadata": {},
   "outputs": [],
   "source": []
  },
  {
   "cell_type": "markdown",
   "metadata": {},
   "source": [
    "<a id= 'Section8'></a>\n",
    "## 8. Summary so far\n",
    "\n",
    "#### Data\n",
    "- From a Kaggle Competition (by Jigsaw and Google)\n",
    "- Wikipedia comments labeled by human raters for toxic behavior\n",
    "- 6 types of toxicity (toxic, severe toxic, obscene, threat, insult, identity_hate)\n",
    "\n",
    "#### Goal of this project\n",
    "Create a model that predicts a probability of each type of toxicity for each comment\n",
    "\n",
    "#### EDA\n",
    "- 159,571 training comments each with id and 6 types of toxicity labels\n",
    "- 153,164 test comments with id\n",
    "- Proportion for each type of toxicity (very unbalanced!!)\n",
    "  - Toxic         9.6 % \n",
    "  - Severe Toxic  1.0 %\n",
    "  - Obcene        5.5 %\n",
    "  - Threat        0.3 %\n",
    "  - Insult        4.9 %\n",
    "  - Identity_hate 0.9 %\n",
    "- Comment length from 6 to 5000 characters\n",
    "- No missing values\n",
    "- Ditributions of comment lengths were investigated\n",
    "- The comments with the maximum number of characters are toxic or nonsense\n",
    "\n",
    "#### Cleaning and Stemming \n",
    "- Steps for each doument:\n",
    "  - Remove punctuations \n",
    "  - Split each document to make a word list\n",
    "  - Stemming using SnowballStemmer(\"english\")\n",
    "  - Combine stemmed words back together\n",
    "- Used apply() function to apply the above steps to all documents\n",
    "\n",
    "#### TfidfVectorizer \n",
    "- __Vectorizer:__ convert a collection of text documents into a numerical matrix with 1 row per document and 1 column per token (e.g. word) by tokenizing, counting, normalizing\n",
    "\n",
    "- __Tf-idf__ (term frequency inverse document frequency) weighting: frequency of a term in a given document multiplied by log((1+#documents)/(1+__#documents containing the term__)) + 1\n",
    "\n",
    "- __Hyper-parameters:__\n",
    "  - analyzer: {'word','char'}\n",
    "  - stop_words: None, string {'english'}, or list \n",
    "  - sublinear_tf: boolean for applying sublinear tf  scaling (replace tf with 1+log(tf) )\n",
    "  - token_pattern: regular expression denoting what constitutes a token e.g. r'\\w{1,}' for 1+ char words\n",
    "  - ngram_range: (min_n, max_n) e.g. (1,1), (1,2)\n",
    "  - max_features: build a vocabulary that only consider the top max_features ordered by tf across the corpus\n",
    "\n",
    "- __Tuned hyper-parameters for vectorizer:__\n",
    "  - token_pattern: 1+ and 2+ char words\n",
    "  - ngram_range: (1,1) and (1,2) \n",
    "\n",
    "- I used both train and test sets to fit the vectorizer and transfrom the sets separately.\n",
    "\n",
    "#### Logistic Regression \n",
    "- __Hyper-parameters tuned:__\n",
    "  - solver: 'liblinear' (default) vs. 'sag' (uses a Stochastic Average Gradient descent. faster than other solvers for large datasets). I found 'sag' is slightly better.\n",
    "  - C: Inverse of regularization strength (I used \"coarse to fine\" strategy) I found the best C value for each type of toxicity.\n",
    "\n",
    "- __GridSearchCV__ was for tuning, cross validation and stratified split. The split made training and developement sets from the given training set. The test set was given separately from Kaggle and was tested on the leaderboard. \n",
    "- __scoring:__ __'roc_auc'__ is used in the Kaggle competition, but AUC is not ideal for unbalanced classes. \n",
    " - __Average AUC on dev. set: .9799__ \n",
    "   - The best C is between .6 to 1.8 (different for each type of toxicity). \n",
    "   - The test set tested on the leaderboard gave a similar AUC score (.9745).\n",
    "   - C is higher for more unbalanced types of toxicity; less regularization is required for more unbalanced type.\n",
    "\n",
    "#### Coefficient and Error analysis\n",
    "- Words with high coefficients obtained by logistic regression are very toxic!\n",
    "- Many of Words with coefficients close to zero are also toxic. They are disguised by word concatenations or numbers similar to letters.\n",
    "- Error analysis also found some disguised bad words in the false negative comments and suggested possible improvements."
   ]
  },
  {
   "cell_type": "markdown",
   "metadata": {},
   "source": [
    "<a id= 'Section9'></a>\n",
    "## 9.  Future directions\n",
    "\n",
    "- I will try more complex algorithms and models. In particular, I will make predictions using word embedding + LSTM in Keras. \n",
    "- I will see if multi-task learning for multiple lables (6 by 1 vector label) is a possibility for a chosen model.\n",
    "- I want to try performance measures other than AUC since the data set is very unbalanced. The best average F1 score on the development set was only .56 even though C was tuned again for F1 (not included in this notebook). However, if another metric is used, I cannot utilize the test set which can be evaluated only by AUC on the Kaggle leaderboard. This is huge loss since the test set is as big as the training set."
   ]
  },
  {
   "cell_type": "code",
   "execution_count": null,
   "metadata": {},
   "outputs": [],
   "source": []
  }
 ],
 "metadata": {
  "anaconda-cloud": {},
  "kernelspec": {
   "display_name": "Python 3",
   "language": "python",
   "name": "python3"
  },
  "language_info": {
   "codemirror_mode": {
    "name": "ipython",
    "version": 3
   },
   "file_extension": ".py",
   "mimetype": "text/x-python",
   "name": "python",
   "nbconvert_exporter": "python",
   "pygments_lexer": "ipython3",
   "version": "3.6.4"
  }
 },
 "nbformat": 4,
 "nbformat_minor": 2
}
